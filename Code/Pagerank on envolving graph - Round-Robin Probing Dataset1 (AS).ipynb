{
 "cells": [
  {
   "cell_type": "code",
   "execution_count": 1,
   "metadata": {},
   "outputs": [],
   "source": [
    "import networkx as nx\n",
    "import numpy as np\n",
    "import random\n",
    "import os\n",
    "import matplotlib.pyplot as plt\n",
    "import time\n",
    "from collections import Counter\n",
    "%matplotlib inline \n",
    "from tqdm import tqdm\n",
    "\n",
    "# parameters\n",
    "\n",
    "alpha = 0.15\n",
    "a = [1, 2, 4]\n",
    "\n",
    "def read_folder() : # ok\n",
    "    all_files = sorted(os.listdir(path = \"/Users/danielchoy1314/Downloads/as-733\"))\n",
    "    # print(all_files)\n",
    "    return all_files\n",
    "\n",
    "def envolving_graph(file):    \n",
    "    f = open(file)\n",
    "    G = nx.Graph()\n",
    "\n",
    "    n_lines = len(f.readlines())\n",
    "    # print(n_lines)\n",
    "    f = open(file)\n",
    "    line = f.readline()\n",
    "    # print(line)\n",
    "    line = f.readline()\n",
    "    # print(line)\n",
    "    line = f.readline()\n",
    "    # print(line)\n",
    "    line = f.readline()\n",
    "    # print(line)\n",
    "\n",
    "    for i in range(4, n_lines) :\n",
    "        line = f.readline()      \n",
    "        line = line[:-1]\n",
    "        line = line.split(\"\\t\")\n",
    "        a = int(line[0])\n",
    "        b = int(line[1])\n",
    "        G.add_edge(a,b)\n",
    "\n",
    "    f.close()\n",
    "    return G\n",
    "\n",
    "def current_graph(file) :\n",
    "    f = open(file)\n",
    "    r = nx.Graph()\n",
    "\n",
    "    n_lines = len(f.readlines())\n",
    "    # print(n_lines)\n",
    "    f = open(file)\n",
    "    line = f.readline()\n",
    "    # print(line)\n",
    "    line = f.readline()\n",
    "    # print(line)\n",
    "    line = f.readline()\n",
    "    # print(line)\n",
    "    line = f.readline()\n",
    "    # print(line)\n",
    "\n",
    "    for i in range(4, n_lines):\n",
    "        line = f.readline()\n",
    "        line = line[:-1]\n",
    "        line = line.split(\"\\t\")\n",
    "        a = int(line[0])\n",
    "        b = int(line[1])\n",
    "        r.add_edge(a, b)\n",
    "        \n",
    "    f.close()\n",
    "    return r\n",
    "\n",
    "def update_graph(graph, newnode) :\n",
    "    G = graph\n",
    "    E = list(G.edges())\n",
    "\n",
    "    edge = random.choice(E)\n",
    "    u = edge[0]\n",
    "    v = edge[1]\n",
    "\n",
    "    # change of head\n",
    "    G.remove_edge(u,v)\n",
    "    u = newnode\n",
    "    G.add_edge(u, v)\n",
    "\n",
    "    return G # new graph\n",
    "\n",
    "def RoundRobin_probing(node_list, current_graph, count) :\n",
    "    loopnode = -1\n",
    "    while True :\n",
    "        loopnode = node_list[count]\n",
    "        count += 1\n",
    "        if loopnode == node_list[-1] :\n",
    "            count = 0\n",
    "        if current_graph.has_node(loopnode):\n",
    "            break\n",
    "\n",
    "    return loopnode, count\n",
    "\n",
    "def PowerIteration(graph) :\n",
    "    V = list(graph.nodes())\n",
    "    n = len(V)\n",
    "    for i in range(len(V)):\n",
    "        v = V[i]\n",
    "        graph.nodes[v][\"old_pi\"] = 1/n\n",
    "        graph.nodes[v][\"new_pi\"] = 1/n\n",
    "\n",
    "    # power iterations\n",
    "    iterations_count = 0\n",
    "    while True:\n",
    "        iterations_count += 1  # (pi(1)->pi(t))\n",
    "        # iterate\n",
    "        for i in range(len(V)):\n",
    "            v = V[i]\n",
    "            graph.nodes[v][\"old_pi\"] = graph.nodes[v][\"new_pi\"]\n",
    "            graph.nodes[v][\"new_pi\"] = 0\n",
    "\n",
    "        for i in range(len(V)):\n",
    "            v = V[i]\n",
    "            temp = 0\n",
    "            for u in graph.neighbors(v):\n",
    "                temp += graph.nodes[u][\"old_pi\"] / len(list(graph.neighbors(u)))\n",
    "            graph.nodes[v][\"new_pi\"] = (1 - alpha) * temp + alpha / n\n",
    "\n",
    "        # check convergence\n",
    "        tol = 0\n",
    "        for i in range(len(V)):\n",
    "            v = V[i]\n",
    "            tol += np.abs(graph.nodes[v][\"old_pi\"] - graph.nodes[v][\"new_pi\"])\n",
    "\n",
    "        if tol < 1e-9:\n",
    "            # print(\"convergence\")\n",
    "            break\n",
    "\n",
    "    # set an attribute true pagerank pi to all nodes\n",
    "\n",
    "    pagerank = {}\n",
    "    for i in range(len(V)):\n",
    "        v = V[i]\n",
    "        pagerank[v] = graph.nodes[v][\"new_pi\"]\n",
    "        graph.nodes[v][\"real.pi\"] = graph.nodes[v][\"new_pi\"]\n",
    "\n",
    "    return pagerank\n",
    "\n",
    "def L_error(true_pi, estimated_pi) :\n",
    "    # L1 = sum of (estimated_pi - true_pi) at any time step t\n",
    "    # Linfinity = max error of pagerank\n",
    "    \n",
    "    list = []\n",
    "    for key in true_pi:\n",
    "        if key not in list:\n",
    "            list.append(key)\n",
    "\n",
    "    for key in estimated_pi:\n",
    "        if key not in list:\n",
    "            list.append(key)\n",
    "     \n",
    "    check= len(set(list)) == len(list)\n",
    "    \n",
    "    if(check) : # whether all distinct node\n",
    "        print(\"True\")\n",
    "    else :\n",
    "        print(\"false\")\n",
    "        \n",
    "    # print(true_pi[list[1]])\n",
    "    # print(estimated_pi[list[1]])\n",
    "    # print(list[1])\n",
    "    # print(len(list))    \n",
    "    result = np.zeros(len(list))\n",
    "\n",
    "    # print(estimated_pi(list[1]))\n",
    "    # print(len(list))\n",
    "    \n",
    "    count = 0\n",
    "    for i in range(len(list)) :\n",
    "        if((list[i] in estimated_pi) and (list[i] in true_pi )) :\n",
    "            result[i] = abs((estimated_pi[list[i]])-(true_pi[list[i]]))          \n",
    "        elif ((list[i] in estimated_pi) and (list[i] not in true_pi)) :\n",
    "            result[i] = estimated_pi[list[i]]            \n",
    "        else :\n",
    "            result[i] = true_pi[list[i]] \n",
    "        count+=result[i]\n",
    "        \n",
    "    # print(count)\n",
    "    # print(max(result))\n",
    "    return count , max(result)\n"
   ]
  },
  {
   "cell_type": "code",
   "execution_count": 2,
   "metadata": {},
   "outputs": [
    {
     "name": "stderr",
     "output_type": "stream",
     "text": [
      "Loading…:   0%|                          | 1/732 [00:05<1:10:30,  5.79s/it]"
     ]
    },
    {
     "name": "stdout",
     "output_type": "stream",
     "text": [
      "True\n"
     ]
    },
    {
     "name": "stderr",
     "output_type": "stream",
     "text": [
      "Loading…:   0%|                          | 2/732 [00:12<1:12:08,  5.93s/it]"
     ]
    },
    {
     "name": "stdout",
     "output_type": "stream",
     "text": [
      "True\n"
     ]
    },
    {
     "name": "stderr",
     "output_type": "stream",
     "text": [
      "Loading…:   0%|                          | 3/732 [00:18<1:13:15,  6.03s/it]"
     ]
    },
    {
     "name": "stdout",
     "output_type": "stream",
     "text": [
      "True\n"
     ]
    },
    {
     "name": "stderr",
     "output_type": "stream",
     "text": [
      "Loading…:   1%|▏                         | 4/732 [00:24<1:13:59,  6.10s/it]"
     ]
    },
    {
     "name": "stdout",
     "output_type": "stream",
     "text": [
      "True\n"
     ]
    },
    {
     "name": "stderr",
     "output_type": "stream",
     "text": [
      "Loading…:   1%|▏                         | 5/732 [00:29<1:10:13,  5.80s/it]"
     ]
    },
    {
     "name": "stdout",
     "output_type": "stream",
     "text": [
      "True\n"
     ]
    },
    {
     "name": "stderr",
     "output_type": "stream",
     "text": [
      "Loading…:   1%|▏                         | 6/732 [00:36<1:13:59,  6.11s/it]"
     ]
    },
    {
     "name": "stdout",
     "output_type": "stream",
     "text": [
      "True\n"
     ]
    },
    {
     "name": "stderr",
     "output_type": "stream",
     "text": [
      "Loading…:   1%|▏                         | 7/732 [00:43<1:17:10,  6.39s/it]"
     ]
    },
    {
     "name": "stdout",
     "output_type": "stream",
     "text": [
      "True\n"
     ]
    },
    {
     "name": "stderr",
     "output_type": "stream",
     "text": [
      "Loading…:   1%|▎                         | 8/732 [00:51<1:24:01,  6.96s/it]"
     ]
    },
    {
     "name": "stdout",
     "output_type": "stream",
     "text": [
      "True\n"
     ]
    },
    {
     "name": "stderr",
     "output_type": "stream",
     "text": [
      "Loading…:   1%|▎                         | 9/732 [00:59<1:27:33,  7.27s/it]"
     ]
    },
    {
     "name": "stdout",
     "output_type": "stream",
     "text": [
      "True\n"
     ]
    },
    {
     "name": "stderr",
     "output_type": "stream",
     "text": [
      "Loading…:   1%|▎                        | 10/732 [01:07<1:29:06,  7.40s/it]"
     ]
    },
    {
     "name": "stdout",
     "output_type": "stream",
     "text": [
      "True\n"
     ]
    },
    {
     "name": "stderr",
     "output_type": "stream",
     "text": [
      "Loading…:   2%|▍                        | 11/732 [01:14<1:26:07,  7.17s/it]"
     ]
    },
    {
     "name": "stdout",
     "output_type": "stream",
     "text": [
      "True\n"
     ]
    },
    {
     "name": "stderr",
     "output_type": "stream",
     "text": [
      "Loading…:   2%|▍                        | 12/732 [01:20<1:21:17,  6.77s/it]"
     ]
    },
    {
     "name": "stdout",
     "output_type": "stream",
     "text": [
      "True\n"
     ]
    },
    {
     "name": "stderr",
     "output_type": "stream",
     "text": [
      "Loading…:   2%|▍                        | 13/732 [01:26<1:20:37,  6.73s/it]"
     ]
    },
    {
     "name": "stdout",
     "output_type": "stream",
     "text": [
      "True\n"
     ]
    },
    {
     "name": "stderr",
     "output_type": "stream",
     "text": [
      "Loading…:   2%|▍                        | 14/732 [01:32<1:17:16,  6.46s/it]"
     ]
    },
    {
     "name": "stdout",
     "output_type": "stream",
     "text": [
      "True\n"
     ]
    },
    {
     "name": "stderr",
     "output_type": "stream",
     "text": [
      "Loading…:   2%|▌                        | 15/732 [01:38<1:14:36,  6.24s/it]"
     ]
    },
    {
     "name": "stdout",
     "output_type": "stream",
     "text": [
      "True\n"
     ]
    },
    {
     "name": "stderr",
     "output_type": "stream",
     "text": [
      "Loading…:   2%|▌                        | 16/732 [01:43<1:12:06,  6.04s/it]"
     ]
    },
    {
     "name": "stdout",
     "output_type": "stream",
     "text": [
      "True\n"
     ]
    },
    {
     "name": "stderr",
     "output_type": "stream",
     "text": [
      "Loading…:   2%|▌                        | 17/732 [01:49<1:10:47,  5.94s/it]"
     ]
    },
    {
     "name": "stdout",
     "output_type": "stream",
     "text": [
      "True\n"
     ]
    },
    {
     "name": "stderr",
     "output_type": "stream",
     "text": [
      "Loading…:   2%|▌                        | 18/732 [01:55<1:09:20,  5.83s/it]"
     ]
    },
    {
     "name": "stdout",
     "output_type": "stream",
     "text": [
      "True\n"
     ]
    },
    {
     "name": "stderr",
     "output_type": "stream",
     "text": [
      "Loading…:   3%|▋                        | 19/732 [02:00<1:08:33,  5.77s/it]"
     ]
    },
    {
     "name": "stdout",
     "output_type": "stream",
     "text": [
      "True\n"
     ]
    },
    {
     "name": "stderr",
     "output_type": "stream",
     "text": [
      "Loading…:   3%|▋                        | 20/732 [02:06<1:07:55,  5.72s/it]"
     ]
    },
    {
     "name": "stdout",
     "output_type": "stream",
     "text": [
      "True\n"
     ]
    },
    {
     "name": "stderr",
     "output_type": "stream",
     "text": [
      "Loading…:   3%|▋                        | 21/732 [02:12<1:07:46,  5.72s/it]"
     ]
    },
    {
     "name": "stdout",
     "output_type": "stream",
     "text": [
      "True\n"
     ]
    },
    {
     "name": "stderr",
     "output_type": "stream",
     "text": [
      "Loading…:   3%|▊                        | 22/732 [02:17<1:07:57,  5.74s/it]"
     ]
    },
    {
     "name": "stdout",
     "output_type": "stream",
     "text": [
      "True\n"
     ]
    },
    {
     "name": "stderr",
     "output_type": "stream",
     "text": [
      "Loading…:   3%|▊                        | 23/732 [02:24<1:10:01,  5.93s/it]"
     ]
    },
    {
     "name": "stdout",
     "output_type": "stream",
     "text": [
      "True\n"
     ]
    },
    {
     "name": "stderr",
     "output_type": "stream",
     "text": [
      "Loading…:   3%|▊                        | 24/732 [02:30<1:10:36,  5.98s/it]"
     ]
    },
    {
     "name": "stdout",
     "output_type": "stream",
     "text": [
      "True\n"
     ]
    },
    {
     "name": "stderr",
     "output_type": "stream",
     "text": [
      "Loading…:   3%|▊                        | 25/732 [02:35<1:09:32,  5.90s/it]"
     ]
    },
    {
     "name": "stdout",
     "output_type": "stream",
     "text": [
      "True\n"
     ]
    },
    {
     "name": "stderr",
     "output_type": "stream",
     "text": [
      "Loading…:   4%|▉                        | 26/732 [02:41<1:08:45,  5.84s/it]"
     ]
    },
    {
     "name": "stdout",
     "output_type": "stream",
     "text": [
      "True\n"
     ]
    },
    {
     "name": "stderr",
     "output_type": "stream",
     "text": [
      "Loading…:   4%|▉                        | 27/732 [02:47<1:08:09,  5.80s/it]"
     ]
    },
    {
     "name": "stdout",
     "output_type": "stream",
     "text": [
      "True\n"
     ]
    },
    {
     "name": "stderr",
     "output_type": "stream",
     "text": [
      "Loading…:   4%|▉                        | 28/732 [02:53<1:08:14,  5.82s/it]"
     ]
    },
    {
     "name": "stdout",
     "output_type": "stream",
     "text": [
      "True\n"
     ]
    },
    {
     "name": "stderr",
     "output_type": "stream",
     "text": [
      "Loading…:   4%|▉                        | 29/732 [02:58<1:07:50,  5.79s/it]"
     ]
    },
    {
     "name": "stdout",
     "output_type": "stream",
     "text": [
      "True\n"
     ]
    },
    {
     "name": "stderr",
     "output_type": "stream",
     "text": [
      "Loading…:   4%|█                        | 30/732 [03:05<1:09:58,  5.98s/it]"
     ]
    },
    {
     "name": "stdout",
     "output_type": "stream",
     "text": [
      "True\n"
     ]
    },
    {
     "name": "stderr",
     "output_type": "stream",
     "text": [
      "Loading…:   4%|█                        | 31/732 [03:11<1:09:07,  5.92s/it]"
     ]
    },
    {
     "name": "stdout",
     "output_type": "stream",
     "text": [
      "True\n"
     ]
    },
    {
     "name": "stderr",
     "output_type": "stream",
     "text": [
      "Loading…:   4%|█                        | 32/732 [03:16<1:08:16,  5.85s/it]"
     ]
    },
    {
     "name": "stdout",
     "output_type": "stream",
     "text": [
      "True\n"
     ]
    },
    {
     "name": "stderr",
     "output_type": "stream",
     "text": [
      "Loading…:   5%|█▏                       | 33/732 [03:22<1:07:43,  5.81s/it]"
     ]
    },
    {
     "name": "stdout",
     "output_type": "stream",
     "text": [
      "True\n"
     ]
    },
    {
     "name": "stderr",
     "output_type": "stream",
     "text": [
      "Loading…:   5%|█▏                       | 34/732 [03:29<1:09:51,  6.00s/it]"
     ]
    },
    {
     "name": "stdout",
     "output_type": "stream",
     "text": [
      "True\n"
     ]
    },
    {
     "name": "stderr",
     "output_type": "stream",
     "text": [
      "Loading…:   5%|█▏                       | 35/732 [03:35<1:11:21,  6.14s/it]"
     ]
    },
    {
     "name": "stdout",
     "output_type": "stream",
     "text": [
      "True\n"
     ]
    },
    {
     "name": "stderr",
     "output_type": "stream",
     "text": [
      "Loading…:   5%|█▏                       | 36/732 [03:41<1:10:48,  6.10s/it]"
     ]
    },
    {
     "name": "stdout",
     "output_type": "stream",
     "text": [
      "True\n"
     ]
    },
    {
     "name": "stderr",
     "output_type": "stream",
     "text": [
      "Loading…:   5%|█▎                       | 37/732 [03:46<1:08:07,  5.88s/it]"
     ]
    },
    {
     "name": "stdout",
     "output_type": "stream",
     "text": [
      "True\n"
     ]
    },
    {
     "name": "stderr",
     "output_type": "stream",
     "text": [
      "Loading…:   5%|█▎                       | 38/732 [03:52<1:06:15,  5.73s/it]"
     ]
    },
    {
     "name": "stdout",
     "output_type": "stream",
     "text": [
      "True\n"
     ]
    },
    {
     "name": "stderr",
     "output_type": "stream",
     "text": [
      "Loading…:   5%|█▎                       | 39/732 [03:57<1:04:57,  5.62s/it]"
     ]
    },
    {
     "name": "stdout",
     "output_type": "stream",
     "text": [
      "True\n"
     ]
    },
    {
     "name": "stderr",
     "output_type": "stream",
     "text": [
      "Loading…:   5%|█▎                       | 40/732 [04:03<1:04:11,  5.57s/it]"
     ]
    },
    {
     "name": "stdout",
     "output_type": "stream",
     "text": [
      "True\n"
     ]
    },
    {
     "name": "stderr",
     "output_type": "stream",
     "text": [
      "Loading…:   6%|█▍                       | 41/732 [04:08<1:03:34,  5.52s/it]"
     ]
    },
    {
     "name": "stdout",
     "output_type": "stream",
     "text": [
      "True\n"
     ]
    },
    {
     "name": "stderr",
     "output_type": "stream",
     "text": [
      "Loading…:   6%|█▍                       | 42/732 [04:13<1:02:35,  5.44s/it]"
     ]
    },
    {
     "name": "stdout",
     "output_type": "stream",
     "text": [
      "True\n"
     ]
    },
    {
     "name": "stderr",
     "output_type": "stream",
     "text": [
      "Loading…:   6%|█▍                       | 43/732 [04:19<1:02:14,  5.42s/it]"
     ]
    },
    {
     "name": "stdout",
     "output_type": "stream",
     "text": [
      "True\n"
     ]
    },
    {
     "name": "stderr",
     "output_type": "stream",
     "text": [
      "Loading…:   6%|█▌                       | 44/732 [04:24<1:02:18,  5.43s/it]"
     ]
    },
    {
     "name": "stdout",
     "output_type": "stream",
     "text": [
      "True\n"
     ]
    },
    {
     "name": "stderr",
     "output_type": "stream",
     "text": [
      "Loading…:   6%|█▌                       | 45/732 [04:30<1:04:58,  5.68s/it]"
     ]
    },
    {
     "name": "stdout",
     "output_type": "stream",
     "text": [
      "True\n"
     ]
    },
    {
     "name": "stderr",
     "output_type": "stream",
     "text": [
      "Loading…:   6%|█▌                       | 46/732 [04:36<1:05:59,  5.77s/it]"
     ]
    },
    {
     "name": "stdout",
     "output_type": "stream",
     "text": [
      "True\n"
     ]
    },
    {
     "name": "stderr",
     "output_type": "stream",
     "text": [
      "Loading…:   6%|█▌                       | 47/732 [04:42<1:05:02,  5.70s/it]"
     ]
    },
    {
     "name": "stdout",
     "output_type": "stream",
     "text": [
      "True\n"
     ]
    },
    {
     "name": "stderr",
     "output_type": "stream",
     "text": [
      "Loading…:   7%|█▋                       | 48/732 [04:48<1:06:46,  5.86s/it]"
     ]
    },
    {
     "name": "stdout",
     "output_type": "stream",
     "text": [
      "True\n"
     ]
    },
    {
     "name": "stderr",
     "output_type": "stream",
     "text": [
      "Loading…:   7%|█▋                       | 49/732 [04:53<1:04:42,  5.68s/it]"
     ]
    },
    {
     "name": "stdout",
     "output_type": "stream",
     "text": [
      "True\n"
     ]
    },
    {
     "name": "stderr",
     "output_type": "stream",
     "text": [
      "Loading…:   7%|█▋                       | 50/732 [04:59<1:03:20,  5.57s/it]"
     ]
    },
    {
     "name": "stdout",
     "output_type": "stream",
     "text": [
      "True\n"
     ]
    },
    {
     "name": "stderr",
     "output_type": "stream",
     "text": [
      "Loading…:   7%|█▋                       | 51/732 [05:04<1:02:12,  5.48s/it]"
     ]
    },
    {
     "name": "stdout",
     "output_type": "stream",
     "text": [
      "True\n"
     ]
    },
    {
     "name": "stderr",
     "output_type": "stream",
     "text": [
      "Loading…:   7%|█▊                       | 52/732 [05:09<1:01:24,  5.42s/it]"
     ]
    },
    {
     "name": "stdout",
     "output_type": "stream",
     "text": [
      "True\n"
     ]
    },
    {
     "name": "stderr",
     "output_type": "stream",
     "text": [
      "Loading…:   7%|█▊                       | 53/732 [05:14<1:00:15,  5.33s/it]"
     ]
    },
    {
     "name": "stdout",
     "output_type": "stream",
     "text": [
      "True\n"
     ]
    },
    {
     "name": "stderr",
     "output_type": "stream",
     "text": [
      "Loading…:   7%|█▉                         | 54/732 [05:19<59:39,  5.28s/it]"
     ]
    },
    {
     "name": "stdout",
     "output_type": "stream",
     "text": [
      "True\n"
     ]
    },
    {
     "name": "stderr",
     "output_type": "stream",
     "text": [
      "Loading…:   8%|█▉                       | 55/732 [05:25<1:00:51,  5.39s/it]"
     ]
    },
    {
     "name": "stdout",
     "output_type": "stream",
     "text": [
      "True\n"
     ]
    },
    {
     "name": "stderr",
     "output_type": "stream",
     "text": [
      "Loading…:   8%|█▉                       | 56/732 [05:31<1:02:39,  5.56s/it]"
     ]
    },
    {
     "name": "stdout",
     "output_type": "stream",
     "text": [
      "True\n"
     ]
    },
    {
     "name": "stderr",
     "output_type": "stream",
     "text": [
      "Loading…:   8%|█▉                       | 57/732 [05:36<1:01:11,  5.44s/it]"
     ]
    },
    {
     "name": "stdout",
     "output_type": "stream",
     "text": [
      "True\n"
     ]
    },
    {
     "name": "stderr",
     "output_type": "stream",
     "text": [
      "Loading…:   8%|██▏                        | 58/732 [05:41<58:44,  5.23s/it]"
     ]
    },
    {
     "name": "stdout",
     "output_type": "stream",
     "text": [
      "True\n"
     ]
    },
    {
     "name": "stderr",
     "output_type": "stream",
     "text": [
      "Loading…:   8%|██▏                        | 59/732 [05:46<57:08,  5.09s/it]"
     ]
    },
    {
     "name": "stdout",
     "output_type": "stream",
     "text": [
      "True\n"
     ]
    },
    {
     "name": "stderr",
     "output_type": "stream",
     "text": [
      "Loading…:   8%|██▏                        | 60/732 [05:51<55:55,  4.99s/it]"
     ]
    },
    {
     "name": "stdout",
     "output_type": "stream",
     "text": [
      "True\n"
     ]
    },
    {
     "name": "stderr",
     "output_type": "stream",
     "text": [
      "Loading…:   8%|██▎                        | 61/732 [05:55<54:55,  4.91s/it]"
     ]
    },
    {
     "name": "stdout",
     "output_type": "stream",
     "text": [
      "True\n"
     ]
    },
    {
     "name": "stderr",
     "output_type": "stream",
     "text": [
      "Loading…:   8%|██▎                        | 62/732 [06:00<54:20,  4.87s/it]"
     ]
    },
    {
     "name": "stdout",
     "output_type": "stream",
     "text": [
      "True\n"
     ]
    },
    {
     "name": "stderr",
     "output_type": "stream",
     "text": [
      "Loading…:   9%|██▎                        | 63/732 [06:05<55:01,  4.93s/it]"
     ]
    },
    {
     "name": "stdout",
     "output_type": "stream",
     "text": [
      "True\n"
     ]
    },
    {
     "name": "stderr",
     "output_type": "stream",
     "text": [
      "Loading…:   9%|██▎                        | 64/732 [06:10<54:13,  4.87s/it]"
     ]
    },
    {
     "name": "stdout",
     "output_type": "stream",
     "text": [
      "True\n"
     ]
    },
    {
     "name": "stderr",
     "output_type": "stream",
     "text": [
      "Loading…:   9%|██▍                        | 65/732 [06:14<53:27,  4.81s/it]"
     ]
    },
    {
     "name": "stdout",
     "output_type": "stream",
     "text": [
      "True\n"
     ]
    },
    {
     "name": "stderr",
     "output_type": "stream",
     "text": [
      "Loading…:   9%|██▍                        | 66/732 [06:19<52:51,  4.76s/it]"
     ]
    },
    {
     "name": "stdout",
     "output_type": "stream",
     "text": [
      "True\n"
     ]
    },
    {
     "name": "stderr",
     "output_type": "stream",
     "text": [
      "Loading…:   9%|██▍                        | 67/732 [06:24<52:41,  4.75s/it]"
     ]
    },
    {
     "name": "stdout",
     "output_type": "stream",
     "text": [
      "True\n"
     ]
    },
    {
     "name": "stderr",
     "output_type": "stream",
     "text": [
      "Loading…:   9%|██▌                        | 68/732 [06:29<52:41,  4.76s/it]"
     ]
    },
    {
     "name": "stdout",
     "output_type": "stream",
     "text": [
      "True\n"
     ]
    },
    {
     "name": "stderr",
     "output_type": "stream",
     "text": [
      "Loading…:   9%|██▌                        | 69/732 [06:33<52:22,  4.74s/it]"
     ]
    },
    {
     "name": "stdout",
     "output_type": "stream",
     "text": [
      "True\n"
     ]
    },
    {
     "name": "stderr",
     "output_type": "stream",
     "text": [
      "Loading…:  10%|██▌                        | 70/732 [06:38<52:05,  4.72s/it]"
     ]
    },
    {
     "name": "stdout",
     "output_type": "stream",
     "text": [
      "True\n"
     ]
    },
    {
     "name": "stderr",
     "output_type": "stream",
     "text": [
      "Loading…:  10%|██▌                        | 71/732 [06:43<53:15,  4.83s/it]"
     ]
    },
    {
     "name": "stdout",
     "output_type": "stream",
     "text": [
      "True\n"
     ]
    },
    {
     "name": "stderr",
     "output_type": "stream",
     "text": [
      "Loading…:  10%|██▋                        | 72/732 [06:48<53:06,  4.83s/it]"
     ]
    },
    {
     "name": "stdout",
     "output_type": "stream",
     "text": [
      "True\n"
     ]
    },
    {
     "name": "stderr",
     "output_type": "stream",
     "text": [
      "Loading…:  10%|██▋                        | 73/732 [06:53<53:37,  4.88s/it]"
     ]
    },
    {
     "name": "stdout",
     "output_type": "stream",
     "text": [
      "True\n"
     ]
    },
    {
     "name": "stderr",
     "output_type": "stream",
     "text": [
      "Loading…:  10%|██▋                        | 74/732 [06:58<53:26,  4.87s/it]"
     ]
    },
    {
     "name": "stdout",
     "output_type": "stream",
     "text": [
      "True\n"
     ]
    },
    {
     "name": "stderr",
     "output_type": "stream",
     "text": [
      "Loading…:  10%|██▊                        | 75/732 [07:03<54:32,  4.98s/it]"
     ]
    },
    {
     "name": "stdout",
     "output_type": "stream",
     "text": [
      "True\n"
     ]
    },
    {
     "name": "stderr",
     "output_type": "stream",
     "text": [
      "Loading…:  10%|██▊                        | 76/732 [07:08<54:03,  4.94s/it]"
     ]
    },
    {
     "name": "stdout",
     "output_type": "stream",
     "text": [
      "True\n"
     ]
    },
    {
     "name": "stderr",
     "output_type": "stream",
     "text": [
      "Loading…:  11%|██▊                        | 77/732 [07:13<53:30,  4.90s/it]"
     ]
    },
    {
     "name": "stdout",
     "output_type": "stream",
     "text": [
      "True\n"
     ]
    },
    {
     "name": "stderr",
     "output_type": "stream",
     "text": [
      "Loading…:  11%|██▉                        | 78/732 [07:17<53:00,  4.86s/it]"
     ]
    },
    {
     "name": "stdout",
     "output_type": "stream",
     "text": [
      "True\n"
     ]
    },
    {
     "name": "stderr",
     "output_type": "stream",
     "text": [
      "Loading…:  11%|██▉                        | 79/732 [07:22<52:54,  4.86s/it]"
     ]
    },
    {
     "name": "stdout",
     "output_type": "stream",
     "text": [
      "True\n"
     ]
    },
    {
     "name": "stderr",
     "output_type": "stream",
     "text": [
      "Loading…:  11%|██▉                        | 80/732 [07:27<52:39,  4.85s/it]"
     ]
    },
    {
     "name": "stdout",
     "output_type": "stream",
     "text": [
      "True\n"
     ]
    },
    {
     "name": "stderr",
     "output_type": "stream",
     "text": [
      "Loading…:  11%|██▉                        | 81/732 [07:32<53:18,  4.91s/it]"
     ]
    },
    {
     "name": "stdout",
     "output_type": "stream",
     "text": [
      "True\n"
     ]
    },
    {
     "name": "stderr",
     "output_type": "stream",
     "text": [
      "Loading…:  11%|███                        | 82/732 [07:37<53:15,  4.92s/it]"
     ]
    },
    {
     "name": "stdout",
     "output_type": "stream",
     "text": [
      "True\n"
     ]
    },
    {
     "name": "stderr",
     "output_type": "stream",
     "text": [
      "Loading…:  11%|███                        | 83/732 [07:42<52:50,  4.89s/it]"
     ]
    },
    {
     "name": "stdout",
     "output_type": "stream",
     "text": [
      "True\n"
     ]
    },
    {
     "name": "stderr",
     "output_type": "stream",
     "text": [
      "Loading…:  11%|███                        | 84/732 [07:47<52:22,  4.85s/it]"
     ]
    },
    {
     "name": "stdout",
     "output_type": "stream",
     "text": [
      "True\n"
     ]
    },
    {
     "name": "stderr",
     "output_type": "stream",
     "text": [
      "Loading…:  12%|███▏                       | 85/732 [07:52<52:15,  4.85s/it]"
     ]
    },
    {
     "name": "stdout",
     "output_type": "stream",
     "text": [
      "True\n"
     ]
    },
    {
     "name": "stderr",
     "output_type": "stream",
     "text": [
      "Loading…:  12%|███▏                       | 86/732 [07:57<53:02,  4.93s/it]"
     ]
    },
    {
     "name": "stdout",
     "output_type": "stream",
     "text": [
      "True\n"
     ]
    },
    {
     "name": "stderr",
     "output_type": "stream",
     "text": [
      "Loading…:  12%|███▏                       | 87/732 [08:02<53:44,  5.00s/it]"
     ]
    },
    {
     "name": "stdout",
     "output_type": "stream",
     "text": [
      "True\n"
     ]
    },
    {
     "name": "stderr",
     "output_type": "stream",
     "text": [
      "Loading…:  12%|███▏                       | 88/732 [08:07<54:17,  5.06s/it]"
     ]
    },
    {
     "name": "stdout",
     "output_type": "stream",
     "text": [
      "True\n"
     ]
    },
    {
     "name": "stderr",
     "output_type": "stream",
     "text": [
      "Loading…:  12%|███▎                       | 89/732 [08:12<54:22,  5.07s/it]"
     ]
    },
    {
     "name": "stdout",
     "output_type": "stream",
     "text": [
      "True\n"
     ]
    },
    {
     "name": "stderr",
     "output_type": "stream",
     "text": [
      "Loading…:  12%|███▎                       | 90/732 [08:17<53:33,  5.01s/it]"
     ]
    },
    {
     "name": "stdout",
     "output_type": "stream",
     "text": [
      "True\n"
     ]
    },
    {
     "name": "stderr",
     "output_type": "stream",
     "text": [
      "Loading…:  12%|███▎                       | 91/732 [08:22<53:18,  4.99s/it]"
     ]
    },
    {
     "name": "stdout",
     "output_type": "stream",
     "text": [
      "True\n"
     ]
    },
    {
     "name": "stderr",
     "output_type": "stream",
     "text": [
      "Loading…:  13%|███▍                       | 92/732 [08:27<52:49,  4.95s/it]"
     ]
    },
    {
     "name": "stdout",
     "output_type": "stream",
     "text": [
      "True\n"
     ]
    },
    {
     "name": "stderr",
     "output_type": "stream",
     "text": [
      "Loading…:  13%|███▍                       | 93/732 [08:32<52:58,  4.97s/it]"
     ]
    },
    {
     "name": "stdout",
     "output_type": "stream",
     "text": [
      "True\n"
     ]
    },
    {
     "name": "stderr",
     "output_type": "stream",
     "text": [
      "Loading…:  13%|███▍                       | 94/732 [08:37<52:46,  4.96s/it]"
     ]
    },
    {
     "name": "stdout",
     "output_type": "stream",
     "text": [
      "True\n"
     ]
    },
    {
     "name": "stderr",
     "output_type": "stream",
     "text": [
      "Loading…:  13%|███▌                       | 95/732 [08:42<52:16,  4.92s/it]"
     ]
    },
    {
     "name": "stdout",
     "output_type": "stream",
     "text": [
      "True\n"
     ]
    },
    {
     "name": "stderr",
     "output_type": "stream",
     "text": [
      "Loading…:  13%|███▌                       | 96/732 [08:47<54:23,  5.13s/it]"
     ]
    },
    {
     "name": "stdout",
     "output_type": "stream",
     "text": [
      "True\n"
     ]
    },
    {
     "name": "stderr",
     "output_type": "stream",
     "text": [
      "Loading…:  13%|███▌                       | 97/732 [08:53<55:27,  5.24s/it]"
     ]
    },
    {
     "name": "stdout",
     "output_type": "stream",
     "text": [
      "True\n"
     ]
    },
    {
     "name": "stderr",
     "output_type": "stream",
     "text": [
      "Loading…:  13%|███▌                       | 98/732 [08:58<55:19,  5.24s/it]"
     ]
    },
    {
     "name": "stdout",
     "output_type": "stream",
     "text": [
      "True\n"
     ]
    },
    {
     "name": "stderr",
     "output_type": "stream",
     "text": [
      "Loading…:  14%|███▋                       | 99/732 [09:03<54:46,  5.19s/it]"
     ]
    },
    {
     "name": "stdout",
     "output_type": "stream",
     "text": [
      "True\n"
     ]
    },
    {
     "name": "stderr",
     "output_type": "stream",
     "text": [
      "Loading…:  14%|███▌                      | 100/732 [09:08<54:16,  5.15s/it]"
     ]
    },
    {
     "name": "stdout",
     "output_type": "stream",
     "text": [
      "True\n"
     ]
    },
    {
     "name": "stderr",
     "output_type": "stream",
     "text": [
      "Loading…:  14%|███▌                      | 101/732 [09:13<53:49,  5.12s/it]"
     ]
    },
    {
     "name": "stdout",
     "output_type": "stream",
     "text": [
      "True\n"
     ]
    },
    {
     "name": "stderr",
     "output_type": "stream",
     "text": [
      "Loading…:  14%|███▌                      | 102/732 [09:18<53:25,  5.09s/it]"
     ]
    },
    {
     "name": "stdout",
     "output_type": "stream",
     "text": [
      "True\n"
     ]
    },
    {
     "name": "stderr",
     "output_type": "stream",
     "text": [
      "Loading…:  14%|███▋                      | 103/732 [09:23<52:14,  4.98s/it]"
     ]
    },
    {
     "name": "stdout",
     "output_type": "stream",
     "text": [
      "True\n"
     ]
    },
    {
     "name": "stderr",
     "output_type": "stream",
     "text": [
      "Loading…:  14%|███▋                      | 104/732 [09:28<51:45,  4.95s/it]"
     ]
    },
    {
     "name": "stdout",
     "output_type": "stream",
     "text": [
      "True\n"
     ]
    },
    {
     "name": "stderr",
     "output_type": "stream",
     "text": [
      "Loading…:  14%|███▋                      | 105/732 [09:33<52:19,  5.01s/it]"
     ]
    },
    {
     "name": "stdout",
     "output_type": "stream",
     "text": [
      "True\n"
     ]
    },
    {
     "name": "stderr",
     "output_type": "stream",
     "text": [
      "Loading…:  14%|███▊                      | 106/732 [09:38<53:43,  5.15s/it]"
     ]
    },
    {
     "name": "stdout",
     "output_type": "stream",
     "text": [
      "True\n"
     ]
    },
    {
     "name": "stderr",
     "output_type": "stream",
     "text": [
      "Loading…:  15%|███▊                      | 107/732 [09:44<54:29,  5.23s/it]"
     ]
    },
    {
     "name": "stdout",
     "output_type": "stream",
     "text": [
      "True\n"
     ]
    },
    {
     "name": "stderr",
     "output_type": "stream",
     "text": [
      "Loading…:  15%|███▊                      | 108/732 [09:49<52:58,  5.09s/it]"
     ]
    },
    {
     "name": "stdout",
     "output_type": "stream",
     "text": [
      "True\n"
     ]
    },
    {
     "name": "stderr",
     "output_type": "stream",
     "text": [
      "Loading…:  15%|███▊                      | 109/732 [09:53<52:13,  5.03s/it]"
     ]
    },
    {
     "name": "stdout",
     "output_type": "stream",
     "text": [
      "True\n"
     ]
    },
    {
     "name": "stderr",
     "output_type": "stream",
     "text": [
      "Loading…:  15%|███▉                      | 110/732 [09:58<51:28,  4.96s/it]"
     ]
    },
    {
     "name": "stdout",
     "output_type": "stream",
     "text": [
      "True\n"
     ]
    },
    {
     "name": "stderr",
     "output_type": "stream",
     "text": [
      "Loading…:  15%|███▉                      | 111/732 [10:03<52:14,  5.05s/it]"
     ]
    },
    {
     "name": "stdout",
     "output_type": "stream",
     "text": [
      "True\n"
     ]
    },
    {
     "name": "stderr",
     "output_type": "stream",
     "text": [
      "Loading…:  15%|███▉                      | 112/732 [10:08<51:54,  5.02s/it]"
     ]
    },
    {
     "name": "stdout",
     "output_type": "stream",
     "text": [
      "True\n"
     ]
    },
    {
     "name": "stderr",
     "output_type": "stream",
     "text": [
      "Loading…:  15%|████                      | 113/732 [10:13<50:44,  4.92s/it]"
     ]
    },
    {
     "name": "stdout",
     "output_type": "stream",
     "text": [
      "True\n"
     ]
    },
    {
     "name": "stderr",
     "output_type": "stream",
     "text": [
      "Loading…:  16%|████                      | 114/732 [10:18<50:04,  4.86s/it]"
     ]
    },
    {
     "name": "stdout",
     "output_type": "stream",
     "text": [
      "True\n"
     ]
    },
    {
     "name": "stderr",
     "output_type": "stream",
     "text": [
      "Loading…:  16%|████                      | 115/732 [10:23<49:47,  4.84s/it]"
     ]
    },
    {
     "name": "stdout",
     "output_type": "stream",
     "text": [
      "True\n"
     ]
    },
    {
     "name": "stderr",
     "output_type": "stream",
     "text": [
      "Loading…:  16%|████                      | 116/732 [10:27<49:41,  4.84s/it]"
     ]
    },
    {
     "name": "stdout",
     "output_type": "stream",
     "text": [
      "True\n"
     ]
    },
    {
     "name": "stderr",
     "output_type": "stream",
     "text": [
      "Loading…:  16%|████▏                     | 117/732 [10:32<49:15,  4.81s/it]"
     ]
    },
    {
     "name": "stdout",
     "output_type": "stream",
     "text": [
      "True\n"
     ]
    },
    {
     "name": "stderr",
     "output_type": "stream",
     "text": [
      "Loading…:  16%|████▏                     | 118/732 [10:38<50:52,  4.97s/it]"
     ]
    },
    {
     "name": "stdout",
     "output_type": "stream",
     "text": [
      "True\n"
     ]
    },
    {
     "name": "stderr",
     "output_type": "stream",
     "text": [
      "Loading…:  16%|████▏                     | 119/732 [10:44<54:37,  5.35s/it]"
     ]
    },
    {
     "name": "stdout",
     "output_type": "stream",
     "text": [
      "True\n"
     ]
    },
    {
     "name": "stderr",
     "output_type": "stream",
     "text": [
      "Loading…:  16%|████▎                     | 120/732 [10:49<54:29,  5.34s/it]"
     ]
    },
    {
     "name": "stdout",
     "output_type": "stream",
     "text": [
      "True\n"
     ]
    },
    {
     "name": "stderr",
     "output_type": "stream",
     "text": [
      "Loading…:  17%|████▎                     | 121/732 [10:55<56:46,  5.57s/it]"
     ]
    },
    {
     "name": "stdout",
     "output_type": "stream",
     "text": [
      "True\n"
     ]
    },
    {
     "name": "stderr",
     "output_type": "stream",
     "text": [
      "Loading…:  17%|████▎                     | 122/732 [11:01<57:51,  5.69s/it]"
     ]
    },
    {
     "name": "stdout",
     "output_type": "stream",
     "text": [
      "True\n"
     ]
    },
    {
     "name": "stderr",
     "output_type": "stream",
     "text": [
      "Loading…:  17%|████▎                     | 123/732 [11:07<58:01,  5.72s/it]"
     ]
    },
    {
     "name": "stdout",
     "output_type": "stream",
     "text": [
      "True\n"
     ]
    },
    {
     "name": "stderr",
     "output_type": "stream",
     "text": [
      "Loading…:  17%|████                    | 124/732 [11:13<1:00:12,  5.94s/it]"
     ]
    },
    {
     "name": "stdout",
     "output_type": "stream",
     "text": [
      "True\n"
     ]
    },
    {
     "name": "stderr",
     "output_type": "stream",
     "text": [
      "Loading…:  17%|████▍                     | 125/732 [11:19<59:59,  5.93s/it]"
     ]
    },
    {
     "name": "stdout",
     "output_type": "stream",
     "text": [
      "True\n"
     ]
    },
    {
     "name": "stderr",
     "output_type": "stream",
     "text": [
      "Loading…:  17%|████▏                   | 126/732 [11:26<1:00:50,  6.02s/it]"
     ]
    },
    {
     "name": "stdout",
     "output_type": "stream",
     "text": [
      "True\n"
     ]
    },
    {
     "name": "stderr",
     "output_type": "stream",
     "text": [
      "Loading…:  17%|████▏                   | 127/732 [11:32<1:02:22,  6.19s/it]"
     ]
    },
    {
     "name": "stdout",
     "output_type": "stream",
     "text": [
      "True\n"
     ]
    },
    {
     "name": "stderr",
     "output_type": "stream",
     "text": [
      "Loading…:  17%|████▏                   | 128/732 [11:39<1:04:45,  6.43s/it]"
     ]
    },
    {
     "name": "stdout",
     "output_type": "stream",
     "text": [
      "True\n"
     ]
    },
    {
     "name": "stderr",
     "output_type": "stream",
     "text": [
      "Loading…:  18%|████▏                   | 129/732 [11:45<1:03:03,  6.28s/it]"
     ]
    },
    {
     "name": "stdout",
     "output_type": "stream",
     "text": [
      "True\n"
     ]
    },
    {
     "name": "stderr",
     "output_type": "stream",
     "text": [
      "Loading…:  18%|████▎                   | 130/732 [11:51<1:00:40,  6.05s/it]"
     ]
    },
    {
     "name": "stdout",
     "output_type": "stream",
     "text": [
      "True\n"
     ]
    },
    {
     "name": "stderr",
     "output_type": "stream",
     "text": [
      "Loading…:  18%|████▋                     | 131/732 [11:56<57:59,  5.79s/it]"
     ]
    },
    {
     "name": "stdout",
     "output_type": "stream",
     "text": [
      "True\n"
     ]
    },
    {
     "name": "stderr",
     "output_type": "stream",
     "text": [
      "Loading…:  18%|████▋                     | 132/732 [12:01<55:51,  5.59s/it]"
     ]
    },
    {
     "name": "stdout",
     "output_type": "stream",
     "text": [
      "True\n"
     ]
    },
    {
     "name": "stderr",
     "output_type": "stream",
     "text": [
      "Loading…:  18%|████▋                     | 133/732 [12:06<54:56,  5.50s/it]"
     ]
    },
    {
     "name": "stdout",
     "output_type": "stream",
     "text": [
      "True\n"
     ]
    },
    {
     "name": "stderr",
     "output_type": "stream",
     "text": [
      "Loading…:  18%|████▊                     | 134/732 [12:12<54:20,  5.45s/it]"
     ]
    },
    {
     "name": "stdout",
     "output_type": "stream",
     "text": [
      "True\n"
     ]
    },
    {
     "name": "stderr",
     "output_type": "stream",
     "text": [
      "Loading…:  18%|████▊                     | 135/732 [12:17<54:55,  5.52s/it]"
     ]
    },
    {
     "name": "stdout",
     "output_type": "stream",
     "text": [
      "True\n"
     ]
    },
    {
     "name": "stderr",
     "output_type": "stream",
     "text": [
      "Loading…:  19%|████▊                     | 136/732 [12:23<54:31,  5.49s/it]"
     ]
    },
    {
     "name": "stdout",
     "output_type": "stream",
     "text": [
      "True\n"
     ]
    },
    {
     "name": "stderr",
     "output_type": "stream",
     "text": [
      "Loading…:  19%|████▊                     | 137/732 [12:28<54:29,  5.49s/it]"
     ]
    },
    {
     "name": "stdout",
     "output_type": "stream",
     "text": [
      "True\n"
     ]
    },
    {
     "name": "stderr",
     "output_type": "stream",
     "text": [
      "Loading…:  19%|████▉                     | 138/732 [12:33<53:21,  5.39s/it]"
     ]
    },
    {
     "name": "stdout",
     "output_type": "stream",
     "text": [
      "True\n"
     ]
    },
    {
     "name": "stderr",
     "output_type": "stream",
     "text": [
      "Loading…:  19%|████▉                     | 139/732 [12:39<52:57,  5.36s/it]"
     ]
    },
    {
     "name": "stdout",
     "output_type": "stream",
     "text": [
      "True\n"
     ]
    },
    {
     "name": "stderr",
     "output_type": "stream",
     "text": [
      "Loading…:  19%|████▉                     | 140/732 [12:44<53:58,  5.47s/it]"
     ]
    },
    {
     "name": "stdout",
     "output_type": "stream",
     "text": [
      "True\n"
     ]
    },
    {
     "name": "stderr",
     "output_type": "stream",
     "text": [
      "Loading…:  19%|█████                     | 141/732 [12:51<56:06,  5.70s/it]"
     ]
    },
    {
     "name": "stdout",
     "output_type": "stream",
     "text": [
      "True\n"
     ]
    },
    {
     "name": "stderr",
     "output_type": "stream",
     "text": [
      "Loading…:  19%|█████                     | 142/732 [12:56<55:55,  5.69s/it]"
     ]
    },
    {
     "name": "stdout",
     "output_type": "stream",
     "text": [
      "True\n"
     ]
    },
    {
     "name": "stderr",
     "output_type": "stream",
     "text": [
      "Loading…:  20%|█████                     | 143/732 [13:02<56:35,  5.77s/it]"
     ]
    },
    {
     "name": "stdout",
     "output_type": "stream",
     "text": [
      "True\n"
     ]
    },
    {
     "name": "stderr",
     "output_type": "stream",
     "text": [
      "Loading…:  20%|█████                     | 144/732 [13:09<58:54,  6.01s/it]"
     ]
    },
    {
     "name": "stdout",
     "output_type": "stream",
     "text": [
      "True\n"
     ]
    },
    {
     "name": "stderr",
     "output_type": "stream",
     "text": [
      "Loading…:  20%|█████▏                    | 145/732 [13:15<59:01,  6.03s/it]"
     ]
    },
    {
     "name": "stdout",
     "output_type": "stream",
     "text": [
      "True\n"
     ]
    },
    {
     "name": "stderr",
     "output_type": "stream",
     "text": [
      "Loading…:  20%|█████▏                    | 146/732 [13:21<59:00,  6.04s/it]"
     ]
    },
    {
     "name": "stdout",
     "output_type": "stream",
     "text": [
      "True\n"
     ]
    },
    {
     "name": "stderr",
     "output_type": "stream",
     "text": [
      "Loading…:  20%|█████▏                    | 147/732 [13:27<58:12,  5.97s/it]"
     ]
    },
    {
     "name": "stdout",
     "output_type": "stream",
     "text": [
      "True\n"
     ]
    },
    {
     "name": "stderr",
     "output_type": "stream",
     "text": [
      "Loading…:  20%|█████▎                    | 148/732 [13:32<55:58,  5.75s/it]"
     ]
    },
    {
     "name": "stdout",
     "output_type": "stream",
     "text": [
      "True\n"
     ]
    },
    {
     "name": "stderr",
     "output_type": "stream",
     "text": [
      "Loading…:  20%|█████▎                    | 149/732 [13:38<56:47,  5.84s/it]"
     ]
    },
    {
     "name": "stdout",
     "output_type": "stream",
     "text": [
      "True\n"
     ]
    },
    {
     "name": "stderr",
     "output_type": "stream",
     "text": [
      "Loading…:  20%|█████▎                    | 150/732 [13:44<57:55,  5.97s/it]"
     ]
    },
    {
     "name": "stdout",
     "output_type": "stream",
     "text": [
      "True\n"
     ]
    },
    {
     "name": "stderr",
     "output_type": "stream",
     "text": [
      "Loading…:  21%|█████▎                    | 151/732 [13:51<59:36,  6.16s/it]"
     ]
    },
    {
     "name": "stdout",
     "output_type": "stream",
     "text": [
      "True\n"
     ]
    },
    {
     "name": "stderr",
     "output_type": "stream",
     "text": [
      "Loading…:  21%|████▉                   | 152/732 [13:57<1:00:27,  6.26s/it]"
     ]
    },
    {
     "name": "stdout",
     "output_type": "stream",
     "text": [
      "True\n"
     ]
    },
    {
     "name": "stderr",
     "output_type": "stream",
     "text": [
      "Loading…:  21%|█████                   | 153/732 [14:04<1:01:07,  6.33s/it]"
     ]
    },
    {
     "name": "stdout",
     "output_type": "stream",
     "text": [
      "True\n"
     ]
    },
    {
     "name": "stderr",
     "output_type": "stream",
     "text": [
      "Loading…:  21%|█████                   | 154/732 [14:10<1:00:57,  6.33s/it]"
     ]
    },
    {
     "name": "stdout",
     "output_type": "stream",
     "text": [
      "True\n"
     ]
    },
    {
     "name": "stderr",
     "output_type": "stream",
     "text": [
      "Loading…:  21%|█████                   | 155/732 [14:17<1:01:51,  6.43s/it]"
     ]
    },
    {
     "name": "stdout",
     "output_type": "stream",
     "text": [
      "True\n"
     ]
    },
    {
     "name": "stderr",
     "output_type": "stream",
     "text": [
      "Loading…:  21%|█████                   | 156/732 [14:23<1:00:53,  6.34s/it]"
     ]
    },
    {
     "name": "stdout",
     "output_type": "stream",
     "text": [
      "True\n"
     ]
    },
    {
     "name": "stderr",
     "output_type": "stream",
     "text": [
      "Loading…:  21%|█████▏                  | 157/732 [14:29<1:01:08,  6.38s/it]"
     ]
    },
    {
     "name": "stdout",
     "output_type": "stream",
     "text": [
      "True\n"
     ]
    },
    {
     "name": "stderr",
     "output_type": "stream",
     "text": [
      "Loading…:  22%|█████▏                  | 158/732 [14:36<1:02:28,  6.53s/it]"
     ]
    },
    {
     "name": "stdout",
     "output_type": "stream",
     "text": [
      "True\n"
     ]
    },
    {
     "name": "stderr",
     "output_type": "stream",
     "text": [
      "Loading…:  22%|█████▋                    | 159/732 [14:42<59:27,  6.23s/it]"
     ]
    },
    {
     "name": "stdout",
     "output_type": "stream",
     "text": [
      "True\n"
     ]
    },
    {
     "name": "stderr",
     "output_type": "stream",
     "text": [
      "Loading…:  22%|█████▋                    | 160/732 [14:48<59:25,  6.23s/it]"
     ]
    },
    {
     "name": "stdout",
     "output_type": "stream",
     "text": [
      "True\n"
     ]
    },
    {
     "name": "stderr",
     "output_type": "stream",
     "text": [
      "Loading…:  22%|█████▋                    | 161/732 [14:54<57:41,  6.06s/it]"
     ]
    },
    {
     "name": "stdout",
     "output_type": "stream",
     "text": [
      "True\n"
     ]
    },
    {
     "name": "stderr",
     "output_type": "stream",
     "text": [
      "Loading…:  22%|█████▊                    | 162/732 [15:00<58:51,  6.20s/it]"
     ]
    },
    {
     "name": "stdout",
     "output_type": "stream",
     "text": [
      "True\n"
     ]
    },
    {
     "name": "stderr",
     "output_type": "stream",
     "text": [
      "Loading…:  22%|█████▊                    | 163/732 [15:06<56:44,  5.98s/it]"
     ]
    },
    {
     "name": "stdout",
     "output_type": "stream",
     "text": [
      "True\n"
     ]
    },
    {
     "name": "stderr",
     "output_type": "stream",
     "text": [
      "Loading…:  22%|█████▊                    | 164/732 [15:12<56:43,  5.99s/it]"
     ]
    },
    {
     "name": "stdout",
     "output_type": "stream",
     "text": [
      "True\n"
     ]
    },
    {
     "name": "stderr",
     "output_type": "stream",
     "text": [
      "Loading…:  23%|█████▊                    | 165/732 [15:18<57:07,  6.04s/it]"
     ]
    },
    {
     "name": "stdout",
     "output_type": "stream",
     "text": [
      "True\n"
     ]
    },
    {
     "name": "stderr",
     "output_type": "stream",
     "text": [
      "Loading…:  23%|█████▉                    | 166/732 [15:24<57:34,  6.10s/it]"
     ]
    },
    {
     "name": "stdout",
     "output_type": "stream",
     "text": [
      "True\n"
     ]
    },
    {
     "name": "stderr",
     "output_type": "stream",
     "text": [
      "Loading…:  23%|█████▉                    | 167/732 [15:31<58:57,  6.26s/it]"
     ]
    },
    {
     "name": "stdout",
     "output_type": "stream",
     "text": [
      "True\n"
     ]
    },
    {
     "name": "stderr",
     "output_type": "stream",
     "text": [
      "Loading…:  23%|█████▌                  | 168/732 [15:38<1:00:25,  6.43s/it]"
     ]
    },
    {
     "name": "stdout",
     "output_type": "stream",
     "text": [
      "True\n"
     ]
    },
    {
     "name": "stderr",
     "output_type": "stream",
     "text": [
      "Loading…:  23%|█████▌                  | 169/732 [15:45<1:02:32,  6.67s/it]"
     ]
    },
    {
     "name": "stdout",
     "output_type": "stream",
     "text": [
      "True\n"
     ]
    },
    {
     "name": "stderr",
     "output_type": "stream",
     "text": [
      "Loading…:  23%|█████▌                  | 170/732 [15:51<1:02:01,  6.62s/it]"
     ]
    },
    {
     "name": "stdout",
     "output_type": "stream",
     "text": [
      "True\n"
     ]
    },
    {
     "name": "stderr",
     "output_type": "stream",
     "text": [
      "Loading…:  23%|█████▌                  | 171/732 [15:58<1:02:43,  6.71s/it]"
     ]
    },
    {
     "name": "stdout",
     "output_type": "stream",
     "text": [
      "True\n"
     ]
    },
    {
     "name": "stderr",
     "output_type": "stream",
     "text": [
      "Loading…:  23%|█████▋                  | 172/732 [16:05<1:01:36,  6.60s/it]"
     ]
    },
    {
     "name": "stdout",
     "output_type": "stream",
     "text": [
      "True\n"
     ]
    },
    {
     "name": "stderr",
     "output_type": "stream",
     "text": [
      "Loading…:  24%|██████▏                   | 173/732 [16:10<58:56,  6.33s/it]"
     ]
    },
    {
     "name": "stdout",
     "output_type": "stream",
     "text": [
      "True\n"
     ]
    },
    {
     "name": "stderr",
     "output_type": "stream",
     "text": [
      "Loading…:  24%|██████▏                   | 174/732 [16:16<56:27,  6.07s/it]"
     ]
    },
    {
     "name": "stdout",
     "output_type": "stream",
     "text": [
      "True\n"
     ]
    },
    {
     "name": "stderr",
     "output_type": "stream",
     "text": [
      "Loading…:  24%|██████▏                   | 175/732 [16:22<57:10,  6.16s/it]"
     ]
    },
    {
     "name": "stdout",
     "output_type": "stream",
     "text": [
      "True\n"
     ]
    },
    {
     "name": "stderr",
     "output_type": "stream",
     "text": [
      "Loading…:  24%|██████▎                   | 176/732 [16:28<55:23,  5.98s/it]"
     ]
    },
    {
     "name": "stdout",
     "output_type": "stream",
     "text": [
      "True\n"
     ]
    },
    {
     "name": "stderr",
     "output_type": "stream",
     "text": [
      "Loading…:  24%|██████▎                   | 177/732 [16:34<56:53,  6.15s/it]"
     ]
    },
    {
     "name": "stdout",
     "output_type": "stream",
     "text": [
      "True\n"
     ]
    },
    {
     "name": "stderr",
     "output_type": "stream",
     "text": [
      "Loading…:  24%|██████▎                   | 178/732 [16:41<57:29,  6.23s/it]"
     ]
    },
    {
     "name": "stdout",
     "output_type": "stream",
     "text": [
      "True\n"
     ]
    },
    {
     "name": "stderr",
     "output_type": "stream",
     "text": [
      "Loading…:  24%|██████▎                   | 179/732 [16:46<55:13,  5.99s/it]"
     ]
    },
    {
     "name": "stdout",
     "output_type": "stream",
     "text": [
      "True\n"
     ]
    },
    {
     "name": "stderr",
     "output_type": "stream",
     "text": [
      "Loading…:  25%|██████▍                   | 180/732 [16:53<56:24,  6.13s/it]"
     ]
    },
    {
     "name": "stdout",
     "output_type": "stream",
     "text": [
      "True\n"
     ]
    },
    {
     "name": "stderr",
     "output_type": "stream",
     "text": [
      "Loading…:  25%|██████▍                   | 181/732 [16:59<58:15,  6.34s/it]"
     ]
    },
    {
     "name": "stdout",
     "output_type": "stream",
     "text": [
      "True\n"
     ]
    },
    {
     "name": "stderr",
     "output_type": "stream",
     "text": [
      "Loading…:  25%|██████▍                   | 182/732 [17:06<58:31,  6.38s/it]"
     ]
    },
    {
     "name": "stdout",
     "output_type": "stream",
     "text": [
      "True\n"
     ]
    },
    {
     "name": "stderr",
     "output_type": "stream",
     "text": [
      "Loading…:  25%|██████▌                   | 183/732 [17:13<59:44,  6.53s/it]"
     ]
    },
    {
     "name": "stdout",
     "output_type": "stream",
     "text": [
      "True\n"
     ]
    },
    {
     "name": "stderr",
     "output_type": "stream",
     "text": [
      "Loading…:  25%|██████▌                   | 184/732 [17:19<59:44,  6.54s/it]"
     ]
    },
    {
     "name": "stdout",
     "output_type": "stream",
     "text": [
      "True\n"
     ]
    },
    {
     "name": "stderr",
     "output_type": "stream",
     "text": [
      "Loading…:  25%|██████▌                   | 185/732 [17:26<59:36,  6.54s/it]"
     ]
    },
    {
     "name": "stdout",
     "output_type": "stream",
     "text": [
      "True\n"
     ]
    },
    {
     "name": "stderr",
     "output_type": "stream",
     "text": [
      "Loading…:  25%|██████▌                   | 186/732 [17:32<58:45,  6.46s/it]"
     ]
    },
    {
     "name": "stdout",
     "output_type": "stream",
     "text": [
      "True\n"
     ]
    },
    {
     "name": "stderr",
     "output_type": "stream",
     "text": [
      "Loading…:  26%|██████▋                   | 187/732 [17:38<58:08,  6.40s/it]"
     ]
    },
    {
     "name": "stdout",
     "output_type": "stream",
     "text": [
      "True\n"
     ]
    },
    {
     "name": "stderr",
     "output_type": "stream",
     "text": [
      "Loading…:  26%|██████▋                   | 188/732 [17:45<57:36,  6.35s/it]"
     ]
    },
    {
     "name": "stdout",
     "output_type": "stream",
     "text": [
      "True\n"
     ]
    },
    {
     "name": "stderr",
     "output_type": "stream",
     "text": [
      "Loading…:  26%|██████▋                   | 189/732 [17:51<57:00,  6.30s/it]"
     ]
    },
    {
     "name": "stdout",
     "output_type": "stream",
     "text": [
      "True\n"
     ]
    },
    {
     "name": "stderr",
     "output_type": "stream",
     "text": [
      "Loading…:  26%|██████▋                   | 190/732 [17:56<55:16,  6.12s/it]"
     ]
    },
    {
     "name": "stdout",
     "output_type": "stream",
     "text": [
      "True\n"
     ]
    },
    {
     "name": "stderr",
     "output_type": "stream",
     "text": [
      "Loading…:  26%|██████▊                   | 191/732 [18:03<56:42,  6.29s/it]"
     ]
    },
    {
     "name": "stdout",
     "output_type": "stream",
     "text": [
      "True\n"
     ]
    },
    {
     "name": "stderr",
     "output_type": "stream",
     "text": [
      "Loading…:  26%|██████▊                   | 192/732 [18:10<57:29,  6.39s/it]"
     ]
    },
    {
     "name": "stdout",
     "output_type": "stream",
     "text": [
      "True\n"
     ]
    },
    {
     "name": "stderr",
     "output_type": "stream",
     "text": [
      "Loading…:  26%|██████▊                   | 193/732 [18:17<59:57,  6.67s/it]"
     ]
    },
    {
     "name": "stdout",
     "output_type": "stream",
     "text": [
      "True\n"
     ]
    },
    {
     "name": "stderr",
     "output_type": "stream",
     "text": [
      "Loading…:  27%|██████▎                 | 194/732 [18:24<1:00:09,  6.71s/it]"
     ]
    },
    {
     "name": "stdout",
     "output_type": "stream",
     "text": [
      "True\n"
     ]
    },
    {
     "name": "stderr",
     "output_type": "stream",
     "text": [
      "Loading…:  27%|██████▍                 | 195/732 [18:31<1:01:15,  6.84s/it]"
     ]
    },
    {
     "name": "stdout",
     "output_type": "stream",
     "text": [
      "True\n"
     ]
    },
    {
     "name": "stderr",
     "output_type": "stream",
     "text": [
      "Loading…:  27%|██████▍                 | 196/732 [18:38<1:01:55,  6.93s/it]"
     ]
    },
    {
     "name": "stdout",
     "output_type": "stream",
     "text": [
      "True\n"
     ]
    },
    {
     "name": "stderr",
     "output_type": "stream",
     "text": [
      "Loading…:  27%|██████▍                 | 197/732 [18:45<1:02:27,  7.00s/it]"
     ]
    },
    {
     "name": "stdout",
     "output_type": "stream",
     "text": [
      "True\n"
     ]
    },
    {
     "name": "stderr",
     "output_type": "stream",
     "text": [
      "Loading…:  27%|██████▍                 | 198/732 [18:52<1:02:30,  7.02s/it]"
     ]
    },
    {
     "name": "stdout",
     "output_type": "stream",
     "text": [
      "True\n"
     ]
    },
    {
     "name": "stderr",
     "output_type": "stream",
     "text": [
      "Loading…:  27%|██████▌                 | 199/732 [18:59<1:01:04,  6.88s/it]"
     ]
    },
    {
     "name": "stdout",
     "output_type": "stream",
     "text": [
      "True\n"
     ]
    },
    {
     "name": "stderr",
     "output_type": "stream",
     "text": [
      "Loading…:  27%|███████                   | 200/732 [19:05<58:05,  6.55s/it]"
     ]
    },
    {
     "name": "stdout",
     "output_type": "stream",
     "text": [
      "True\n"
     ]
    },
    {
     "name": "stderr",
     "output_type": "stream",
     "text": [
      "Loading…:  27%|███████▏                  | 201/732 [19:11<56:29,  6.38s/it]"
     ]
    },
    {
     "name": "stdout",
     "output_type": "stream",
     "text": [
      "True\n"
     ]
    },
    {
     "name": "stderr",
     "output_type": "stream",
     "text": [
      "Loading…:  28%|███████▏                  | 202/732 [19:16<53:53,  6.10s/it]"
     ]
    },
    {
     "name": "stdout",
     "output_type": "stream",
     "text": [
      "True\n"
     ]
    },
    {
     "name": "stderr",
     "output_type": "stream",
     "text": [
      "Loading…:  28%|███████▏                  | 203/732 [19:22<52:33,  5.96s/it]"
     ]
    },
    {
     "name": "stdout",
     "output_type": "stream",
     "text": [
      "True\n"
     ]
    },
    {
     "name": "stderr",
     "output_type": "stream",
     "text": [
      "Loading…:  28%|███████▏                  | 204/732 [19:29<54:52,  6.24s/it]"
     ]
    },
    {
     "name": "stdout",
     "output_type": "stream",
     "text": [
      "True\n"
     ]
    },
    {
     "name": "stderr",
     "output_type": "stream",
     "text": [
      "Loading…:  28%|███████▎                  | 205/732 [19:35<54:07,  6.16s/it]"
     ]
    },
    {
     "name": "stdout",
     "output_type": "stream",
     "text": [
      "True\n"
     ]
    },
    {
     "name": "stderr",
     "output_type": "stream",
     "text": [
      "Loading…:  28%|███████▎                  | 206/732 [19:41<53:53,  6.15s/it]"
     ]
    },
    {
     "name": "stdout",
     "output_type": "stream",
     "text": [
      "True\n"
     ]
    },
    {
     "name": "stderr",
     "output_type": "stream",
     "text": [
      "Loading…:  28%|███████▎                  | 207/732 [19:47<52:46,  6.03s/it]"
     ]
    },
    {
     "name": "stdout",
     "output_type": "stream",
     "text": [
      "True\n"
     ]
    },
    {
     "name": "stderr",
     "output_type": "stream",
     "text": [
      "Loading…:  28%|███████▍                  | 208/732 [19:52<51:24,  5.89s/it]"
     ]
    },
    {
     "name": "stdout",
     "output_type": "stream",
     "text": [
      "True\n"
     ]
    },
    {
     "name": "stderr",
     "output_type": "stream",
     "text": [
      "Loading…:  29%|███████▍                  | 209/732 [19:58<50:29,  5.79s/it]"
     ]
    },
    {
     "name": "stdout",
     "output_type": "stream",
     "text": [
      "True\n"
     ]
    },
    {
     "name": "stderr",
     "output_type": "stream",
     "text": [
      "Loading…:  29%|███████▍                  | 210/732 [20:03<49:09,  5.65s/it]"
     ]
    },
    {
     "name": "stdout",
     "output_type": "stream",
     "text": [
      "True\n"
     ]
    },
    {
     "name": "stderr",
     "output_type": "stream",
     "text": [
      "Loading…:  29%|███████▍                  | 211/732 [20:09<51:04,  5.88s/it]"
     ]
    },
    {
     "name": "stdout",
     "output_type": "stream",
     "text": [
      "True\n"
     ]
    },
    {
     "name": "stderr",
     "output_type": "stream",
     "text": [
      "Loading…:  29%|███████▌                  | 212/732 [20:16<52:52,  6.10s/it]"
     ]
    },
    {
     "name": "stdout",
     "output_type": "stream",
     "text": [
      "True\n"
     ]
    },
    {
     "name": "stderr",
     "output_type": "stream",
     "text": [
      "Loading…:  29%|███████▌                  | 213/732 [20:22<52:59,  6.13s/it]"
     ]
    },
    {
     "name": "stdout",
     "output_type": "stream",
     "text": [
      "True\n"
     ]
    },
    {
     "name": "stderr",
     "output_type": "stream",
     "text": [
      "Loading…:  29%|███████▌                  | 214/732 [20:28<52:08,  6.04s/it]"
     ]
    },
    {
     "name": "stdout",
     "output_type": "stream",
     "text": [
      "True\n"
     ]
    },
    {
     "name": "stderr",
     "output_type": "stream",
     "text": [
      "Loading…:  29%|███████▋                  | 215/732 [20:34<50:50,  5.90s/it]"
     ]
    },
    {
     "name": "stdout",
     "output_type": "stream",
     "text": [
      "True\n"
     ]
    },
    {
     "name": "stderr",
     "output_type": "stream",
     "text": [
      "Loading…:  30%|███████▋                  | 216/732 [20:39<50:07,  5.83s/it]"
     ]
    },
    {
     "name": "stdout",
     "output_type": "stream",
     "text": [
      "True\n"
     ]
    },
    {
     "name": "stderr",
     "output_type": "stream",
     "text": [
      "Loading…:  30%|███████▋                  | 217/732 [20:45<49:36,  5.78s/it]"
     ]
    },
    {
     "name": "stdout",
     "output_type": "stream",
     "text": [
      "True\n"
     ]
    },
    {
     "name": "stderr",
     "output_type": "stream",
     "text": [
      "Loading…:  30%|███████▋                  | 218/732 [20:51<48:53,  5.71s/it]"
     ]
    },
    {
     "name": "stdout",
     "output_type": "stream",
     "text": [
      "True\n"
     ]
    },
    {
     "name": "stderr",
     "output_type": "stream",
     "text": [
      "Loading…:  30%|███████▊                  | 219/732 [20:57<50:01,  5.85s/it]"
     ]
    },
    {
     "name": "stdout",
     "output_type": "stream",
     "text": [
      "True\n"
     ]
    },
    {
     "name": "stderr",
     "output_type": "stream",
     "text": [
      "Loading…:  30%|███████▊                  | 220/732 [21:03<50:35,  5.93s/it]"
     ]
    },
    {
     "name": "stdout",
     "output_type": "stream",
     "text": [
      "True\n"
     ]
    },
    {
     "name": "stderr",
     "output_type": "stream",
     "text": [
      "Loading…:  30%|███████▊                  | 221/732 [21:09<51:52,  6.09s/it]"
     ]
    },
    {
     "name": "stdout",
     "output_type": "stream",
     "text": [
      "True\n"
     ]
    },
    {
     "name": "stderr",
     "output_type": "stream",
     "text": [
      "Loading…:  30%|███████▉                  | 222/732 [21:17<54:45,  6.44s/it]"
     ]
    },
    {
     "name": "stdout",
     "output_type": "stream",
     "text": [
      "True\n"
     ]
    },
    {
     "name": "stderr",
     "output_type": "stream",
     "text": [
      "Loading…:  30%|███████▉                  | 223/732 [21:23<54:40,  6.45s/it]"
     ]
    },
    {
     "name": "stdout",
     "output_type": "stream",
     "text": [
      "True\n"
     ]
    },
    {
     "name": "stderr",
     "output_type": "stream",
     "text": [
      "Loading…:  31%|███████▉                  | 224/732 [21:30<55:21,  6.54s/it]"
     ]
    },
    {
     "name": "stdout",
     "output_type": "stream",
     "text": [
      "True\n"
     ]
    },
    {
     "name": "stderr",
     "output_type": "stream",
     "text": [
      "Loading…:  31%|███████▉                  | 225/732 [21:35<53:02,  6.28s/it]"
     ]
    },
    {
     "name": "stdout",
     "output_type": "stream",
     "text": [
      "True\n"
     ]
    },
    {
     "name": "stderr",
     "output_type": "stream",
     "text": [
      "Loading…:  31%|████████                  | 226/732 [21:41<51:03,  6.06s/it]"
     ]
    },
    {
     "name": "stdout",
     "output_type": "stream",
     "text": [
      "True\n"
     ]
    },
    {
     "name": "stderr",
     "output_type": "stream",
     "text": [
      "Loading…:  31%|████████                  | 227/732 [21:47<49:43,  5.91s/it]"
     ]
    },
    {
     "name": "stdout",
     "output_type": "stream",
     "text": [
      "True\n"
     ]
    },
    {
     "name": "stderr",
     "output_type": "stream",
     "text": [
      "Loading…:  31%|████████                  | 228/732 [21:53<50:02,  5.96s/it]"
     ]
    },
    {
     "name": "stdout",
     "output_type": "stream",
     "text": [
      "True\n"
     ]
    },
    {
     "name": "stderr",
     "output_type": "stream",
     "text": [
      "Loading…:  31%|████████▏                 | 229/732 [21:58<49:36,  5.92s/it]"
     ]
    },
    {
     "name": "stdout",
     "output_type": "stream",
     "text": [
      "True\n"
     ]
    },
    {
     "name": "stderr",
     "output_type": "stream",
     "text": [
      "Loading…:  31%|████████▏                 | 230/732 [22:04<48:30,  5.80s/it]"
     ]
    },
    {
     "name": "stdout",
     "output_type": "stream",
     "text": [
      "True\n"
     ]
    },
    {
     "name": "stderr",
     "output_type": "stream",
     "text": [
      "Loading…:  32%|████████▏                 | 231/732 [22:10<48:09,  5.77s/it]"
     ]
    },
    {
     "name": "stdout",
     "output_type": "stream",
     "text": [
      "True\n"
     ]
    },
    {
     "name": "stderr",
     "output_type": "stream",
     "text": [
      "Loading…:  32%|████████▏                 | 232/732 [22:16<48:31,  5.82s/it]"
     ]
    },
    {
     "name": "stdout",
     "output_type": "stream",
     "text": [
      "True\n"
     ]
    },
    {
     "name": "stderr",
     "output_type": "stream",
     "text": [
      "Loading…:  32%|████████▎                 | 233/732 [22:22<49:48,  5.99s/it]"
     ]
    },
    {
     "name": "stdout",
     "output_type": "stream",
     "text": [
      "True\n"
     ]
    },
    {
     "name": "stderr",
     "output_type": "stream",
     "text": [
      "Loading…:  32%|████████▎                 | 234/732 [22:28<49:19,  5.94s/it]"
     ]
    },
    {
     "name": "stdout",
     "output_type": "stream",
     "text": [
      "True\n"
     ]
    },
    {
     "name": "stderr",
     "output_type": "stream",
     "text": [
      "Loading…:  32%|████████▎                 | 235/732 [22:34<48:51,  5.90s/it]"
     ]
    },
    {
     "name": "stdout",
     "output_type": "stream",
     "text": [
      "True\n"
     ]
    },
    {
     "name": "stderr",
     "output_type": "stream",
     "text": [
      "Loading…:  32%|████████▍                 | 236/732 [22:40<50:01,  6.05s/it]"
     ]
    },
    {
     "name": "stdout",
     "output_type": "stream",
     "text": [
      "True\n"
     ]
    },
    {
     "name": "stderr",
     "output_type": "stream",
     "text": [
      "Loading…:  32%|████████▍                 | 237/732 [22:46<49:11,  5.96s/it]"
     ]
    },
    {
     "name": "stdout",
     "output_type": "stream",
     "text": [
      "True\n"
     ]
    },
    {
     "name": "stderr",
     "output_type": "stream",
     "text": [
      "Loading…:  33%|████████▍                 | 238/732 [22:52<48:52,  5.94s/it]"
     ]
    },
    {
     "name": "stdout",
     "output_type": "stream",
     "text": [
      "True\n"
     ]
    },
    {
     "name": "stderr",
     "output_type": "stream",
     "text": [
      "Loading…:  33%|████████▍                 | 239/732 [22:58<49:32,  6.03s/it]"
     ]
    },
    {
     "name": "stdout",
     "output_type": "stream",
     "text": [
      "True\n"
     ]
    },
    {
     "name": "stderr",
     "output_type": "stream",
     "text": [
      "Loading…:  33%|████████▌                 | 240/732 [23:04<48:36,  5.93s/it]"
     ]
    },
    {
     "name": "stdout",
     "output_type": "stream",
     "text": [
      "True\n"
     ]
    },
    {
     "name": "stderr",
     "output_type": "stream",
     "text": [
      "Loading…:  33%|████████▌                 | 241/732 [23:09<48:18,  5.90s/it]"
     ]
    },
    {
     "name": "stdout",
     "output_type": "stream",
     "text": [
      "True\n"
     ]
    },
    {
     "name": "stderr",
     "output_type": "stream",
     "text": [
      "Loading…:  33%|████████▌                 | 242/732 [23:15<48:19,  5.92s/it]"
     ]
    },
    {
     "name": "stdout",
     "output_type": "stream",
     "text": [
      "True\n"
     ]
    },
    {
     "name": "stderr",
     "output_type": "stream",
     "text": [
      "Loading…:  33%|████████▋                 | 243/732 [23:21<47:56,  5.88s/it]"
     ]
    },
    {
     "name": "stdout",
     "output_type": "stream",
     "text": [
      "True\n"
     ]
    },
    {
     "name": "stderr",
     "output_type": "stream",
     "text": [
      "Loading…:  33%|████████▋                 | 244/732 [23:27<48:11,  5.92s/it]"
     ]
    },
    {
     "name": "stdout",
     "output_type": "stream",
     "text": [
      "True\n"
     ]
    },
    {
     "name": "stderr",
     "output_type": "stream",
     "text": [
      "Loading…:  33%|████████▋                 | 245/732 [23:33<47:22,  5.84s/it]"
     ]
    },
    {
     "name": "stdout",
     "output_type": "stream",
     "text": [
      "True\n"
     ]
    },
    {
     "name": "stderr",
     "output_type": "stream",
     "text": [
      "Loading…:  34%|████████▋                 | 246/732 [23:39<47:11,  5.83s/it]"
     ]
    },
    {
     "name": "stdout",
     "output_type": "stream",
     "text": [
      "True\n"
     ]
    },
    {
     "name": "stderr",
     "output_type": "stream",
     "text": [
      "Loading…:  34%|████████▊                 | 247/732 [23:44<45:56,  5.68s/it]"
     ]
    },
    {
     "name": "stdout",
     "output_type": "stream",
     "text": [
      "True\n"
     ]
    },
    {
     "name": "stderr",
     "output_type": "stream",
     "text": [
      "Loading…:  34%|████████▊                 | 248/732 [23:50<45:46,  5.67s/it]"
     ]
    },
    {
     "name": "stdout",
     "output_type": "stream",
     "text": [
      "True\n"
     ]
    },
    {
     "name": "stderr",
     "output_type": "stream",
     "text": [
      "Loading…:  34%|████████▊                 | 249/732 [23:55<45:41,  5.68s/it]"
     ]
    },
    {
     "name": "stdout",
     "output_type": "stream",
     "text": [
      "True\n"
     ]
    },
    {
     "name": "stderr",
     "output_type": "stream",
     "text": [
      "Loading…:  34%|████████▉                 | 250/732 [24:01<46:30,  5.79s/it]"
     ]
    },
    {
     "name": "stdout",
     "output_type": "stream",
     "text": [
      "True\n"
     ]
    },
    {
     "name": "stderr",
     "output_type": "stream",
     "text": [
      "Loading…:  34%|████████▉                 | 251/732 [24:08<47:26,  5.92s/it]"
     ]
    },
    {
     "name": "stdout",
     "output_type": "stream",
     "text": [
      "True\n"
     ]
    },
    {
     "name": "stderr",
     "output_type": "stream",
     "text": [
      "Loading…:  34%|████████▉                 | 252/732 [24:14<47:54,  5.99s/it]"
     ]
    },
    {
     "name": "stdout",
     "output_type": "stream",
     "text": [
      "True\n"
     ]
    },
    {
     "name": "stderr",
     "output_type": "stream",
     "text": [
      "Loading…:  35%|████████▉                 | 253/732 [24:20<47:39,  5.97s/it]"
     ]
    },
    {
     "name": "stdout",
     "output_type": "stream",
     "text": [
      "True\n"
     ]
    },
    {
     "name": "stderr",
     "output_type": "stream",
     "text": [
      "Loading…:  35%|█████████                 | 254/732 [24:26<48:32,  6.09s/it]"
     ]
    },
    {
     "name": "stdout",
     "output_type": "stream",
     "text": [
      "True\n"
     ]
    },
    {
     "name": "stderr",
     "output_type": "stream",
     "text": [
      "Loading…:  35%|█████████                 | 255/732 [24:32<49:16,  6.20s/it]"
     ]
    },
    {
     "name": "stdout",
     "output_type": "stream",
     "text": [
      "True\n"
     ]
    },
    {
     "name": "stderr",
     "output_type": "stream",
     "text": [
      "Loading…:  35%|█████████                 | 256/732 [24:39<49:49,  6.28s/it]"
     ]
    },
    {
     "name": "stdout",
     "output_type": "stream",
     "text": [
      "True\n"
     ]
    },
    {
     "name": "stderr",
     "output_type": "stream",
     "text": [
      "Loading…:  35%|█████████▏                | 257/732 [24:45<49:19,  6.23s/it]"
     ]
    },
    {
     "name": "stdout",
     "output_type": "stream",
     "text": [
      "True\n"
     ]
    },
    {
     "name": "stderr",
     "output_type": "stream",
     "text": [
      "Loading…:  35%|█████████▏                | 258/732 [24:50<47:09,  5.97s/it]"
     ]
    },
    {
     "name": "stdout",
     "output_type": "stream",
     "text": [
      "True\n"
     ]
    },
    {
     "name": "stderr",
     "output_type": "stream",
     "text": [
      "Loading…:  35%|█████████▏                | 259/732 [24:56<45:32,  5.78s/it]"
     ]
    },
    {
     "name": "stdout",
     "output_type": "stream",
     "text": [
      "True\n"
     ]
    },
    {
     "name": "stderr",
     "output_type": "stream",
     "text": [
      "Loading…:  36%|█████████▏                | 260/732 [25:01<45:00,  5.72s/it]"
     ]
    },
    {
     "name": "stdout",
     "output_type": "stream",
     "text": [
      "True\n"
     ]
    },
    {
     "name": "stderr",
     "output_type": "stream",
     "text": [
      "Loading…:  36%|█████████▎                | 261/732 [25:07<44:57,  5.73s/it]"
     ]
    },
    {
     "name": "stdout",
     "output_type": "stream",
     "text": [
      "True\n"
     ]
    },
    {
     "name": "stderr",
     "output_type": "stream",
     "text": [
      "Loading…:  36%|█████████▎                | 262/732 [25:13<45:02,  5.75s/it]"
     ]
    },
    {
     "name": "stdout",
     "output_type": "stream",
     "text": [
      "True\n"
     ]
    },
    {
     "name": "stderr",
     "output_type": "stream",
     "text": [
      "Loading…:  36%|█████████▎                | 263/732 [25:19<44:49,  5.73s/it]"
     ]
    },
    {
     "name": "stdout",
     "output_type": "stream",
     "text": [
      "True\n"
     ]
    },
    {
     "name": "stderr",
     "output_type": "stream",
     "text": [
      "Loading…:  36%|█████████▍                | 264/732 [25:24<45:03,  5.78s/it]"
     ]
    },
    {
     "name": "stdout",
     "output_type": "stream",
     "text": [
      "True\n"
     ]
    },
    {
     "name": "stderr",
     "output_type": "stream",
     "text": [
      "Loading…:  36%|█████████▍                | 265/732 [25:30<45:21,  5.83s/it]"
     ]
    },
    {
     "name": "stdout",
     "output_type": "stream",
     "text": [
      "True\n"
     ]
    },
    {
     "name": "stderr",
     "output_type": "stream",
     "text": [
      "Loading…:  36%|█████████▍                | 266/732 [25:36<45:43,  5.89s/it]"
     ]
    },
    {
     "name": "stdout",
     "output_type": "stream",
     "text": [
      "True\n"
     ]
    },
    {
     "name": "stderr",
     "output_type": "stream",
     "text": [
      "Loading…:  36%|█████████▍                | 267/732 [25:42<45:10,  5.83s/it]"
     ]
    },
    {
     "name": "stdout",
     "output_type": "stream",
     "text": [
      "True\n"
     ]
    },
    {
     "name": "stderr",
     "output_type": "stream",
     "text": [
      "Loading…:  37%|█████████▌                | 268/732 [25:48<44:20,  5.73s/it]"
     ]
    },
    {
     "name": "stdout",
     "output_type": "stream",
     "text": [
      "True\n"
     ]
    },
    {
     "name": "stderr",
     "output_type": "stream",
     "text": [
      "Loading…:  37%|█████████▌                | 269/732 [25:54<46:50,  6.07s/it]"
     ]
    },
    {
     "name": "stdout",
     "output_type": "stream",
     "text": [
      "True\n"
     ]
    },
    {
     "name": "stderr",
     "output_type": "stream",
     "text": [
      "Loading…:  37%|█████████▌                | 270/732 [26:01<47:55,  6.22s/it]"
     ]
    },
    {
     "name": "stdout",
     "output_type": "stream",
     "text": [
      "True\n"
     ]
    },
    {
     "name": "stderr",
     "output_type": "stream",
     "text": [
      "Loading…:  37%|█████████▋                | 271/732 [26:08<48:20,  6.29s/it]"
     ]
    },
    {
     "name": "stdout",
     "output_type": "stream",
     "text": [
      "True\n"
     ]
    },
    {
     "name": "stderr",
     "output_type": "stream",
     "text": [
      "Loading…:  37%|█████████▋                | 272/732 [26:14<49:32,  6.46s/it]"
     ]
    },
    {
     "name": "stdout",
     "output_type": "stream",
     "text": [
      "True\n"
     ]
    },
    {
     "name": "stderr",
     "output_type": "stream",
     "text": [
      "Loading…:  37%|█████████▋                | 273/732 [26:21<50:34,  6.61s/it]"
     ]
    },
    {
     "name": "stdout",
     "output_type": "stream",
     "text": [
      "True\n"
     ]
    },
    {
     "name": "stderr",
     "output_type": "stream",
     "text": [
      "Loading…:  37%|█████████▋                | 274/732 [26:29<52:16,  6.85s/it]"
     ]
    },
    {
     "name": "stdout",
     "output_type": "stream",
     "text": [
      "True\n"
     ]
    },
    {
     "name": "stderr",
     "output_type": "stream",
     "text": [
      "Loading…:  38%|█████████▊                | 275/732 [26:36<52:35,  6.91s/it]"
     ]
    },
    {
     "name": "stdout",
     "output_type": "stream",
     "text": [
      "True\n"
     ]
    },
    {
     "name": "stderr",
     "output_type": "stream",
     "text": [
      "Loading…:  38%|█████████▊                | 276/732 [26:43<52:54,  6.96s/it]"
     ]
    },
    {
     "name": "stdout",
     "output_type": "stream",
     "text": [
      "True\n"
     ]
    },
    {
     "name": "stderr",
     "output_type": "stream",
     "text": [
      "Loading…:  38%|█████████▊                | 277/732 [26:48<49:36,  6.54s/it]"
     ]
    },
    {
     "name": "stdout",
     "output_type": "stream",
     "text": [
      "True\n"
     ]
    },
    {
     "name": "stderr",
     "output_type": "stream",
     "text": [
      "Loading…:  38%|█████████▊                | 278/732 [26:55<48:40,  6.43s/it]"
     ]
    },
    {
     "name": "stdout",
     "output_type": "stream",
     "text": [
      "True\n"
     ]
    },
    {
     "name": "stderr",
     "output_type": "stream",
     "text": [
      "Loading…:  38%|█████████▉                | 279/732 [27:01<47:56,  6.35s/it]"
     ]
    },
    {
     "name": "stdout",
     "output_type": "stream",
     "text": [
      "True\n"
     ]
    },
    {
     "name": "stderr",
     "output_type": "stream",
     "text": [
      "Loading…:  38%|█████████▉                | 280/732 [27:07<47:34,  6.32s/it]"
     ]
    },
    {
     "name": "stdout",
     "output_type": "stream",
     "text": [
      "True\n"
     ]
    },
    {
     "name": "stderr",
     "output_type": "stream",
     "text": [
      "Loading…:  38%|█████████▉                | 281/732 [27:12<45:32,  6.06s/it]"
     ]
    },
    {
     "name": "stdout",
     "output_type": "stream",
     "text": [
      "True\n"
     ]
    },
    {
     "name": "stderr",
     "output_type": "stream",
     "text": [
      "Loading…:  39%|██████████                | 282/732 [27:18<44:06,  5.88s/it]"
     ]
    },
    {
     "name": "stdout",
     "output_type": "stream",
     "text": [
      "True\n"
     ]
    },
    {
     "name": "stderr",
     "output_type": "stream",
     "text": [
      "Loading…:  39%|██████████                | 283/732 [27:24<43:21,  5.79s/it]"
     ]
    },
    {
     "name": "stdout",
     "output_type": "stream",
     "text": [
      "True\n"
     ]
    },
    {
     "name": "stderr",
     "output_type": "stream",
     "text": [
      "Loading…:  39%|██████████                | 284/732 [27:29<42:45,  5.73s/it]"
     ]
    },
    {
     "name": "stdout",
     "output_type": "stream",
     "text": [
      "True\n"
     ]
    },
    {
     "name": "stderr",
     "output_type": "stream",
     "text": [
      "Loading…:  39%|██████████                | 285/732 [27:35<42:13,  5.67s/it]"
     ]
    },
    {
     "name": "stdout",
     "output_type": "stream",
     "text": [
      "True\n"
     ]
    },
    {
     "name": "stderr",
     "output_type": "stream",
     "text": [
      "Loading…:  39%|██████████▏               | 286/732 [27:40<42:11,  5.68s/it]"
     ]
    },
    {
     "name": "stdout",
     "output_type": "stream",
     "text": [
      "True\n"
     ]
    },
    {
     "name": "stderr",
     "output_type": "stream",
     "text": [
      "Loading…:  39%|██████████▏               | 287/732 [27:46<41:17,  5.57s/it]"
     ]
    },
    {
     "name": "stdout",
     "output_type": "stream",
     "text": [
      "True\n"
     ]
    },
    {
     "name": "stderr",
     "output_type": "stream",
     "text": [
      "Loading…:  39%|██████████▏               | 288/732 [27:51<40:44,  5.51s/it]"
     ]
    },
    {
     "name": "stdout",
     "output_type": "stream",
     "text": [
      "True\n"
     ]
    },
    {
     "name": "stderr",
     "output_type": "stream",
     "text": [
      "Loading…:  39%|██████████▎               | 289/732 [27:56<40:15,  5.45s/it]"
     ]
    },
    {
     "name": "stdout",
     "output_type": "stream",
     "text": [
      "True\n"
     ]
    },
    {
     "name": "stderr",
     "output_type": "stream",
     "text": [
      "Loading…:  40%|██████████▎               | 290/732 [28:02<40:10,  5.45s/it]"
     ]
    },
    {
     "name": "stdout",
     "output_type": "stream",
     "text": [
      "True\n"
     ]
    },
    {
     "name": "stderr",
     "output_type": "stream",
     "text": [
      "Loading…:  40%|██████████▎               | 291/732 [28:07<40:15,  5.48s/it]"
     ]
    },
    {
     "name": "stdout",
     "output_type": "stream",
     "text": [
      "True\n"
     ]
    },
    {
     "name": "stderr",
     "output_type": "stream",
     "text": [
      "Loading…:  40%|██████████▎               | 292/732 [28:13<41:08,  5.61s/it]"
     ]
    },
    {
     "name": "stdout",
     "output_type": "stream",
     "text": [
      "True\n"
     ]
    },
    {
     "name": "stderr",
     "output_type": "stream",
     "text": [
      "Loading…:  40%|██████████▍               | 293/732 [28:20<43:52,  6.00s/it]"
     ]
    },
    {
     "name": "stdout",
     "output_type": "stream",
     "text": [
      "True\n"
     ]
    },
    {
     "name": "stderr",
     "output_type": "stream",
     "text": [
      "Loading…:  40%|██████████▍               | 294/732 [28:28<47:01,  6.44s/it]"
     ]
    },
    {
     "name": "stdout",
     "output_type": "stream",
     "text": [
      "True\n"
     ]
    },
    {
     "name": "stderr",
     "output_type": "stream",
     "text": [
      "Loading…:  40%|██████████▍               | 295/732 [28:34<46:23,  6.37s/it]"
     ]
    },
    {
     "name": "stdout",
     "output_type": "stream",
     "text": [
      "True\n"
     ]
    },
    {
     "name": "stderr",
     "output_type": "stream",
     "text": [
      "Loading…:  40%|██████████▌               | 296/732 [28:40<45:43,  6.29s/it]"
     ]
    },
    {
     "name": "stdout",
     "output_type": "stream",
     "text": [
      "True\n"
     ]
    },
    {
     "name": "stderr",
     "output_type": "stream",
     "text": [
      "Loading…:  41%|██████████▌               | 297/732 [28:46<44:57,  6.20s/it]"
     ]
    },
    {
     "name": "stdout",
     "output_type": "stream",
     "text": [
      "True\n"
     ]
    },
    {
     "name": "stderr",
     "output_type": "stream",
     "text": [
      "Loading…:  41%|██████████▌               | 298/732 [28:52<43:35,  6.03s/it]"
     ]
    },
    {
     "name": "stdout",
     "output_type": "stream",
     "text": [
      "True\n"
     ]
    },
    {
     "name": "stderr",
     "output_type": "stream",
     "text": [
      "Loading…:  41%|██████████▌               | 299/732 [28:57<42:16,  5.86s/it]"
     ]
    },
    {
     "name": "stdout",
     "output_type": "stream",
     "text": [
      "True\n"
     ]
    },
    {
     "name": "stderr",
     "output_type": "stream",
     "text": [
      "Loading…:  41%|██████████▋               | 300/732 [29:03<41:35,  5.78s/it]"
     ]
    },
    {
     "name": "stdout",
     "output_type": "stream",
     "text": [
      "True\n"
     ]
    },
    {
     "name": "stderr",
     "output_type": "stream",
     "text": [
      "Loading…:  41%|██████████▋               | 301/732 [29:08<41:38,  5.80s/it]"
     ]
    },
    {
     "name": "stdout",
     "output_type": "stream",
     "text": [
      "True\n"
     ]
    },
    {
     "name": "stderr",
     "output_type": "stream",
     "text": [
      "Loading…:  41%|██████████▋               | 302/732 [29:15<42:29,  5.93s/it]"
     ]
    },
    {
     "name": "stdout",
     "output_type": "stream",
     "text": [
      "True\n"
     ]
    },
    {
     "name": "stderr",
     "output_type": "stream",
     "text": [
      "Loading…:  41%|██████████▊               | 303/732 [29:21<43:47,  6.13s/it]"
     ]
    },
    {
     "name": "stdout",
     "output_type": "stream",
     "text": [
      "True\n"
     ]
    },
    {
     "name": "stderr",
     "output_type": "stream",
     "text": [
      "Loading…:  42%|██████████▊               | 304/732 [29:28<44:08,  6.19s/it]"
     ]
    },
    {
     "name": "stdout",
     "output_type": "stream",
     "text": [
      "True\n"
     ]
    },
    {
     "name": "stderr",
     "output_type": "stream",
     "text": [
      "Loading…:  42%|██████████▊               | 305/732 [29:34<43:27,  6.11s/it]"
     ]
    },
    {
     "name": "stdout",
     "output_type": "stream",
     "text": [
      "True\n"
     ]
    },
    {
     "name": "stderr",
     "output_type": "stream",
     "text": [
      "Loading…:  42%|██████████▊               | 306/732 [29:41<45:16,  6.38s/it]"
     ]
    },
    {
     "name": "stdout",
     "output_type": "stream",
     "text": [
      "True\n"
     ]
    },
    {
     "name": "stderr",
     "output_type": "stream",
     "text": [
      "Loading…:  42%|██████████▉               | 307/732 [29:48<46:51,  6.62s/it]"
     ]
    },
    {
     "name": "stdout",
     "output_type": "stream",
     "text": [
      "True\n"
     ]
    },
    {
     "name": "stderr",
     "output_type": "stream",
     "text": [
      "Loading…:  42%|██████████▉               | 308/732 [29:55<47:50,  6.77s/it]"
     ]
    },
    {
     "name": "stdout",
     "output_type": "stream",
     "text": [
      "True\n"
     ]
    },
    {
     "name": "stderr",
     "output_type": "stream",
     "text": [
      "Loading…:  42%|██████████▉               | 309/732 [30:02<49:22,  7.00s/it]"
     ]
    },
    {
     "name": "stdout",
     "output_type": "stream",
     "text": [
      "True\n"
     ]
    },
    {
     "name": "stderr",
     "output_type": "stream",
     "text": [
      "Loading…:  42%|███████████               | 310/732 [30:10<49:58,  7.11s/it]"
     ]
    },
    {
     "name": "stdout",
     "output_type": "stream",
     "text": [
      "True\n"
     ]
    },
    {
     "name": "stderr",
     "output_type": "stream",
     "text": [
      "Loading…:  42%|███████████               | 311/732 [30:17<50:02,  7.13s/it]"
     ]
    },
    {
     "name": "stdout",
     "output_type": "stream",
     "text": [
      "True\n"
     ]
    },
    {
     "name": "stderr",
     "output_type": "stream",
     "text": [
      "Loading…:  43%|███████████               | 312/732 [30:25<51:17,  7.33s/it]"
     ]
    },
    {
     "name": "stdout",
     "output_type": "stream",
     "text": [
      "True\n"
     ]
    },
    {
     "name": "stderr",
     "output_type": "stream",
     "text": [
      "Loading…:  43%|███████████               | 313/732 [30:31<49:08,  7.04s/it]"
     ]
    },
    {
     "name": "stdout",
     "output_type": "stream",
     "text": [
      "True\n"
     ]
    },
    {
     "name": "stderr",
     "output_type": "stream",
     "text": [
      "Loading…:  43%|███████████▏              | 314/732 [30:38<48:24,  6.95s/it]"
     ]
    },
    {
     "name": "stdout",
     "output_type": "stream",
     "text": [
      "True\n"
     ]
    },
    {
     "name": "stderr",
     "output_type": "stream",
     "text": [
      "Loading…:  43%|███████████▏              | 315/732 [30:44<45:55,  6.61s/it]"
     ]
    },
    {
     "name": "stdout",
     "output_type": "stream",
     "text": [
      "True\n"
     ]
    },
    {
     "name": "stderr",
     "output_type": "stream",
     "text": [
      "Loading…:  43%|███████████▏              | 316/732 [30:49<44:05,  6.36s/it]"
     ]
    },
    {
     "name": "stdout",
     "output_type": "stream",
     "text": [
      "True\n"
     ]
    },
    {
     "name": "stderr",
     "output_type": "stream",
     "text": [
      "Loading…:  43%|███████████▎              | 317/732 [30:55<43:00,  6.22s/it]"
     ]
    },
    {
     "name": "stdout",
     "output_type": "stream",
     "text": [
      "True\n"
     ]
    },
    {
     "name": "stderr",
     "output_type": "stream",
     "text": [
      "Loading…:  43%|███████████▎              | 318/732 [31:01<42:27,  6.15s/it]"
     ]
    },
    {
     "name": "stdout",
     "output_type": "stream",
     "text": [
      "True\n"
     ]
    },
    {
     "name": "stderr",
     "output_type": "stream",
     "text": [
      "Loading…:  44%|███████████▎              | 319/732 [31:07<42:08,  6.12s/it]"
     ]
    },
    {
     "name": "stdout",
     "output_type": "stream",
     "text": [
      "True\n"
     ]
    },
    {
     "name": "stderr",
     "output_type": "stream",
     "text": [
      "Loading…:  44%|███████████▎              | 320/732 [31:13<42:02,  6.12s/it]"
     ]
    },
    {
     "name": "stdout",
     "output_type": "stream",
     "text": [
      "True\n"
     ]
    },
    {
     "name": "stderr",
     "output_type": "stream",
     "text": [
      "Loading…:  44%|███████████▍              | 321/732 [31:19<41:33,  6.07s/it]"
     ]
    },
    {
     "name": "stdout",
     "output_type": "stream",
     "text": [
      "True\n"
     ]
    },
    {
     "name": "stderr",
     "output_type": "stream",
     "text": [
      "Loading…:  44%|███████████▍              | 322/732 [31:26<41:45,  6.11s/it]"
     ]
    },
    {
     "name": "stdout",
     "output_type": "stream",
     "text": [
      "True\n"
     ]
    },
    {
     "name": "stderr",
     "output_type": "stream",
     "text": [
      "Loading…:  44%|███████████▍              | 323/732 [31:31<40:42,  5.97s/it]"
     ]
    },
    {
     "name": "stdout",
     "output_type": "stream",
     "text": [
      "True\n"
     ]
    },
    {
     "name": "stderr",
     "output_type": "stream",
     "text": [
      "Loading…:  44%|███████████▌              | 324/732 [31:37<40:09,  5.91s/it]"
     ]
    },
    {
     "name": "stdout",
     "output_type": "stream",
     "text": [
      "True\n"
     ]
    },
    {
     "name": "stderr",
     "output_type": "stream",
     "text": [
      "Loading…:  44%|███████████▌              | 325/732 [31:43<39:45,  5.86s/it]"
     ]
    },
    {
     "name": "stdout",
     "output_type": "stream",
     "text": [
      "True\n"
     ]
    },
    {
     "name": "stderr",
     "output_type": "stream",
     "text": [
      "Loading…:  45%|███████████▌              | 326/732 [31:48<39:14,  5.80s/it]"
     ]
    },
    {
     "name": "stdout",
     "output_type": "stream",
     "text": [
      "True\n"
     ]
    },
    {
     "name": "stderr",
     "output_type": "stream",
     "text": [
      "Loading…:  45%|███████████▌              | 327/732 [31:54<38:55,  5.77s/it]"
     ]
    },
    {
     "name": "stdout",
     "output_type": "stream",
     "text": [
      "True\n"
     ]
    },
    {
     "name": "stderr",
     "output_type": "stream",
     "text": [
      "Loading…:  45%|███████████▋              | 328/732 [32:00<38:29,  5.72s/it]"
     ]
    },
    {
     "name": "stdout",
     "output_type": "stream",
     "text": [
      "True\n"
     ]
    },
    {
     "name": "stderr",
     "output_type": "stream",
     "text": [
      "Loading…:  45%|███████████▋              | 329/732 [32:06<40:12,  5.99s/it]"
     ]
    },
    {
     "name": "stdout",
     "output_type": "stream",
     "text": [
      "True\n"
     ]
    },
    {
     "name": "stderr",
     "output_type": "stream",
     "text": [
      "Loading…:  45%|███████████▋              | 330/732 [32:12<39:22,  5.88s/it]"
     ]
    },
    {
     "name": "stdout",
     "output_type": "stream",
     "text": [
      "True\n"
     ]
    },
    {
     "name": "stderr",
     "output_type": "stream",
     "text": [
      "Loading…:  45%|███████████▊              | 331/732 [32:18<39:06,  5.85s/it]"
     ]
    },
    {
     "name": "stdout",
     "output_type": "stream",
     "text": [
      "True\n"
     ]
    },
    {
     "name": "stderr",
     "output_type": "stream",
     "text": [
      "Loading…:  45%|███████████▊              | 332/732 [32:24<38:53,  5.83s/it]"
     ]
    },
    {
     "name": "stdout",
     "output_type": "stream",
     "text": [
      "True\n"
     ]
    },
    {
     "name": "stderr",
     "output_type": "stream",
     "text": [
      "Loading…:  45%|███████████▊              | 333/732 [32:29<38:29,  5.79s/it]"
     ]
    },
    {
     "name": "stdout",
     "output_type": "stream",
     "text": [
      "True\n"
     ]
    },
    {
     "name": "stderr",
     "output_type": "stream",
     "text": [
      "Loading…:  46%|███████████▊              | 334/732 [32:35<38:31,  5.81s/it]"
     ]
    },
    {
     "name": "stdout",
     "output_type": "stream",
     "text": [
      "True\n"
     ]
    },
    {
     "name": "stderr",
     "output_type": "stream",
     "text": [
      "Loading…:  46%|███████████▉              | 335/732 [32:41<38:17,  5.79s/it]"
     ]
    },
    {
     "name": "stdout",
     "output_type": "stream",
     "text": [
      "True\n"
     ]
    },
    {
     "name": "stderr",
     "output_type": "stream",
     "text": [
      "Loading…:  46%|███████████▉              | 336/732 [32:47<38:36,  5.85s/it]"
     ]
    },
    {
     "name": "stdout",
     "output_type": "stream",
     "text": [
      "True\n"
     ]
    },
    {
     "name": "stderr",
     "output_type": "stream",
     "text": [
      "Loading…:  46%|███████████▉              | 337/732 [32:53<38:40,  5.87s/it]"
     ]
    },
    {
     "name": "stdout",
     "output_type": "stream",
     "text": [
      "True\n"
     ]
    },
    {
     "name": "stderr",
     "output_type": "stream",
     "text": [
      "Loading…:  46%|████████████              | 338/732 [32:59<39:36,  6.03s/it]"
     ]
    },
    {
     "name": "stdout",
     "output_type": "stream",
     "text": [
      "True\n"
     ]
    },
    {
     "name": "stderr",
     "output_type": "stream",
     "text": [
      "Loading…:  46%|████████████              | 339/732 [33:06<41:26,  6.33s/it]"
     ]
    },
    {
     "name": "stdout",
     "output_type": "stream",
     "text": [
      "True\n"
     ]
    },
    {
     "name": "stderr",
     "output_type": "stream",
     "text": [
      "Loading…:  46%|████████████              | 340/732 [33:13<41:57,  6.42s/it]"
     ]
    },
    {
     "name": "stdout",
     "output_type": "stream",
     "text": [
      "True\n"
     ]
    },
    {
     "name": "stderr",
     "output_type": "stream",
     "text": [
      "Loading…:  47%|████████████              | 341/732 [33:19<41:39,  6.39s/it]"
     ]
    },
    {
     "name": "stdout",
     "output_type": "stream",
     "text": [
      "True\n"
     ]
    },
    {
     "name": "stderr",
     "output_type": "stream",
     "text": [
      "Loading…:  47%|████████████▏             | 342/732 [33:25<40:54,  6.29s/it]"
     ]
    },
    {
     "name": "stdout",
     "output_type": "stream",
     "text": [
      "True\n"
     ]
    },
    {
     "name": "stderr",
     "output_type": "stream",
     "text": [
      "Loading…:  47%|████████████▏             | 343/732 [33:31<39:58,  6.17s/it]"
     ]
    },
    {
     "name": "stdout",
     "output_type": "stream",
     "text": [
      "True\n"
     ]
    },
    {
     "name": "stderr",
     "output_type": "stream",
     "text": [
      "Loading…:  47%|████████████▏             | 344/732 [33:37<39:40,  6.13s/it]"
     ]
    },
    {
     "name": "stdout",
     "output_type": "stream",
     "text": [
      "True\n"
     ]
    },
    {
     "name": "stderr",
     "output_type": "stream",
     "text": [
      "Loading…:  47%|████████████▎             | 345/732 [33:43<39:32,  6.13s/it]"
     ]
    },
    {
     "name": "stdout",
     "output_type": "stream",
     "text": [
      "True\n"
     ]
    },
    {
     "name": "stderr",
     "output_type": "stream",
     "text": [
      "Loading…:  47%|████████████▎             | 346/732 [33:49<38:56,  6.05s/it]"
     ]
    },
    {
     "name": "stdout",
     "output_type": "stream",
     "text": [
      "True\n"
     ]
    },
    {
     "name": "stderr",
     "output_type": "stream",
     "text": [
      "Loading…:  47%|████████████▎             | 347/732 [33:55<39:06,  6.09s/it]"
     ]
    },
    {
     "name": "stdout",
     "output_type": "stream",
     "text": [
      "True\n"
     ]
    },
    {
     "name": "stderr",
     "output_type": "stream",
     "text": [
      "Loading…:  48%|████████████▎             | 348/732 [34:02<39:56,  6.24s/it]"
     ]
    },
    {
     "name": "stdout",
     "output_type": "stream",
     "text": [
      "True\n"
     ]
    },
    {
     "name": "stderr",
     "output_type": "stream",
     "text": [
      "Loading…:  48%|████████████▍             | 349/732 [34:08<40:22,  6.32s/it]"
     ]
    },
    {
     "name": "stdout",
     "output_type": "stream",
     "text": [
      "True\n"
     ]
    },
    {
     "name": "stderr",
     "output_type": "stream",
     "text": [
      "Loading…:  48%|████████████▍             | 350/732 [34:15<40:23,  6.34s/it]"
     ]
    },
    {
     "name": "stdout",
     "output_type": "stream",
     "text": [
      "True\n"
     ]
    },
    {
     "name": "stderr",
     "output_type": "stream",
     "text": [
      "Loading…:  48%|████████████▍             | 351/732 [34:21<40:28,  6.37s/it]"
     ]
    },
    {
     "name": "stdout",
     "output_type": "stream",
     "text": [
      "True\n"
     ]
    },
    {
     "name": "stderr",
     "output_type": "stream",
     "text": [
      "Loading…:  48%|████████████▌             | 352/732 [34:27<39:28,  6.23s/it]"
     ]
    },
    {
     "name": "stdout",
     "output_type": "stream",
     "text": [
      "True\n"
     ]
    },
    {
     "name": "stderr",
     "output_type": "stream",
     "text": [
      "Loading…:  48%|████████████▌             | 353/732 [34:33<38:27,  6.09s/it]"
     ]
    },
    {
     "name": "stdout",
     "output_type": "stream",
     "text": [
      "True\n"
     ]
    },
    {
     "name": "stderr",
     "output_type": "stream",
     "text": [
      "Loading…:  48%|████████████▌             | 354/732 [34:39<38:05,  6.05s/it]"
     ]
    },
    {
     "name": "stdout",
     "output_type": "stream",
     "text": [
      "True\n"
     ]
    },
    {
     "name": "stderr",
     "output_type": "stream",
     "text": [
      "Loading…:  48%|████████████▌             | 355/732 [34:45<37:33,  5.98s/it]"
     ]
    },
    {
     "name": "stdout",
     "output_type": "stream",
     "text": [
      "True\n"
     ]
    },
    {
     "name": "stderr",
     "output_type": "stream",
     "text": [
      "Loading…:  49%|████████████▋             | 356/732 [34:50<37:10,  5.93s/it]"
     ]
    },
    {
     "name": "stdout",
     "output_type": "stream",
     "text": [
      "True\n"
     ]
    },
    {
     "name": "stderr",
     "output_type": "stream",
     "text": [
      "Loading…:  49%|████████████▋             | 357/732 [34:57<37:20,  5.97s/it]"
     ]
    },
    {
     "name": "stdout",
     "output_type": "stream",
     "text": [
      "True\n"
     ]
    },
    {
     "name": "stderr",
     "output_type": "stream",
     "text": [
      "Loading…:  49%|████████████▋             | 358/732 [35:03<37:14,  5.98s/it]"
     ]
    },
    {
     "name": "stdout",
     "output_type": "stream",
     "text": [
      "True\n"
     ]
    },
    {
     "name": "stderr",
     "output_type": "stream",
     "text": [
      "Loading…:  49%|████████████▊             | 359/732 [35:09<37:23,  6.02s/it]"
     ]
    },
    {
     "name": "stdout",
     "output_type": "stream",
     "text": [
      "True\n"
     ]
    },
    {
     "name": "stderr",
     "output_type": "stream",
     "text": [
      "Loading…:  49%|████████████▊             | 360/732 [35:15<37:19,  6.02s/it]"
     ]
    },
    {
     "name": "stdout",
     "output_type": "stream",
     "text": [
      "True\n"
     ]
    },
    {
     "name": "stderr",
     "output_type": "stream",
     "text": [
      "Loading…:  49%|████████████▊             | 361/732 [35:21<36:58,  5.98s/it]"
     ]
    },
    {
     "name": "stdout",
     "output_type": "stream",
     "text": [
      "True\n"
     ]
    },
    {
     "name": "stderr",
     "output_type": "stream",
     "text": [
      "Loading…:  49%|████████████▊             | 362/732 [35:27<37:40,  6.11s/it]"
     ]
    },
    {
     "name": "stdout",
     "output_type": "stream",
     "text": [
      "True\n"
     ]
    },
    {
     "name": "stderr",
     "output_type": "stream",
     "text": [
      "Loading…:  50%|████████████▉             | 363/732 [35:34<38:25,  6.25s/it]"
     ]
    },
    {
     "name": "stdout",
     "output_type": "stream",
     "text": [
      "True\n"
     ]
    },
    {
     "name": "stderr",
     "output_type": "stream",
     "text": [
      "Loading…:  50%|████████████▉             | 364/732 [35:40<39:15,  6.40s/it]"
     ]
    },
    {
     "name": "stdout",
     "output_type": "stream",
     "text": [
      "True\n"
     ]
    },
    {
     "name": "stderr",
     "output_type": "stream",
     "text": [
      "Loading…:  50%|████████████▉             | 365/732 [35:47<39:27,  6.45s/it]"
     ]
    },
    {
     "name": "stdout",
     "output_type": "stream",
     "text": [
      "True\n"
     ]
    },
    {
     "name": "stderr",
     "output_type": "stream",
     "text": [
      "Loading…:  50%|█████████████             | 366/732 [35:53<39:17,  6.44s/it]"
     ]
    },
    {
     "name": "stdout",
     "output_type": "stream",
     "text": [
      "True\n"
     ]
    },
    {
     "name": "stderr",
     "output_type": "stream",
     "text": [
      "Loading…:  50%|█████████████             | 367/732 [35:59<38:27,  6.32s/it]"
     ]
    },
    {
     "name": "stdout",
     "output_type": "stream",
     "text": [
      "True\n"
     ]
    },
    {
     "name": "stderr",
     "output_type": "stream",
     "text": [
      "Loading…:  50%|█████████████             | 368/732 [36:06<38:51,  6.41s/it]"
     ]
    },
    {
     "name": "stdout",
     "output_type": "stream",
     "text": [
      "True\n"
     ]
    },
    {
     "name": "stderr",
     "output_type": "stream",
     "text": [
      "Loading…:  50%|█████████████             | 369/732 [36:12<38:01,  6.28s/it]"
     ]
    },
    {
     "name": "stdout",
     "output_type": "stream",
     "text": [
      "True\n"
     ]
    },
    {
     "name": "stderr",
     "output_type": "stream",
     "text": [
      "Loading…:  51%|█████████████▏            | 370/732 [36:18<37:35,  6.23s/it]"
     ]
    },
    {
     "name": "stdout",
     "output_type": "stream",
     "text": [
      "True\n"
     ]
    },
    {
     "name": "stderr",
     "output_type": "stream",
     "text": [
      "Loading…:  51%|█████████████▏            | 371/732 [36:24<37:20,  6.21s/it]"
     ]
    },
    {
     "name": "stdout",
     "output_type": "stream",
     "text": [
      "True\n"
     ]
    },
    {
     "name": "stderr",
     "output_type": "stream",
     "text": [
      "Loading…:  51%|█████████████▏            | 372/732 [36:30<37:20,  6.22s/it]"
     ]
    },
    {
     "name": "stdout",
     "output_type": "stream",
     "text": [
      "True\n"
     ]
    },
    {
     "name": "stderr",
     "output_type": "stream",
     "text": [
      "Loading…:  51%|█████████████▏            | 373/732 [36:37<37:01,  6.19s/it]"
     ]
    },
    {
     "name": "stdout",
     "output_type": "stream",
     "text": [
      "True\n"
     ]
    },
    {
     "name": "stderr",
     "output_type": "stream",
     "text": [
      "Loading…:  51%|█████████████▎            | 374/732 [36:43<36:39,  6.15s/it]"
     ]
    },
    {
     "name": "stdout",
     "output_type": "stream",
     "text": [
      "True\n"
     ]
    },
    {
     "name": "stderr",
     "output_type": "stream",
     "text": [
      "Loading…:  51%|█████████████▎            | 375/732 [36:49<36:24,  6.12s/it]"
     ]
    },
    {
     "name": "stdout",
     "output_type": "stream",
     "text": [
      "True\n"
     ]
    },
    {
     "name": "stderr",
     "output_type": "stream",
     "text": [
      "Loading…:  51%|█████████████▎            | 376/732 [36:55<36:05,  6.08s/it]"
     ]
    },
    {
     "name": "stdout",
     "output_type": "stream",
     "text": [
      "True\n"
     ]
    },
    {
     "name": "stderr",
     "output_type": "stream",
     "text": [
      "Loading…:  52%|█████████████▍            | 377/732 [37:01<35:49,  6.06s/it]"
     ]
    },
    {
     "name": "stdout",
     "output_type": "stream",
     "text": [
      "True\n"
     ]
    },
    {
     "name": "stderr",
     "output_type": "stream",
     "text": [
      "Loading…:  52%|█████████████▍            | 378/732 [37:07<35:29,  6.01s/it]"
     ]
    },
    {
     "name": "stdout",
     "output_type": "stream",
     "text": [
      "True\n"
     ]
    },
    {
     "name": "stderr",
     "output_type": "stream",
     "text": [
      "Loading…:  52%|█████████████▍            | 379/732 [37:13<35:31,  6.04s/it]"
     ]
    },
    {
     "name": "stdout",
     "output_type": "stream",
     "text": [
      "True\n"
     ]
    },
    {
     "name": "stderr",
     "output_type": "stream",
     "text": [
      "Loading…:  52%|█████████████▍            | 380/732 [37:19<35:34,  6.06s/it]"
     ]
    },
    {
     "name": "stdout",
     "output_type": "stream",
     "text": [
      "True\n"
     ]
    },
    {
     "name": "stderr",
     "output_type": "stream",
     "text": [
      "Loading…:  52%|█████████████▌            | 381/732 [37:25<36:28,  6.24s/it]"
     ]
    },
    {
     "name": "stdout",
     "output_type": "stream",
     "text": [
      "True\n"
     ]
    },
    {
     "name": "stderr",
     "output_type": "stream",
     "text": [
      "Loading…:  52%|█████████████▌            | 382/732 [37:31<35:54,  6.16s/it]"
     ]
    },
    {
     "name": "stdout",
     "output_type": "stream",
     "text": [
      "True\n"
     ]
    },
    {
     "name": "stderr",
     "output_type": "stream",
     "text": [
      "Loading…:  52%|█████████████▌            | 383/732 [37:37<35:32,  6.11s/it]"
     ]
    },
    {
     "name": "stdout",
     "output_type": "stream",
     "text": [
      "True\n"
     ]
    },
    {
     "name": "stderr",
     "output_type": "stream",
     "text": [
      "Loading…:  52%|█████████████▋            | 384/732 [37:43<35:17,  6.09s/it]"
     ]
    },
    {
     "name": "stdout",
     "output_type": "stream",
     "text": [
      "True\n"
     ]
    },
    {
     "name": "stderr",
     "output_type": "stream",
     "text": [
      "Loading…:  53%|█████████████▋            | 385/732 [37:50<35:18,  6.11s/it]"
     ]
    },
    {
     "name": "stdout",
     "output_type": "stream",
     "text": [
      "True\n"
     ]
    },
    {
     "name": "stderr",
     "output_type": "stream",
     "text": [
      "Loading…:  53%|█████████████▋            | 386/732 [37:56<35:06,  6.09s/it]"
     ]
    },
    {
     "name": "stdout",
     "output_type": "stream",
     "text": [
      "True\n"
     ]
    },
    {
     "name": "stderr",
     "output_type": "stream",
     "text": [
      "Loading…:  53%|█████████████▋            | 387/732 [38:02<34:50,  6.06s/it]"
     ]
    },
    {
     "name": "stdout",
     "output_type": "stream",
     "text": [
      "True\n"
     ]
    },
    {
     "name": "stderr",
     "output_type": "stream",
     "text": [
      "Loading…:  53%|█████████████▊            | 388/732 [38:08<34:39,  6.04s/it]"
     ]
    },
    {
     "name": "stdout",
     "output_type": "stream",
     "text": [
      "True\n"
     ]
    },
    {
     "name": "stderr",
     "output_type": "stream",
     "text": [
      "Loading…:  53%|█████████████▊            | 389/732 [38:14<34:32,  6.04s/it]"
     ]
    },
    {
     "name": "stdout",
     "output_type": "stream",
     "text": [
      "True\n"
     ]
    },
    {
     "name": "stderr",
     "output_type": "stream",
     "text": [
      "Loading…:  53%|█████████████▊            | 390/732 [38:20<34:22,  6.03s/it]"
     ]
    },
    {
     "name": "stdout",
     "output_type": "stream",
     "text": [
      "True\n"
     ]
    },
    {
     "name": "stderr",
     "output_type": "stream",
     "text": [
      "Loading…:  53%|█████████████▉            | 391/732 [38:26<34:18,  6.04s/it]"
     ]
    },
    {
     "name": "stdout",
     "output_type": "stream",
     "text": [
      "True\n"
     ]
    },
    {
     "name": "stderr",
     "output_type": "stream",
     "text": [
      "Loading…:  54%|█████████████▉            | 392/732 [38:32<34:02,  6.01s/it]"
     ]
    },
    {
     "name": "stdout",
     "output_type": "stream",
     "text": [
      "True\n"
     ]
    },
    {
     "name": "stderr",
     "output_type": "stream",
     "text": [
      "Loading…:  54%|█████████████▉            | 393/732 [38:38<34:13,  6.06s/it]"
     ]
    },
    {
     "name": "stdout",
     "output_type": "stream",
     "text": [
      "True\n"
     ]
    },
    {
     "name": "stderr",
     "output_type": "stream",
     "text": [
      "Loading…:  54%|█████████████▉            | 394/732 [38:44<34:12,  6.07s/it]"
     ]
    },
    {
     "name": "stdout",
     "output_type": "stream",
     "text": [
      "True\n"
     ]
    },
    {
     "name": "stderr",
     "output_type": "stream",
     "text": [
      "Loading…:  54%|██████████████            | 395/732 [38:50<34:09,  6.08s/it]"
     ]
    },
    {
     "name": "stdout",
     "output_type": "stream",
     "text": [
      "True\n"
     ]
    },
    {
     "name": "stderr",
     "output_type": "stream",
     "text": [
      "Loading…:  54%|██████████████            | 396/732 [38:56<34:21,  6.14s/it]"
     ]
    },
    {
     "name": "stdout",
     "output_type": "stream",
     "text": [
      "True\n"
     ]
    },
    {
     "name": "stderr",
     "output_type": "stream",
     "text": [
      "Loading…:  54%|██████████████            | 397/732 [39:03<35:19,  6.33s/it]"
     ]
    },
    {
     "name": "stdout",
     "output_type": "stream",
     "text": [
      "True\n"
     ]
    },
    {
     "name": "stderr",
     "output_type": "stream",
     "text": [
      "Loading…:  54%|██████████████▏           | 398/732 [39:10<36:07,  6.49s/it]"
     ]
    },
    {
     "name": "stdout",
     "output_type": "stream",
     "text": [
      "True\n"
     ]
    },
    {
     "name": "stderr",
     "output_type": "stream",
     "text": [
      "Loading…:  55%|██████████████▏           | 399/732 [39:17<36:19,  6.55s/it]"
     ]
    },
    {
     "name": "stdout",
     "output_type": "stream",
     "text": [
      "True\n"
     ]
    },
    {
     "name": "stderr",
     "output_type": "stream",
     "text": [
      "Loading…:  55%|██████████████▏           | 400/732 [39:23<36:03,  6.52s/it]"
     ]
    },
    {
     "name": "stdout",
     "output_type": "stream",
     "text": [
      "True\n"
     ]
    },
    {
     "name": "stderr",
     "output_type": "stream",
     "text": [
      "Loading…:  55%|██████████████▏           | 401/732 [39:30<35:59,  6.52s/it]"
     ]
    },
    {
     "name": "stdout",
     "output_type": "stream",
     "text": [
      "True\n"
     ]
    },
    {
     "name": "stderr",
     "output_type": "stream",
     "text": [
      "Loading…:  55%|██████████████▎           | 402/732 [39:37<36:46,  6.68s/it]"
     ]
    },
    {
     "name": "stdout",
     "output_type": "stream",
     "text": [
      "True\n"
     ]
    },
    {
     "name": "stderr",
     "output_type": "stream",
     "text": [
      "Loading…:  55%|██████████████▎           | 403/732 [39:43<36:02,  6.57s/it]"
     ]
    },
    {
     "name": "stdout",
     "output_type": "stream",
     "text": [
      "True\n"
     ]
    },
    {
     "name": "stderr",
     "output_type": "stream",
     "text": [
      "Loading…:  55%|██████████████▎           | 404/732 [39:49<35:32,  6.50s/it]"
     ]
    },
    {
     "name": "stdout",
     "output_type": "stream",
     "text": [
      "True\n"
     ]
    },
    {
     "name": "stderr",
     "output_type": "stream",
     "text": [
      "Loading…:  55%|██████████████▍           | 405/732 [39:52<28:56,  5.31s/it]"
     ]
    },
    {
     "name": "stdout",
     "output_type": "stream",
     "text": [
      "True\n"
     ]
    },
    {
     "name": "stderr",
     "output_type": "stream",
     "text": [
      "Loading…:  55%|██████████████▍           | 406/732 [39:54<24:28,  4.50s/it]"
     ]
    },
    {
     "name": "stdout",
     "output_type": "stream",
     "text": [
      "True\n"
     ]
    },
    {
     "name": "stderr",
     "output_type": "stream",
     "text": [
      "Loading…:  56%|██████████████▍           | 407/732 [39:57<21:26,  3.96s/it]"
     ]
    },
    {
     "name": "stdout",
     "output_type": "stream",
     "text": [
      "True\n"
     ]
    },
    {
     "name": "stderr",
     "output_type": "stream",
     "text": [
      "Loading…:  56%|██████████████▍           | 408/732 [40:00<20:04,  3.72s/it]"
     ]
    },
    {
     "name": "stdout",
     "output_type": "stream",
     "text": [
      "True\n"
     ]
    },
    {
     "name": "stderr",
     "output_type": "stream",
     "text": [
      "Loading…:  56%|██████████████▌           | 409/732 [40:04<19:14,  3.57s/it]"
     ]
    },
    {
     "name": "stdout",
     "output_type": "stream",
     "text": [
      "True\n"
     ]
    },
    {
     "name": "stderr",
     "output_type": "stream",
     "text": [
      "Loading…:  56%|██████████████▌           | 410/732 [40:07<18:33,  3.46s/it]"
     ]
    },
    {
     "name": "stdout",
     "output_type": "stream",
     "text": [
      "True\n"
     ]
    },
    {
     "name": "stderr",
     "output_type": "stream",
     "text": [
      "Loading…:  56%|██████████████▌           | 411/732 [40:10<18:13,  3.41s/it]"
     ]
    },
    {
     "name": "stdout",
     "output_type": "stream",
     "text": [
      "True\n"
     ]
    },
    {
     "name": "stderr",
     "output_type": "stream",
     "text": [
      "Loading…:  56%|██████████████▋           | 412/732 [40:13<17:59,  3.37s/it]"
     ]
    },
    {
     "name": "stdout",
     "output_type": "stream",
     "text": [
      "True\n"
     ]
    },
    {
     "name": "stderr",
     "output_type": "stream",
     "text": [
      "Loading…:  56%|██████████████▋           | 413/732 [40:17<17:47,  3.35s/it]"
     ]
    },
    {
     "name": "stdout",
     "output_type": "stream",
     "text": [
      "True\n"
     ]
    },
    {
     "name": "stderr",
     "output_type": "stream",
     "text": [
      "Loading…:  57%|██████████████▋           | 414/732 [40:19<16:50,  3.18s/it]"
     ]
    },
    {
     "name": "stdout",
     "output_type": "stream",
     "text": [
      "True\n"
     ]
    },
    {
     "name": "stderr",
     "output_type": "stream",
     "text": [
      "Loading…:  57%|██████████████▋           | 415/732 [40:22<16:20,  3.09s/it]"
     ]
    },
    {
     "name": "stdout",
     "output_type": "stream",
     "text": [
      "True\n"
     ]
    },
    {
     "name": "stderr",
     "output_type": "stream",
     "text": [
      "Loading…:  57%|██████████████▊           | 416/732 [40:25<16:04,  3.05s/it]"
     ]
    },
    {
     "name": "stdout",
     "output_type": "stream",
     "text": [
      "True\n"
     ]
    },
    {
     "name": "stderr",
     "output_type": "stream",
     "text": [
      "Loading…:  57%|██████████████▊           | 417/732 [40:28<15:43,  2.99s/it]"
     ]
    },
    {
     "name": "stdout",
     "output_type": "stream",
     "text": [
      "True\n"
     ]
    },
    {
     "name": "stderr",
     "output_type": "stream",
     "text": [
      "Loading…:  57%|██████████████▊           | 418/732 [40:31<15:21,  2.94s/it]"
     ]
    },
    {
     "name": "stdout",
     "output_type": "stream",
     "text": [
      "True\n"
     ]
    },
    {
     "name": "stderr",
     "output_type": "stream",
     "text": [
      "Loading…:  57%|██████████████▉           | 419/732 [40:38<22:16,  4.27s/it]"
     ]
    },
    {
     "name": "stdout",
     "output_type": "stream",
     "text": [
      "True\n"
     ]
    },
    {
     "name": "stderr",
     "output_type": "stream",
     "text": [
      "Loading…:  57%|██████████████▉           | 420/732 [40:46<27:18,  5.25s/it]"
     ]
    },
    {
     "name": "stdout",
     "output_type": "stream",
     "text": [
      "True\n"
     ]
    },
    {
     "name": "stderr",
     "output_type": "stream",
     "text": [
      "Loading…:  58%|██████████████▉           | 421/732 [40:54<31:32,  6.08s/it]"
     ]
    },
    {
     "name": "stdout",
     "output_type": "stream",
     "text": [
      "True\n"
     ]
    },
    {
     "name": "stderr",
     "output_type": "stream",
     "text": [
      "Loading…:  58%|██████████████▉           | 422/732 [41:02<33:59,  6.58s/it]"
     ]
    },
    {
     "name": "stdout",
     "output_type": "stream",
     "text": [
      "True\n"
     ]
    },
    {
     "name": "stderr",
     "output_type": "stream",
     "text": [
      "Loading…:  58%|███████████████           | 423/732 [41:09<34:44,  6.75s/it]"
     ]
    },
    {
     "name": "stdout",
     "output_type": "stream",
     "text": [
      "True\n"
     ]
    },
    {
     "name": "stderr",
     "output_type": "stream",
     "text": [
      "Loading…:  58%|███████████████           | 424/732 [41:15<34:19,  6.69s/it]"
     ]
    },
    {
     "name": "stdout",
     "output_type": "stream",
     "text": [
      "True\n"
     ]
    },
    {
     "name": "stderr",
     "output_type": "stream",
     "text": [
      "Loading…:  58%|███████████████           | 425/732 [41:22<34:57,  6.83s/it]"
     ]
    },
    {
     "name": "stdout",
     "output_type": "stream",
     "text": [
      "True\n"
     ]
    },
    {
     "name": "stderr",
     "output_type": "stream",
     "text": [
      "Loading…:  58%|███████████████▏          | 426/732 [41:30<35:22,  6.94s/it]"
     ]
    },
    {
     "name": "stdout",
     "output_type": "stream",
     "text": [
      "True\n"
     ]
    },
    {
     "name": "stderr",
     "output_type": "stream",
     "text": [
      "Loading…:  58%|███████████████▏          | 427/732 [41:37<35:40,  7.02s/it]"
     ]
    },
    {
     "name": "stdout",
     "output_type": "stream",
     "text": [
      "True\n"
     ]
    },
    {
     "name": "stderr",
     "output_type": "stream",
     "text": [
      "Loading…:  58%|███████████████▏          | 428/732 [41:44<35:35,  7.03s/it]"
     ]
    },
    {
     "name": "stdout",
     "output_type": "stream",
     "text": [
      "True\n"
     ]
    },
    {
     "name": "stderr",
     "output_type": "stream",
     "text": [
      "Loading…:  59%|███████████████▏          | 429/732 [41:51<35:41,  7.07s/it]"
     ]
    },
    {
     "name": "stdout",
     "output_type": "stream",
     "text": [
      "True\n"
     ]
    },
    {
     "name": "stderr",
     "output_type": "stream",
     "text": [
      "Loading…:  59%|███████████████▎          | 430/732 [41:58<35:29,  7.05s/it]"
     ]
    },
    {
     "name": "stdout",
     "output_type": "stream",
     "text": [
      "True\n"
     ]
    },
    {
     "name": "stderr",
     "output_type": "stream",
     "text": [
      "Loading…:  59%|███████████████▎          | 431/732 [42:05<35:35,  7.09s/it]"
     ]
    },
    {
     "name": "stdout",
     "output_type": "stream",
     "text": [
      "True\n"
     ]
    },
    {
     "name": "stderr",
     "output_type": "stream",
     "text": [
      "Loading…:  59%|███████████████▎          | 432/732 [42:13<35:53,  7.18s/it]"
     ]
    },
    {
     "name": "stdout",
     "output_type": "stream",
     "text": [
      "True\n"
     ]
    },
    {
     "name": "stderr",
     "output_type": "stream",
     "text": [
      "Loading…:  59%|███████████████▍          | 433/732 [42:20<36:41,  7.36s/it]"
     ]
    },
    {
     "name": "stdout",
     "output_type": "stream",
     "text": [
      "True\n"
     ]
    },
    {
     "name": "stderr",
     "output_type": "stream",
     "text": [
      "Loading…:  59%|███████████████▍          | 434/732 [42:28<36:45,  7.40s/it]"
     ]
    },
    {
     "name": "stdout",
     "output_type": "stream",
     "text": [
      "True\n"
     ]
    },
    {
     "name": "stderr",
     "output_type": "stream",
     "text": [
      "Loading…:  59%|███████████████▍          | 435/732 [42:35<36:05,  7.29s/it]"
     ]
    },
    {
     "name": "stdout",
     "output_type": "stream",
     "text": [
      "True\n"
     ]
    },
    {
     "name": "stderr",
     "output_type": "stream",
     "text": [
      "Loading…:  60%|███████████████▍          | 436/732 [42:42<35:16,  7.15s/it]"
     ]
    },
    {
     "name": "stdout",
     "output_type": "stream",
     "text": [
      "True\n"
     ]
    },
    {
     "name": "stderr",
     "output_type": "stream",
     "text": [
      "Loading…:  60%|███████████████▌          | 437/732 [42:49<35:45,  7.27s/it]"
     ]
    },
    {
     "name": "stdout",
     "output_type": "stream",
     "text": [
      "True\n"
     ]
    },
    {
     "name": "stderr",
     "output_type": "stream",
     "text": [
      "Loading…:  60%|███████████████▌          | 438/732 [42:56<34:54,  7.12s/it]"
     ]
    },
    {
     "name": "stdout",
     "output_type": "stream",
     "text": [
      "True\n"
     ]
    },
    {
     "name": "stderr",
     "output_type": "stream",
     "text": [
      "Loading…:  60%|███████████████▌          | 439/732 [43:03<34:12,  7.01s/it]"
     ]
    },
    {
     "name": "stdout",
     "output_type": "stream",
     "text": [
      "True\n"
     ]
    },
    {
     "name": "stderr",
     "output_type": "stream",
     "text": [
      "Loading…:  60%|███████████████▋          | 440/732 [43:10<34:14,  7.04s/it]"
     ]
    },
    {
     "name": "stdout",
     "output_type": "stream",
     "text": [
      "True\n"
     ]
    },
    {
     "name": "stderr",
     "output_type": "stream",
     "text": [
      "Loading…:  60%|███████████████▋          | 441/732 [43:17<34:01,  7.02s/it]"
     ]
    },
    {
     "name": "stdout",
     "output_type": "stream",
     "text": [
      "True\n"
     ]
    },
    {
     "name": "stderr",
     "output_type": "stream",
     "text": [
      "Loading…:  60%|███████████████▋          | 442/732 [43:24<33:34,  6.95s/it]"
     ]
    },
    {
     "name": "stdout",
     "output_type": "stream",
     "text": [
      "True\n"
     ]
    },
    {
     "name": "stderr",
     "output_type": "stream",
     "text": [
      "Loading…:  61%|███████████████▋          | 443/732 [43:31<34:00,  7.06s/it]"
     ]
    },
    {
     "name": "stdout",
     "output_type": "stream",
     "text": [
      "True\n"
     ]
    },
    {
     "name": "stderr",
     "output_type": "stream",
     "text": [
      "Loading…:  61%|███████████████▊          | 444/732 [43:38<34:20,  7.15s/it]"
     ]
    },
    {
     "name": "stdout",
     "output_type": "stream",
     "text": [
      "True\n"
     ]
    },
    {
     "name": "stderr",
     "output_type": "stream",
     "text": [
      "Loading…:  61%|███████████████▊          | 445/732 [43:46<34:36,  7.24s/it]"
     ]
    },
    {
     "name": "stdout",
     "output_type": "stream",
     "text": [
      "True\n"
     ]
    },
    {
     "name": "stderr",
     "output_type": "stream",
     "text": [
      "Loading…:  61%|███████████████▊          | 446/732 [43:52<33:27,  7.02s/it]"
     ]
    },
    {
     "name": "stdout",
     "output_type": "stream",
     "text": [
      "True\n"
     ]
    },
    {
     "name": "stderr",
     "output_type": "stream",
     "text": [
      "Loading…:  61%|███████████████▉          | 447/732 [43:59<32:59,  6.94s/it]"
     ]
    },
    {
     "name": "stdout",
     "output_type": "stream",
     "text": [
      "True\n"
     ]
    },
    {
     "name": "stderr",
     "output_type": "stream",
     "text": [
      "Loading…:  61%|███████████████▉          | 448/732 [44:05<31:55,  6.74s/it]"
     ]
    },
    {
     "name": "stdout",
     "output_type": "stream",
     "text": [
      "True\n"
     ]
    },
    {
     "name": "stderr",
     "output_type": "stream",
     "text": [
      "Loading…:  61%|███████████████▉          | 449/732 [44:12<31:42,  6.72s/it]"
     ]
    },
    {
     "name": "stdout",
     "output_type": "stream",
     "text": [
      "True\n"
     ]
    },
    {
     "name": "stderr",
     "output_type": "stream",
     "text": [
      "Loading…:  61%|███████████████▉          | 450/732 [44:19<32:18,  6.87s/it]"
     ]
    },
    {
     "name": "stdout",
     "output_type": "stream",
     "text": [
      "True\n"
     ]
    },
    {
     "name": "stderr",
     "output_type": "stream",
     "text": [
      "Loading…:  62%|████████████████          | 451/732 [44:27<32:48,  7.00s/it]"
     ]
    },
    {
     "name": "stdout",
     "output_type": "stream",
     "text": [
      "True\n"
     ]
    },
    {
     "name": "stderr",
     "output_type": "stream",
     "text": [
      "Loading…:  62%|████████████████          | 452/732 [44:34<33:02,  7.08s/it]"
     ]
    },
    {
     "name": "stdout",
     "output_type": "stream",
     "text": [
      "True\n"
     ]
    },
    {
     "name": "stderr",
     "output_type": "stream",
     "text": [
      "Loading…:  62%|████████████████          | 453/732 [44:41<32:47,  7.05s/it]"
     ]
    },
    {
     "name": "stdout",
     "output_type": "stream",
     "text": [
      "True\n"
     ]
    },
    {
     "name": "stderr",
     "output_type": "stream",
     "text": [
      "Loading…:  62%|████████████████▏         | 454/732 [44:48<32:24,  6.99s/it]"
     ]
    },
    {
     "name": "stdout",
     "output_type": "stream",
     "text": [
      "True\n"
     ]
    },
    {
     "name": "stderr",
     "output_type": "stream",
     "text": [
      "Loading…:  62%|████████████████▏         | 455/732 [44:54<32:01,  6.94s/it]"
     ]
    },
    {
     "name": "stdout",
     "output_type": "stream",
     "text": [
      "True\n"
     ]
    },
    {
     "name": "stderr",
     "output_type": "stream",
     "text": [
      "Loading…:  62%|████████████████▏         | 456/732 [45:01<31:29,  6.85s/it]"
     ]
    },
    {
     "name": "stdout",
     "output_type": "stream",
     "text": [
      "True\n"
     ]
    },
    {
     "name": "stderr",
     "output_type": "stream",
     "text": [
      "Loading…:  62%|████████████████▏         | 457/732 [45:08<31:10,  6.80s/it]"
     ]
    },
    {
     "name": "stdout",
     "output_type": "stream",
     "text": [
      "True\n"
     ]
    },
    {
     "name": "stderr",
     "output_type": "stream",
     "text": [
      "Loading…:  63%|████████████████▎         | 458/732 [45:15<30:56,  6.78s/it]"
     ]
    },
    {
     "name": "stdout",
     "output_type": "stream",
     "text": [
      "True\n"
     ]
    },
    {
     "name": "stderr",
     "output_type": "stream",
     "text": [
      "Loading…:  63%|████████████████▎         | 459/732 [45:21<30:29,  6.70s/it]"
     ]
    },
    {
     "name": "stdout",
     "output_type": "stream",
     "text": [
      "True\n"
     ]
    },
    {
     "name": "stderr",
     "output_type": "stream",
     "text": [
      "Loading…:  63%|████████████████▎         | 460/732 [45:28<30:04,  6.63s/it]"
     ]
    },
    {
     "name": "stdout",
     "output_type": "stream",
     "text": [
      "True\n"
     ]
    },
    {
     "name": "stderr",
     "output_type": "stream",
     "text": [
      "Loading…:  63%|████████████████▎         | 461/732 [45:34<30:05,  6.66s/it]"
     ]
    },
    {
     "name": "stdout",
     "output_type": "stream",
     "text": [
      "True\n"
     ]
    },
    {
     "name": "stderr",
     "output_type": "stream",
     "text": [
      "Loading…:  63%|████████████████▍         | 462/732 [45:41<30:08,  6.70s/it]"
     ]
    },
    {
     "name": "stdout",
     "output_type": "stream",
     "text": [
      "True\n"
     ]
    },
    {
     "name": "stderr",
     "output_type": "stream",
     "text": [
      "Loading…:  63%|████████████████▍         | 463/732 [45:48<30:03,  6.71s/it]"
     ]
    },
    {
     "name": "stdout",
     "output_type": "stream",
     "text": [
      "True\n"
     ]
    },
    {
     "name": "stderr",
     "output_type": "stream",
     "text": [
      "Loading…:  63%|████████████████▍         | 464/732 [45:54<29:56,  6.70s/it]"
     ]
    },
    {
     "name": "stdout",
     "output_type": "stream",
     "text": [
      "True\n"
     ]
    },
    {
     "name": "stderr",
     "output_type": "stream",
     "text": [
      "Loading…:  64%|████████████████▌         | 465/732 [46:01<29:52,  6.71s/it]"
     ]
    },
    {
     "name": "stdout",
     "output_type": "stream",
     "text": [
      "True\n"
     ]
    },
    {
     "name": "stderr",
     "output_type": "stream",
     "text": [
      "Loading…:  64%|████████████████▌         | 466/732 [46:08<29:47,  6.72s/it]"
     ]
    },
    {
     "name": "stdout",
     "output_type": "stream",
     "text": [
      "True\n"
     ]
    },
    {
     "name": "stderr",
     "output_type": "stream",
     "text": [
      "Loading…:  64%|████████████████▌         | 467/732 [46:15<30:21,  6.87s/it]"
     ]
    },
    {
     "name": "stdout",
     "output_type": "stream",
     "text": [
      "True\n"
     ]
    },
    {
     "name": "stderr",
     "output_type": "stream",
     "text": [
      "Loading…:  64%|████████████████▌         | 468/732 [46:22<30:41,  6.98s/it]"
     ]
    },
    {
     "name": "stdout",
     "output_type": "stream",
     "text": [
      "True\n"
     ]
    },
    {
     "name": "stderr",
     "output_type": "stream",
     "text": [
      "Loading…:  64%|████████████████▋         | 469/732 [46:30<30:49,  7.03s/it]"
     ]
    },
    {
     "name": "stdout",
     "output_type": "stream",
     "text": [
      "True\n"
     ]
    },
    {
     "name": "stderr",
     "output_type": "stream",
     "text": [
      "Loading…:  64%|████████████████▋         | 470/732 [46:36<30:24,  6.96s/it]"
     ]
    },
    {
     "name": "stdout",
     "output_type": "stream",
     "text": [
      "True\n"
     ]
    },
    {
     "name": "stderr",
     "output_type": "stream",
     "text": [
      "Loading…:  64%|████████████████▋         | 471/732 [46:43<30:02,  6.91s/it]"
     ]
    },
    {
     "name": "stdout",
     "output_type": "stream",
     "text": [
      "True\n"
     ]
    },
    {
     "name": "stderr",
     "output_type": "stream",
     "text": [
      "Loading…:  64%|████████████████▊         | 472/732 [46:50<29:29,  6.81s/it]"
     ]
    },
    {
     "name": "stdout",
     "output_type": "stream",
     "text": [
      "True\n"
     ]
    },
    {
     "name": "stderr",
     "output_type": "stream",
     "text": [
      "Loading…:  65%|████████████████▊         | 473/732 [46:56<29:14,  6.77s/it]"
     ]
    },
    {
     "name": "stdout",
     "output_type": "stream",
     "text": [
      "True\n"
     ]
    },
    {
     "name": "stderr",
     "output_type": "stream",
     "text": [
      "Loading…:  65%|████████████████▊         | 474/732 [47:03<29:07,  6.77s/it]"
     ]
    },
    {
     "name": "stdout",
     "output_type": "stream",
     "text": [
      "True\n"
     ]
    },
    {
     "name": "stderr",
     "output_type": "stream",
     "text": [
      "Loading…:  65%|████████████████▊         | 475/732 [47:10<29:02,  6.78s/it]"
     ]
    },
    {
     "name": "stdout",
     "output_type": "stream",
     "text": [
      "True\n"
     ]
    },
    {
     "name": "stderr",
     "output_type": "stream",
     "text": [
      "Loading…:  65%|████████████████▉         | 476/732 [47:17<29:24,  6.89s/it]"
     ]
    },
    {
     "name": "stdout",
     "output_type": "stream",
     "text": [
      "True\n"
     ]
    },
    {
     "name": "stderr",
     "output_type": "stream",
     "text": [
      "Loading…:  65%|████████████████▉         | 477/732 [47:24<29:35,  6.96s/it]"
     ]
    },
    {
     "name": "stdout",
     "output_type": "stream",
     "text": [
      "True\n"
     ]
    },
    {
     "name": "stderr",
     "output_type": "stream",
     "text": [
      "Loading…:  65%|████████████████▉         | 478/732 [47:31<29:07,  6.88s/it]"
     ]
    },
    {
     "name": "stdout",
     "output_type": "stream",
     "text": [
      "True\n"
     ]
    },
    {
     "name": "stderr",
     "output_type": "stream",
     "text": [
      "Loading…:  65%|█████████████████         | 479/732 [47:38<29:30,  7.00s/it]"
     ]
    },
    {
     "name": "stdout",
     "output_type": "stream",
     "text": [
      "True\n"
     ]
    },
    {
     "name": "stderr",
     "output_type": "stream",
     "text": [
      "Loading…:  66%|█████████████████         | 480/732 [47:45<29:07,  6.94s/it]"
     ]
    },
    {
     "name": "stdout",
     "output_type": "stream",
     "text": [
      "True\n"
     ]
    },
    {
     "name": "stderr",
     "output_type": "stream",
     "text": [
      "Loading…:  66%|█████████████████         | 481/732 [47:52<29:27,  7.04s/it]"
     ]
    },
    {
     "name": "stdout",
     "output_type": "stream",
     "text": [
      "True\n"
     ]
    },
    {
     "name": "stderr",
     "output_type": "stream",
     "text": [
      "Loading…:  66%|█████████████████         | 482/732 [47:59<29:29,  7.08s/it]"
     ]
    },
    {
     "name": "stdout",
     "output_type": "stream",
     "text": [
      "True\n"
     ]
    },
    {
     "name": "stderr",
     "output_type": "stream",
     "text": [
      "Loading…:  66%|█████████████████▏        | 483/732 [48:07<29:46,  7.17s/it]"
     ]
    },
    {
     "name": "stdout",
     "output_type": "stream",
     "text": [
      "True\n"
     ]
    },
    {
     "name": "stderr",
     "output_type": "stream",
     "text": [
      "Loading…:  66%|█████████████████▏        | 484/732 [48:14<29:04,  7.04s/it]"
     ]
    },
    {
     "name": "stdout",
     "output_type": "stream",
     "text": [
      "True\n"
     ]
    },
    {
     "name": "stderr",
     "output_type": "stream",
     "text": [
      "Loading…:  66%|█████████████████▏        | 485/732 [48:21<29:00,  7.05s/it]"
     ]
    },
    {
     "name": "stdout",
     "output_type": "stream",
     "text": [
      "True\n"
     ]
    },
    {
     "name": "stderr",
     "output_type": "stream",
     "text": [
      "Loading…:  66%|█████████████████▎        | 486/732 [48:27<28:35,  6.97s/it]"
     ]
    },
    {
     "name": "stdout",
     "output_type": "stream",
     "text": [
      "True\n"
     ]
    },
    {
     "name": "stderr",
     "output_type": "stream",
     "text": [
      "Loading…:  67%|█████████████████▎        | 487/732 [48:34<28:03,  6.87s/it]"
     ]
    },
    {
     "name": "stdout",
     "output_type": "stream",
     "text": [
      "True\n"
     ]
    },
    {
     "name": "stderr",
     "output_type": "stream",
     "text": [
      "Loading…:  67%|█████████████████▎        | 488/732 [48:41<27:54,  6.86s/it]"
     ]
    },
    {
     "name": "stdout",
     "output_type": "stream",
     "text": [
      "True\n"
     ]
    },
    {
     "name": "stderr",
     "output_type": "stream",
     "text": [
      "Loading…:  67%|█████████████████▎        | 489/732 [48:48<27:48,  6.87s/it]"
     ]
    },
    {
     "name": "stdout",
     "output_type": "stream",
     "text": [
      "True\n"
     ]
    },
    {
     "name": "stderr",
     "output_type": "stream",
     "text": [
      "Loading…:  67%|█████████████████▍        | 490/732 [48:55<28:06,  6.97s/it]"
     ]
    },
    {
     "name": "stdout",
     "output_type": "stream",
     "text": [
      "True\n"
     ]
    },
    {
     "name": "stderr",
     "output_type": "stream",
     "text": [
      "Loading…:  67%|█████████████████▍        | 491/732 [49:02<28:09,  7.01s/it]"
     ]
    },
    {
     "name": "stdout",
     "output_type": "stream",
     "text": [
      "True\n"
     ]
    },
    {
     "name": "stderr",
     "output_type": "stream",
     "text": [
      "Loading…:  67%|█████████████████▍        | 492/732 [49:09<27:50,  6.96s/it]"
     ]
    },
    {
     "name": "stdout",
     "output_type": "stream",
     "text": [
      "True\n"
     ]
    },
    {
     "name": "stderr",
     "output_type": "stream",
     "text": [
      "Loading…:  67%|█████████████████▌        | 493/732 [49:16<28:17,  7.10s/it]"
     ]
    },
    {
     "name": "stdout",
     "output_type": "stream",
     "text": [
      "True\n"
     ]
    },
    {
     "name": "stderr",
     "output_type": "stream",
     "text": [
      "Loading…:  67%|█████████████████▌        | 494/732 [49:23<28:06,  7.09s/it]"
     ]
    },
    {
     "name": "stdout",
     "output_type": "stream",
     "text": [
      "True\n"
     ]
    },
    {
     "name": "stderr",
     "output_type": "stream",
     "text": [
      "Loading…:  68%|█████████████████▌        | 495/732 [49:31<28:30,  7.22s/it]"
     ]
    },
    {
     "name": "stdout",
     "output_type": "stream",
     "text": [
      "True\n"
     ]
    },
    {
     "name": "stderr",
     "output_type": "stream",
     "text": [
      "Loading…:  68%|█████████████████▌        | 496/732 [49:38<28:26,  7.23s/it]"
     ]
    },
    {
     "name": "stdout",
     "output_type": "stream",
     "text": [
      "True\n"
     ]
    },
    {
     "name": "stderr",
     "output_type": "stream",
     "text": [
      "Loading…:  68%|█████████████████▋        | 497/732 [49:45<27:43,  7.08s/it]"
     ]
    },
    {
     "name": "stdout",
     "output_type": "stream",
     "text": [
      "True\n"
     ]
    },
    {
     "name": "stderr",
     "output_type": "stream",
     "text": [
      "Loading…:  68%|█████████████████▋        | 498/732 [49:52<27:46,  7.12s/it]"
     ]
    },
    {
     "name": "stdout",
     "output_type": "stream",
     "text": [
      "True\n"
     ]
    },
    {
     "name": "stderr",
     "output_type": "stream",
     "text": [
      "Loading…:  68%|█████████████████▋        | 499/732 [49:59<27:24,  7.06s/it]"
     ]
    },
    {
     "name": "stdout",
     "output_type": "stream",
     "text": [
      "True\n"
     ]
    },
    {
     "name": "stderr",
     "output_type": "stream",
     "text": [
      "Loading…:  68%|█████████████████▊        | 500/732 [50:06<27:03,  7.00s/it]"
     ]
    },
    {
     "name": "stdout",
     "output_type": "stream",
     "text": [
      "True\n"
     ]
    },
    {
     "name": "stderr",
     "output_type": "stream",
     "text": [
      "Loading…:  68%|█████████████████▊        | 501/732 [50:13<26:52,  6.98s/it]"
     ]
    },
    {
     "name": "stdout",
     "output_type": "stream",
     "text": [
      "True\n"
     ]
    },
    {
     "name": "stderr",
     "output_type": "stream",
     "text": [
      "Loading…:  69%|█████████████████▊        | 502/732 [50:20<26:37,  6.95s/it]"
     ]
    },
    {
     "name": "stdout",
     "output_type": "stream",
     "text": [
      "True\n"
     ]
    },
    {
     "name": "stderr",
     "output_type": "stream",
     "text": [
      "Loading…:  69%|█████████████████▊        | 503/732 [50:27<26:32,  6.95s/it]"
     ]
    },
    {
     "name": "stdout",
     "output_type": "stream",
     "text": [
      "True\n"
     ]
    },
    {
     "name": "stderr",
     "output_type": "stream",
     "text": [
      "Loading…:  69%|█████████████████▉        | 504/732 [50:34<26:17,  6.92s/it]"
     ]
    },
    {
     "name": "stdout",
     "output_type": "stream",
     "text": [
      "True\n"
     ]
    },
    {
     "name": "stderr",
     "output_type": "stream",
     "text": [
      "Loading…:  69%|█████████████████▉        | 505/732 [50:40<26:00,  6.87s/it]"
     ]
    },
    {
     "name": "stdout",
     "output_type": "stream",
     "text": [
      "True\n"
     ]
    },
    {
     "name": "stderr",
     "output_type": "stream",
     "text": [
      "Loading…:  69%|█████████████████▉        | 506/732 [50:47<25:50,  6.86s/it]"
     ]
    },
    {
     "name": "stdout",
     "output_type": "stream",
     "text": [
      "True\n"
     ]
    },
    {
     "name": "stderr",
     "output_type": "stream",
     "text": [
      "Loading…:  69%|██████████████████        | 507/732 [50:54<26:09,  6.98s/it]"
     ]
    },
    {
     "name": "stdout",
     "output_type": "stream",
     "text": [
      "True\n"
     ]
    },
    {
     "name": "stderr",
     "output_type": "stream",
     "text": [
      "Loading…:  69%|██████████████████        | 508/732 [51:01<25:40,  6.88s/it]"
     ]
    },
    {
     "name": "stdout",
     "output_type": "stream",
     "text": [
      "True\n"
     ]
    },
    {
     "name": "stderr",
     "output_type": "stream",
     "text": [
      "Loading…:  70%|██████████████████        | 509/732 [51:08<25:38,  6.90s/it]"
     ]
    },
    {
     "name": "stdout",
     "output_type": "stream",
     "text": [
      "True\n"
     ]
    },
    {
     "name": "stderr",
     "output_type": "stream",
     "text": [
      "Loading…:  70%|██████████████████        | 510/732 [51:15<25:18,  6.84s/it]"
     ]
    },
    {
     "name": "stdout",
     "output_type": "stream",
     "text": [
      "True\n"
     ]
    },
    {
     "name": "stderr",
     "output_type": "stream",
     "text": [
      "Loading…:  70%|██████████████████▏       | 511/732 [51:22<25:42,  6.98s/it]"
     ]
    },
    {
     "name": "stdout",
     "output_type": "stream",
     "text": [
      "True\n"
     ]
    },
    {
     "name": "stderr",
     "output_type": "stream",
     "text": [
      "Loading…:  70%|██████████████████▏       | 512/732 [51:29<26:11,  7.14s/it]"
     ]
    },
    {
     "name": "stdout",
     "output_type": "stream",
     "text": [
      "True\n"
     ]
    },
    {
     "name": "stderr",
     "output_type": "stream",
     "text": [
      "Loading…:  70%|██████████████████▏       | 513/732 [51:37<26:01,  7.13s/it]"
     ]
    },
    {
     "name": "stdout",
     "output_type": "stream",
     "text": [
      "True\n"
     ]
    },
    {
     "name": "stderr",
     "output_type": "stream",
     "text": [
      "Loading…:  70%|██████████████████▎       | 514/732 [51:44<25:45,  7.09s/it]"
     ]
    },
    {
     "name": "stdout",
     "output_type": "stream",
     "text": [
      "True\n"
     ]
    },
    {
     "name": "stderr",
     "output_type": "stream",
     "text": [
      "Loading…:  70%|██████████████████▎       | 515/732 [51:51<25:50,  7.14s/it]"
     ]
    },
    {
     "name": "stdout",
     "output_type": "stream",
     "text": [
      "True\n"
     ]
    },
    {
     "name": "stderr",
     "output_type": "stream",
     "text": [
      "Loading…:  70%|██████████████████▎       | 516/732 [51:58<25:17,  7.02s/it]"
     ]
    },
    {
     "name": "stdout",
     "output_type": "stream",
     "text": [
      "True\n"
     ]
    },
    {
     "name": "stderr",
     "output_type": "stream",
     "text": [
      "Loading…:  71%|██████████████████▎       | 517/732 [52:04<24:43,  6.90s/it]"
     ]
    },
    {
     "name": "stdout",
     "output_type": "stream",
     "text": [
      "True\n"
     ]
    },
    {
     "name": "stderr",
     "output_type": "stream",
     "text": [
      "Loading…:  71%|██████████████████▍       | 518/732 [52:11<24:39,  6.91s/it]"
     ]
    },
    {
     "name": "stdout",
     "output_type": "stream",
     "text": [
      "True\n"
     ]
    },
    {
     "name": "stderr",
     "output_type": "stream",
     "text": [
      "Loading…:  71%|██████████████████▍       | 519/732 [52:18<24:30,  6.90s/it]"
     ]
    },
    {
     "name": "stdout",
     "output_type": "stream",
     "text": [
      "True\n"
     ]
    },
    {
     "name": "stderr",
     "output_type": "stream",
     "text": [
      "Loading…:  71%|██████████████████▍       | 520/732 [52:25<24:15,  6.87s/it]"
     ]
    },
    {
     "name": "stdout",
     "output_type": "stream",
     "text": [
      "True\n"
     ]
    },
    {
     "name": "stderr",
     "output_type": "stream",
     "text": [
      "Loading…:  71%|██████████████████▌       | 521/732 [52:32<24:23,  6.94s/it]"
     ]
    },
    {
     "name": "stdout",
     "output_type": "stream",
     "text": [
      "True\n"
     ]
    },
    {
     "name": "stderr",
     "output_type": "stream",
     "text": [
      "Loading…:  71%|██████████████████▌       | 522/732 [52:39<24:04,  6.88s/it]"
     ]
    },
    {
     "name": "stdout",
     "output_type": "stream",
     "text": [
      "True\n"
     ]
    },
    {
     "name": "stderr",
     "output_type": "stream",
     "text": [
      "Loading…:  71%|██████████████████▌       | 523/732 [52:45<23:47,  6.83s/it]"
     ]
    },
    {
     "name": "stdout",
     "output_type": "stream",
     "text": [
      "True\n"
     ]
    },
    {
     "name": "stderr",
     "output_type": "stream",
     "text": [
      "Loading…:  72%|██████████████████▌       | 524/732 [52:52<23:32,  6.79s/it]"
     ]
    },
    {
     "name": "stdout",
     "output_type": "stream",
     "text": [
      "True\n"
     ]
    },
    {
     "name": "stderr",
     "output_type": "stream",
     "text": [
      "Loading…:  72%|██████████████████▋       | 525/732 [52:59<23:48,  6.90s/it]"
     ]
    },
    {
     "name": "stdout",
     "output_type": "stream",
     "text": [
      "True\n"
     ]
    },
    {
     "name": "stderr",
     "output_type": "stream",
     "text": [
      "Loading…:  72%|██████████████████▋       | 526/732 [53:06<23:34,  6.87s/it]"
     ]
    },
    {
     "name": "stdout",
     "output_type": "stream",
     "text": [
      "True\n"
     ]
    },
    {
     "name": "stderr",
     "output_type": "stream",
     "text": [
      "Loading…:  72%|██████████████████▋       | 527/732 [53:13<23:15,  6.81s/it]"
     ]
    },
    {
     "name": "stdout",
     "output_type": "stream",
     "text": [
      "True\n"
     ]
    },
    {
     "name": "stderr",
     "output_type": "stream",
     "text": [
      "Loading…:  72%|██████████████████▊       | 528/732 [53:19<23:04,  6.79s/it]"
     ]
    },
    {
     "name": "stdout",
     "output_type": "stream",
     "text": [
      "True\n"
     ]
    },
    {
     "name": "stderr",
     "output_type": "stream",
     "text": [
      "Loading…:  72%|██████████████████▊       | 529/732 [53:26<23:00,  6.80s/it]"
     ]
    },
    {
     "name": "stdout",
     "output_type": "stream",
     "text": [
      "True\n"
     ]
    },
    {
     "name": "stderr",
     "output_type": "stream",
     "text": [
      "Loading…:  72%|██████████████████▊       | 530/732 [53:33<22:54,  6.80s/it]"
     ]
    },
    {
     "name": "stdout",
     "output_type": "stream",
     "text": [
      "True\n"
     ]
    },
    {
     "name": "stderr",
     "output_type": "stream",
     "text": [
      "Loading…:  73%|██████████████████▊       | 531/732 [53:40<22:49,  6.81s/it]"
     ]
    },
    {
     "name": "stdout",
     "output_type": "stream",
     "text": [
      "True\n"
     ]
    },
    {
     "name": "stderr",
     "output_type": "stream",
     "text": [
      "Loading…:  73%|██████████████████▉       | 532/732 [53:47<22:47,  6.84s/it]"
     ]
    },
    {
     "name": "stdout",
     "output_type": "stream",
     "text": [
      "True\n"
     ]
    },
    {
     "name": "stderr",
     "output_type": "stream",
     "text": [
      "Loading…:  73%|██████████████████▉       | 533/732 [53:56<24:39,  7.43s/it]"
     ]
    },
    {
     "name": "stdout",
     "output_type": "stream",
     "text": [
      "True\n"
     ]
    },
    {
     "name": "stderr",
     "output_type": "stream",
     "text": [
      "Loading…:  73%|██████████████████▉       | 534/732 [54:04<25:00,  7.58s/it]"
     ]
    },
    {
     "name": "stdout",
     "output_type": "stream",
     "text": [
      "True\n"
     ]
    },
    {
     "name": "stderr",
     "output_type": "stream",
     "text": [
      "Loading…:  73%|███████████████████       | 535/732 [54:11<24:35,  7.49s/it]"
     ]
    },
    {
     "name": "stdout",
     "output_type": "stream",
     "text": [
      "True\n"
     ]
    },
    {
     "name": "stderr",
     "output_type": "stream",
     "text": [
      "Loading…:  73%|███████████████████       | 536/732 [54:18<24:05,  7.38s/it]"
     ]
    },
    {
     "name": "stdout",
     "output_type": "stream",
     "text": [
      "True\n"
     ]
    },
    {
     "name": "stderr",
     "output_type": "stream",
     "text": [
      "Loading…:  73%|███████████████████       | 537/732 [54:25<23:30,  7.24s/it]"
     ]
    },
    {
     "name": "stdout",
     "output_type": "stream",
     "text": [
      "True\n"
     ]
    },
    {
     "name": "stderr",
     "output_type": "stream",
     "text": [
      "Loading…:  73%|███████████████████       | 538/732 [54:32<23:18,  7.21s/it]"
     ]
    },
    {
     "name": "stdout",
     "output_type": "stream",
     "text": [
      "True\n"
     ]
    },
    {
     "name": "stderr",
     "output_type": "stream",
     "text": [
      "Loading…:  74%|███████████████████▏      | 539/732 [54:39<22:58,  7.14s/it]"
     ]
    },
    {
     "name": "stdout",
     "output_type": "stream",
     "text": [
      "True\n"
     ]
    },
    {
     "name": "stderr",
     "output_type": "stream",
     "text": [
      "Loading…:  74%|███████████████████▏      | 540/732 [54:46<22:47,  7.12s/it]"
     ]
    },
    {
     "name": "stdout",
     "output_type": "stream",
     "text": [
      "True\n"
     ]
    },
    {
     "name": "stderr",
     "output_type": "stream",
     "text": [
      "Loading…:  74%|███████████████████▏      | 541/732 [54:53<22:20,  7.02s/it]"
     ]
    },
    {
     "name": "stdout",
     "output_type": "stream",
     "text": [
      "True\n"
     ]
    },
    {
     "name": "stderr",
     "output_type": "stream",
     "text": [
      "Loading…:  74%|███████████████████▎      | 542/732 [55:00<22:07,  6.98s/it]"
     ]
    },
    {
     "name": "stdout",
     "output_type": "stream",
     "text": [
      "True\n"
     ]
    },
    {
     "name": "stderr",
     "output_type": "stream",
     "text": [
      "Loading…:  74%|███████████████████▎      | 543/732 [55:07<22:05,  7.01s/it]"
     ]
    },
    {
     "name": "stdout",
     "output_type": "stream",
     "text": [
      "True\n"
     ]
    },
    {
     "name": "stderr",
     "output_type": "stream",
     "text": [
      "Loading…:  74%|███████████████████▎      | 544/732 [55:14<22:20,  7.13s/it]"
     ]
    },
    {
     "name": "stdout",
     "output_type": "stream",
     "text": [
      "True\n"
     ]
    },
    {
     "name": "stderr",
     "output_type": "stream",
     "text": [
      "Loading…:  74%|███████████████████▎      | 545/732 [55:23<23:57,  7.69s/it]"
     ]
    },
    {
     "name": "stdout",
     "output_type": "stream",
     "text": [
      "True\n"
     ]
    },
    {
     "name": "stderr",
     "output_type": "stream",
     "text": [
      "Loading…:  75%|███████████████████▍      | 546/732 [55:30<23:02,  7.44s/it]"
     ]
    },
    {
     "name": "stdout",
     "output_type": "stream",
     "text": [
      "True\n"
     ]
    },
    {
     "name": "stderr",
     "output_type": "stream",
     "text": [
      "Loading…:  75%|███████████████████▍      | 547/732 [55:37<22:31,  7.31s/it]"
     ]
    },
    {
     "name": "stdout",
     "output_type": "stream",
     "text": [
      "True\n"
     ]
    },
    {
     "name": "stderr",
     "output_type": "stream",
     "text": [
      "Loading…:  75%|███████████████████▍      | 548/732 [55:44<22:04,  7.20s/it]"
     ]
    },
    {
     "name": "stdout",
     "output_type": "stream",
     "text": [
      "True\n"
     ]
    },
    {
     "name": "stderr",
     "output_type": "stream",
     "text": [
      "Loading…:  75%|███████████████████▌      | 549/732 [55:51<21:52,  7.17s/it]"
     ]
    },
    {
     "name": "stdout",
     "output_type": "stream",
     "text": [
      "True\n"
     ]
    },
    {
     "name": "stderr",
     "output_type": "stream",
     "text": [
      "Loading…:  75%|███████████████████▌      | 550/732 [55:58<21:52,  7.21s/it]"
     ]
    },
    {
     "name": "stdout",
     "output_type": "stream",
     "text": [
      "True\n"
     ]
    },
    {
     "name": "stderr",
     "output_type": "stream",
     "text": [
      "Loading…:  75%|███████████████████▌      | 551/732 [56:05<21:30,  7.13s/it]"
     ]
    },
    {
     "name": "stdout",
     "output_type": "stream",
     "text": [
      "True\n"
     ]
    },
    {
     "name": "stderr",
     "output_type": "stream",
     "text": [
      "Loading…:  75%|███████████████████▌      | 552/732 [56:14<22:46,  7.59s/it]"
     ]
    },
    {
     "name": "stdout",
     "output_type": "stream",
     "text": [
      "True\n"
     ]
    },
    {
     "name": "stderr",
     "output_type": "stream",
     "text": [
      "Loading…:  76%|███████████████████▋      | 553/732 [56:21<22:27,  7.53s/it]"
     ]
    },
    {
     "name": "stdout",
     "output_type": "stream",
     "text": [
      "True\n"
     ]
    },
    {
     "name": "stderr",
     "output_type": "stream",
     "text": [
      "Loading…:  76%|███████████████████▋      | 554/732 [56:28<21:56,  7.40s/it]"
     ]
    },
    {
     "name": "stdout",
     "output_type": "stream",
     "text": [
      "True\n"
     ]
    },
    {
     "name": "stderr",
     "output_type": "stream",
     "text": [
      "Loading…:  76%|███████████████████▋      | 555/732 [56:35<21:26,  7.27s/it]"
     ]
    },
    {
     "name": "stdout",
     "output_type": "stream",
     "text": [
      "True\n"
     ]
    },
    {
     "name": "stderr",
     "output_type": "stream",
     "text": [
      "Loading…:  76%|███████████████████▋      | 556/732 [56:42<20:57,  7.14s/it]"
     ]
    },
    {
     "name": "stdout",
     "output_type": "stream",
     "text": [
      "True\n"
     ]
    },
    {
     "name": "stderr",
     "output_type": "stream",
     "text": [
      "Loading…:  76%|███████████████████▊      | 557/732 [56:50<20:53,  7.16s/it]"
     ]
    },
    {
     "name": "stdout",
     "output_type": "stream",
     "text": [
      "True\n"
     ]
    },
    {
     "name": "stderr",
     "output_type": "stream",
     "text": [
      "Loading…:  76%|███████████████████▊      | 558/732 [56:57<20:44,  7.15s/it]"
     ]
    },
    {
     "name": "stdout",
     "output_type": "stream",
     "text": [
      "True\n"
     ]
    },
    {
     "name": "stderr",
     "output_type": "stream",
     "text": [
      "Loading…:  76%|███████████████████▊      | 559/732 [57:04<21:10,  7.35s/it]"
     ]
    },
    {
     "name": "stdout",
     "output_type": "stream",
     "text": [
      "True\n"
     ]
    },
    {
     "name": "stderr",
     "output_type": "stream",
     "text": [
      "Loading…:  77%|███████████████████▉      | 560/732 [57:11<20:41,  7.22s/it]"
     ]
    },
    {
     "name": "stdout",
     "output_type": "stream",
     "text": [
      "True\n"
     ]
    },
    {
     "name": "stderr",
     "output_type": "stream",
     "text": [
      "Loading…:  77%|███████████████████▉      | 561/732 [57:18<20:22,  7.15s/it]"
     ]
    },
    {
     "name": "stdout",
     "output_type": "stream",
     "text": [
      "True\n"
     ]
    },
    {
     "name": "stderr",
     "output_type": "stream",
     "text": [
      "Loading…:  77%|███████████████████▉      | 562/732 [57:26<20:26,  7.21s/it]"
     ]
    },
    {
     "name": "stdout",
     "output_type": "stream",
     "text": [
      "True\n"
     ]
    },
    {
     "name": "stderr",
     "output_type": "stream",
     "text": [
      "Loading…:  77%|███████████████████▉      | 563/732 [57:34<21:04,  7.48s/it]"
     ]
    },
    {
     "name": "stdout",
     "output_type": "stream",
     "text": [
      "True\n"
     ]
    },
    {
     "name": "stderr",
     "output_type": "stream",
     "text": [
      "Loading…:  77%|████████████████████      | 564/732 [57:42<21:08,  7.55s/it]"
     ]
    },
    {
     "name": "stdout",
     "output_type": "stream",
     "text": [
      "True\n"
     ]
    },
    {
     "name": "stderr",
     "output_type": "stream",
     "text": [
      "Loading…:  77%|████████████████████      | 565/732 [57:49<21:04,  7.57s/it]"
     ]
    },
    {
     "name": "stdout",
     "output_type": "stream",
     "text": [
      "True\n"
     ]
    },
    {
     "name": "stderr",
     "output_type": "stream",
     "text": [
      "Loading…:  77%|████████████████████      | 566/732 [57:56<20:33,  7.43s/it]"
     ]
    },
    {
     "name": "stdout",
     "output_type": "stream",
     "text": [
      "True\n"
     ]
    },
    {
     "name": "stderr",
     "output_type": "stream",
     "text": [
      "Loading…:  77%|████████████████████▏     | 567/732 [58:04<20:19,  7.39s/it]"
     ]
    },
    {
     "name": "stdout",
     "output_type": "stream",
     "text": [
      "True\n"
     ]
    },
    {
     "name": "stderr",
     "output_type": "stream",
     "text": [
      "Loading…:  78%|████████████████████▏     | 568/732 [58:11<20:04,  7.34s/it]"
     ]
    },
    {
     "name": "stdout",
     "output_type": "stream",
     "text": [
      "True\n"
     ]
    },
    {
     "name": "stderr",
     "output_type": "stream",
     "text": [
      "Loading…:  78%|████████████████████▏     | 569/732 [58:20<21:07,  7.77s/it]"
     ]
    },
    {
     "name": "stdout",
     "output_type": "stream",
     "text": [
      "True\n"
     ]
    },
    {
     "name": "stderr",
     "output_type": "stream",
     "text": [
      "Loading…:  78%|████████████████████▏     | 570/732 [58:27<20:52,  7.73s/it]"
     ]
    },
    {
     "name": "stdout",
     "output_type": "stream",
     "text": [
      "True\n"
     ]
    },
    {
     "name": "stderr",
     "output_type": "stream",
     "text": [
      "Loading…:  78%|████████████████████▎     | 571/732 [58:35<20:47,  7.75s/it]"
     ]
    },
    {
     "name": "stdout",
     "output_type": "stream",
     "text": [
      "True\n"
     ]
    },
    {
     "name": "stderr",
     "output_type": "stream",
     "text": [
      "Loading…:  78%|████████████████████▎     | 572/732 [58:42<20:21,  7.64s/it]"
     ]
    },
    {
     "name": "stdout",
     "output_type": "stream",
     "text": [
      "True\n"
     ]
    },
    {
     "name": "stderr",
     "output_type": "stream",
     "text": [
      "Loading…:  78%|████████████████████▎     | 573/732 [58:50<20:14,  7.64s/it]"
     ]
    },
    {
     "name": "stdout",
     "output_type": "stream",
     "text": [
      "True\n"
     ]
    },
    {
     "name": "stderr",
     "output_type": "stream",
     "text": [
      "Loading…:  78%|████████████████████▍     | 574/732 [58:57<19:57,  7.58s/it]"
     ]
    },
    {
     "name": "stdout",
     "output_type": "stream",
     "text": [
      "True\n"
     ]
    },
    {
     "name": "stderr",
     "output_type": "stream",
     "text": [
      "Loading…:  79%|████████████████████▍     | 575/732 [59:05<19:47,  7.56s/it]"
     ]
    },
    {
     "name": "stdout",
     "output_type": "stream",
     "text": [
      "True\n"
     ]
    },
    {
     "name": "stderr",
     "output_type": "stream",
     "text": [
      "Loading…:  79%|████████████████████▍     | 576/732 [59:13<19:46,  7.61s/it]"
     ]
    },
    {
     "name": "stdout",
     "output_type": "stream",
     "text": [
      "True\n"
     ]
    },
    {
     "name": "stderr",
     "output_type": "stream",
     "text": [
      "Loading…:  79%|████████████████████▍     | 577/732 [59:20<19:47,  7.66s/it]"
     ]
    },
    {
     "name": "stdout",
     "output_type": "stream",
     "text": [
      "True\n"
     ]
    },
    {
     "name": "stderr",
     "output_type": "stream",
     "text": [
      "Loading…:  79%|████████████████████▌     | 578/732 [59:29<20:41,  8.06s/it]"
     ]
    },
    {
     "name": "stdout",
     "output_type": "stream",
     "text": [
      "True\n"
     ]
    },
    {
     "name": "stderr",
     "output_type": "stream",
     "text": [
      "Loading…:  79%|████████████████████▌     | 579/732 [59:39<21:58,  8.62s/it]"
     ]
    },
    {
     "name": "stdout",
     "output_type": "stream",
     "text": [
      "True\n"
     ]
    },
    {
     "name": "stderr",
     "output_type": "stream",
     "text": [
      "Loading…:  79%|████████████████████▌     | 580/732 [59:49<22:52,  9.03s/it]"
     ]
    },
    {
     "name": "stdout",
     "output_type": "stream",
     "text": [
      "True\n"
     ]
    },
    {
     "name": "stderr",
     "output_type": "stream",
     "text": [
      "Loading…:  79%|████████████████████▋     | 581/732 [59:59<22:54,  9.10s/it]"
     ]
    },
    {
     "name": "stdout",
     "output_type": "stream",
     "text": [
      "True\n"
     ]
    },
    {
     "name": "stderr",
     "output_type": "stream",
     "text": [
      "Loading…:  80%|███████████████████     | 582/732 [1:00:07<22:13,  8.89s/it]"
     ]
    },
    {
     "name": "stdout",
     "output_type": "stream",
     "text": [
      "True\n"
     ]
    },
    {
     "name": "stderr",
     "output_type": "stream",
     "text": [
      "Loading…:  80%|███████████████████     | 583/732 [1:00:15<21:38,  8.71s/it]"
     ]
    },
    {
     "name": "stdout",
     "output_type": "stream",
     "text": [
      "True\n"
     ]
    },
    {
     "name": "stderr",
     "output_type": "stream",
     "text": [
      "Loading…:  80%|███████████████████▏    | 584/732 [1:00:23<20:57,  8.50s/it]"
     ]
    },
    {
     "name": "stdout",
     "output_type": "stream",
     "text": [
      "True\n"
     ]
    },
    {
     "name": "stderr",
     "output_type": "stream",
     "text": [
      "Loading…:  80%|███████████████████▏    | 585/732 [1:00:31<20:14,  8.26s/it]"
     ]
    },
    {
     "name": "stdout",
     "output_type": "stream",
     "text": [
      "True\n"
     ]
    },
    {
     "name": "stderr",
     "output_type": "stream",
     "text": [
      "Loading…:  80%|███████████████████▏    | 586/732 [1:00:39<19:37,  8.06s/it]"
     ]
    },
    {
     "name": "stdout",
     "output_type": "stream",
     "text": [
      "True\n"
     ]
    },
    {
     "name": "stderr",
     "output_type": "stream",
     "text": [
      "Loading…:  80%|███████████████████▏    | 587/732 [1:00:46<18:54,  7.83s/it]"
     ]
    },
    {
     "name": "stdout",
     "output_type": "stream",
     "text": [
      "True\n"
     ]
    },
    {
     "name": "stderr",
     "output_type": "stream",
     "text": [
      "Loading…:  80%|███████████████████▎    | 588/732 [1:00:54<19:12,  8.00s/it]"
     ]
    },
    {
     "name": "stdout",
     "output_type": "stream",
     "text": [
      "True\n"
     ]
    },
    {
     "name": "stderr",
     "output_type": "stream",
     "text": [
      "Loading…:  80%|███████████████████▎    | 589/732 [1:01:01<17:47,  7.46s/it]"
     ]
    },
    {
     "name": "stdout",
     "output_type": "stream",
     "text": [
      "True\n"
     ]
    },
    {
     "name": "stderr",
     "output_type": "stream",
     "text": [
      "Loading…:  81%|███████████████████▎    | 590/732 [1:01:11<19:44,  8.34s/it]"
     ]
    },
    {
     "name": "stdout",
     "output_type": "stream",
     "text": [
      "True\n"
     ]
    },
    {
     "name": "stderr",
     "output_type": "stream",
     "text": [
      "Loading…:  81%|███████████████████▍    | 591/732 [1:01:21<20:37,  8.78s/it]"
     ]
    },
    {
     "name": "stdout",
     "output_type": "stream",
     "text": [
      "True\n"
     ]
    },
    {
     "name": "stderr",
     "output_type": "stream",
     "text": [
      "Loading…:  81%|███████████████████▍    | 592/732 [1:01:31<21:24,  9.17s/it]"
     ]
    },
    {
     "name": "stdout",
     "output_type": "stream",
     "text": [
      "True\n"
     ]
    },
    {
     "name": "stderr",
     "output_type": "stream",
     "text": [
      "Loading…:  81%|███████████████████▍    | 593/732 [1:01:41<21:47,  9.41s/it]"
     ]
    },
    {
     "name": "stdout",
     "output_type": "stream",
     "text": [
      "True\n"
     ]
    },
    {
     "name": "stderr",
     "output_type": "stream",
     "text": [
      "Loading…:  81%|███████████████████▍    | 594/732 [1:01:50<21:22,  9.30s/it]"
     ]
    },
    {
     "name": "stdout",
     "output_type": "stream",
     "text": [
      "True\n"
     ]
    },
    {
     "name": "stderr",
     "output_type": "stream",
     "text": [
      "Loading…:  81%|███████████████████▌    | 595/732 [1:01:59<20:56,  9.17s/it]"
     ]
    },
    {
     "name": "stdout",
     "output_type": "stream",
     "text": [
      "True\n"
     ]
    },
    {
     "name": "stderr",
     "output_type": "stream",
     "text": [
      "Loading…:  81%|███████████████████▌    | 596/732 [1:02:07<20:02,  8.84s/it]"
     ]
    },
    {
     "name": "stdout",
     "output_type": "stream",
     "text": [
      "True\n"
     ]
    },
    {
     "name": "stderr",
     "output_type": "stream",
     "text": [
      "Loading…:  82%|███████████████████▌    | 597/732 [1:02:16<20:10,  8.97s/it]"
     ]
    },
    {
     "name": "stdout",
     "output_type": "stream",
     "text": [
      "True\n"
     ]
    },
    {
     "name": "stderr",
     "output_type": "stream",
     "text": [
      "Loading…:  82%|███████████████████▌    | 598/732 [1:02:25<19:42,  8.82s/it]"
     ]
    },
    {
     "name": "stdout",
     "output_type": "stream",
     "text": [
      "True\n"
     ]
    },
    {
     "name": "stderr",
     "output_type": "stream",
     "text": [
      "Loading…:  82%|███████████████████▋    | 599/732 [1:02:34<20:11,  9.11s/it]"
     ]
    },
    {
     "name": "stdout",
     "output_type": "stream",
     "text": [
      "True\n"
     ]
    },
    {
     "name": "stderr",
     "output_type": "stream",
     "text": [
      "Loading…:  82%|███████████████████▋    | 600/732 [1:02:45<20:52,  9.49s/it]"
     ]
    },
    {
     "name": "stdout",
     "output_type": "stream",
     "text": [
      "True\n"
     ]
    },
    {
     "name": "stderr",
     "output_type": "stream",
     "text": [
      "Loading…:  82%|███████████████████▋    | 601/732 [1:02:54<20:32,  9.41s/it]"
     ]
    },
    {
     "name": "stdout",
     "output_type": "stream",
     "text": [
      "True\n"
     ]
    },
    {
     "name": "stderr",
     "output_type": "stream",
     "text": [
      "Loading…:  82%|███████████████████▋    | 602/732 [1:03:04<20:36,  9.52s/it]"
     ]
    },
    {
     "name": "stdout",
     "output_type": "stream",
     "text": [
      "True\n"
     ]
    },
    {
     "name": "stderr",
     "output_type": "stream",
     "text": [
      "Loading…:  82%|███████████████████▊    | 603/732 [1:03:12<19:28,  9.06s/it]"
     ]
    },
    {
     "name": "stdout",
     "output_type": "stream",
     "text": [
      "True\n"
     ]
    },
    {
     "name": "stderr",
     "output_type": "stream",
     "text": [
      "Loading…:  83%|███████████████████▊    | 604/732 [1:03:20<19:09,  8.98s/it]"
     ]
    },
    {
     "name": "stdout",
     "output_type": "stream",
     "text": [
      "True\n"
     ]
    },
    {
     "name": "stderr",
     "output_type": "stream",
     "text": [
      "Loading…:  83%|███████████████████▊    | 605/732 [1:03:29<18:37,  8.80s/it]"
     ]
    },
    {
     "name": "stdout",
     "output_type": "stream",
     "text": [
      "True\n"
     ]
    },
    {
     "name": "stderr",
     "output_type": "stream",
     "text": [
      "Loading…:  83%|███████████████████▊    | 606/732 [1:03:37<18:00,  8.58s/it]"
     ]
    },
    {
     "name": "stdout",
     "output_type": "stream",
     "text": [
      "True\n"
     ]
    },
    {
     "name": "stderr",
     "output_type": "stream",
     "text": [
      "Loading…:  83%|███████████████████▉    | 607/732 [1:03:45<17:39,  8.48s/it]"
     ]
    },
    {
     "name": "stdout",
     "output_type": "stream",
     "text": [
      "True\n"
     ]
    },
    {
     "name": "stderr",
     "output_type": "stream",
     "text": [
      "Loading…:  83%|███████████████████▉    | 608/732 [1:03:55<18:13,  8.82s/it]"
     ]
    },
    {
     "name": "stdout",
     "output_type": "stream",
     "text": [
      "True\n"
     ]
    },
    {
     "name": "stderr",
     "output_type": "stream",
     "text": [
      "Loading…:  83%|███████████████████▉    | 609/732 [1:04:04<18:19,  8.94s/it]"
     ]
    },
    {
     "name": "stdout",
     "output_type": "stream",
     "text": [
      "True\n"
     ]
    },
    {
     "name": "stderr",
     "output_type": "stream",
     "text": [
      "Loading…:  83%|████████████████████    | 610/732 [1:04:13<18:09,  8.93s/it]"
     ]
    },
    {
     "name": "stdout",
     "output_type": "stream",
     "text": [
      "True\n"
     ]
    },
    {
     "name": "stderr",
     "output_type": "stream",
     "text": [
      "Loading…:  83%|████████████████████    | 611/732 [1:04:23<18:31,  9.19s/it]"
     ]
    },
    {
     "name": "stdout",
     "output_type": "stream",
     "text": [
      "True\n"
     ]
    },
    {
     "name": "stderr",
     "output_type": "stream",
     "text": [
      "Loading…:  84%|████████████████████    | 612/732 [1:04:32<18:37,  9.32s/it]"
     ]
    },
    {
     "name": "stdout",
     "output_type": "stream",
     "text": [
      "True\n"
     ]
    },
    {
     "name": "stderr",
     "output_type": "stream",
     "text": [
      "Loading…:  84%|████████████████████    | 613/732 [1:04:41<17:53,  9.02s/it]"
     ]
    },
    {
     "name": "stdout",
     "output_type": "stream",
     "text": [
      "True\n"
     ]
    },
    {
     "name": "stderr",
     "output_type": "stream",
     "text": [
      "Loading…:  84%|████████████████████▏   | 614/732 [1:04:50<17:50,  9.07s/it]"
     ]
    },
    {
     "name": "stdout",
     "output_type": "stream",
     "text": [
      "True\n"
     ]
    },
    {
     "name": "stderr",
     "output_type": "stream",
     "text": [
      "Loading…:  84%|████████████████████▏   | 615/732 [1:04:59<17:38,  9.05s/it]"
     ]
    },
    {
     "name": "stdout",
     "output_type": "stream",
     "text": [
      "True\n"
     ]
    },
    {
     "name": "stderr",
     "output_type": "stream",
     "text": [
      "Loading…:  84%|████████████████████▏   | 616/732 [1:05:08<17:30,  9.05s/it]"
     ]
    },
    {
     "name": "stdout",
     "output_type": "stream",
     "text": [
      "True\n"
     ]
    },
    {
     "name": "stderr",
     "output_type": "stream",
     "text": [
      "Loading…:  84%|████████████████████▏   | 617/732 [1:05:16<17:05,  8.92s/it]"
     ]
    },
    {
     "name": "stdout",
     "output_type": "stream",
     "text": [
      "True\n"
     ]
    },
    {
     "name": "stderr",
     "output_type": "stream",
     "text": [
      "Loading…:  84%|████████████████████▎   | 618/732 [1:05:25<16:48,  8.85s/it]"
     ]
    },
    {
     "name": "stdout",
     "output_type": "stream",
     "text": [
      "True\n"
     ]
    },
    {
     "name": "stderr",
     "output_type": "stream",
     "text": [
      "Loading…:  85%|████████████████████▎   | 619/732 [1:05:33<16:08,  8.57s/it]"
     ]
    },
    {
     "name": "stdout",
     "output_type": "stream",
     "text": [
      "True\n"
     ]
    },
    {
     "name": "stderr",
     "output_type": "stream",
     "text": [
      "Loading…:  85%|████████████████████▎   | 620/732 [1:05:42<16:02,  8.59s/it]"
     ]
    },
    {
     "name": "stdout",
     "output_type": "stream",
     "text": [
      "True\n"
     ]
    },
    {
     "name": "stderr",
     "output_type": "stream",
     "text": [
      "Loading…:  85%|████████████████████▎   | 621/732 [1:05:49<15:00,  8.11s/it]"
     ]
    },
    {
     "name": "stdout",
     "output_type": "stream",
     "text": [
      "True\n"
     ]
    },
    {
     "name": "stderr",
     "output_type": "stream",
     "text": [
      "Loading…:  85%|████████████████████▍   | 622/732 [1:05:58<15:44,  8.59s/it]"
     ]
    },
    {
     "name": "stdout",
     "output_type": "stream",
     "text": [
      "True\n"
     ]
    },
    {
     "name": "stderr",
     "output_type": "stream",
     "text": [
      "Loading…:  85%|████████████████████▍   | 623/732 [1:06:08<16:18,  8.97s/it]"
     ]
    },
    {
     "name": "stdout",
     "output_type": "stream",
     "text": [
      "True\n"
     ]
    },
    {
     "name": "stderr",
     "output_type": "stream",
     "text": [
      "Loading…:  85%|████████████████████▍   | 624/732 [1:06:18<16:29,  9.16s/it]"
     ]
    },
    {
     "name": "stdout",
     "output_type": "stream",
     "text": [
      "True\n"
     ]
    },
    {
     "name": "stderr",
     "output_type": "stream",
     "text": [
      "Loading…:  85%|████████████████████▍   | 625/732 [1:06:26<15:59,  8.97s/it]"
     ]
    },
    {
     "name": "stdout",
     "output_type": "stream",
     "text": [
      "True\n"
     ]
    },
    {
     "name": "stderr",
     "output_type": "stream",
     "text": [
      "Loading…:  86%|████████████████████▌   | 626/732 [1:06:35<15:33,  8.81s/it]"
     ]
    },
    {
     "name": "stdout",
     "output_type": "stream",
     "text": [
      "True\n"
     ]
    },
    {
     "name": "stderr",
     "output_type": "stream",
     "text": [
      "Loading…:  86%|████████████████████▌   | 627/732 [1:06:44<15:35,  8.91s/it]"
     ]
    },
    {
     "name": "stdout",
     "output_type": "stream",
     "text": [
      "True\n"
     ]
    },
    {
     "name": "stderr",
     "output_type": "stream",
     "text": [
      "Loading…:  86%|████████████████████▌   | 628/732 [1:06:54<16:12,  9.35s/it]"
     ]
    },
    {
     "name": "stdout",
     "output_type": "stream",
     "text": [
      "True\n"
     ]
    },
    {
     "name": "stderr",
     "output_type": "stream",
     "text": [
      "Loading…:  86%|████████████████████▌   | 629/732 [1:07:05<16:34,  9.66s/it]"
     ]
    },
    {
     "name": "stdout",
     "output_type": "stream",
     "text": [
      "True\n"
     ]
    },
    {
     "name": "stderr",
     "output_type": "stream",
     "text": [
      "Loading…:  86%|████████████████████▋   | 630/732 [1:07:14<16:17,  9.59s/it]"
     ]
    },
    {
     "name": "stdout",
     "output_type": "stream",
     "text": [
      "True\n"
     ]
    },
    {
     "name": "stderr",
     "output_type": "stream",
     "text": [
      "Loading…:  86%|████████████████████▋   | 631/732 [1:07:24<16:18,  9.69s/it]"
     ]
    },
    {
     "name": "stdout",
     "output_type": "stream",
     "text": [
      "True\n"
     ]
    },
    {
     "name": "stderr",
     "output_type": "stream",
     "text": [
      "Loading…:  86%|████████████████████▋   | 632/732 [1:07:34<16:05,  9.65s/it]"
     ]
    },
    {
     "name": "stdout",
     "output_type": "stream",
     "text": [
      "True\n"
     ]
    },
    {
     "name": "stderr",
     "output_type": "stream",
     "text": [
      "Loading…:  86%|████████████████████▊   | 633/732 [1:07:43<16:01,  9.71s/it]"
     ]
    },
    {
     "name": "stdout",
     "output_type": "stream",
     "text": [
      "True\n"
     ]
    },
    {
     "name": "stderr",
     "output_type": "stream",
     "text": [
      "Loading…:  87%|████████████████████▊   | 634/732 [1:07:51<15:01,  9.20s/it]"
     ]
    },
    {
     "name": "stdout",
     "output_type": "stream",
     "text": [
      "True\n"
     ]
    },
    {
     "name": "stderr",
     "output_type": "stream",
     "text": [
      "Loading…:  87%|████████████████████▊   | 635/732 [1:07:59<14:11,  8.78s/it]"
     ]
    },
    {
     "name": "stdout",
     "output_type": "stream",
     "text": [
      "True\n"
     ]
    },
    {
     "name": "stderr",
     "output_type": "stream",
     "text": [
      "Loading…:  87%|████████████████████▊   | 636/732 [1:08:07<13:43,  8.58s/it]"
     ]
    },
    {
     "name": "stdout",
     "output_type": "stream",
     "text": [
      "True\n"
     ]
    },
    {
     "name": "stderr",
     "output_type": "stream",
     "text": [
      "Loading…:  87%|████████████████████▉   | 637/732 [1:08:16<13:26,  8.49s/it]"
     ]
    },
    {
     "name": "stdout",
     "output_type": "stream",
     "text": [
      "True\n"
     ]
    },
    {
     "name": "stderr",
     "output_type": "stream",
     "text": [
      "Loading…:  87%|████████████████████▉   | 638/732 [1:08:19<10:46,  6.88s/it]"
     ]
    },
    {
     "name": "stdout",
     "output_type": "stream",
     "text": [
      "True\n"
     ]
    },
    {
     "name": "stderr",
     "output_type": "stream",
     "text": [
      "Loading…:  87%|████████████████████▉   | 639/732 [1:08:27<11:23,  7.35s/it]"
     ]
    },
    {
     "name": "stdout",
     "output_type": "stream",
     "text": [
      "True\n"
     ]
    },
    {
     "name": "stderr",
     "output_type": "stream",
     "text": [
      "Loading…:  87%|████████████████████▉   | 640/732 [1:08:33<10:32,  6.88s/it]"
     ]
    },
    {
     "name": "stdout",
     "output_type": "stream",
     "text": [
      "True\n"
     ]
    },
    {
     "name": "stderr",
     "output_type": "stream",
     "text": [
      "Loading…:  88%|█████████████████████   | 641/732 [1:08:43<11:43,  7.73s/it]"
     ]
    },
    {
     "name": "stdout",
     "output_type": "stream",
     "text": [
      "True\n"
     ]
    },
    {
     "name": "stderr",
     "output_type": "stream",
     "text": [
      "Loading…:  88%|█████████████████████   | 642/732 [1:08:54<13:19,  8.88s/it]"
     ]
    },
    {
     "name": "stdout",
     "output_type": "stream",
     "text": [
      "True\n"
     ]
    },
    {
     "name": "stderr",
     "output_type": "stream",
     "text": [
      "Loading…:  88%|█████████████████████   | 643/732 [1:09:05<14:09,  9.55s/it]"
     ]
    },
    {
     "name": "stdout",
     "output_type": "stream",
     "text": [
      "True\n"
     ]
    },
    {
     "name": "stderr",
     "output_type": "stream",
     "text": [
      "Loading…:  88%|█████████████████████   | 644/732 [1:09:14<13:37,  9.29s/it]"
     ]
    },
    {
     "name": "stdout",
     "output_type": "stream",
     "text": [
      "True\n"
     ]
    },
    {
     "name": "stderr",
     "output_type": "stream",
     "text": [
      "Loading…:  88%|█████████████████████▏  | 645/732 [1:09:23<13:22,  9.23s/it]"
     ]
    },
    {
     "name": "stdout",
     "output_type": "stream",
     "text": [
      "True\n"
     ]
    },
    {
     "name": "stderr",
     "output_type": "stream",
     "text": [
      "Loading…:  88%|█████████████████████▏  | 646/732 [1:09:34<13:46,  9.62s/it]"
     ]
    },
    {
     "name": "stdout",
     "output_type": "stream",
     "text": [
      "True\n"
     ]
    },
    {
     "name": "stderr",
     "output_type": "stream",
     "text": [
      "Loading…:  88%|█████████████████████▏  | 647/732 [1:09:44<13:54,  9.82s/it]"
     ]
    },
    {
     "name": "stdout",
     "output_type": "stream",
     "text": [
      "True\n"
     ]
    },
    {
     "name": "stderr",
     "output_type": "stream",
     "text": [
      "Loading…:  89%|█████████████████████▏  | 648/732 [1:09:54<13:53,  9.92s/it]"
     ]
    },
    {
     "name": "stdout",
     "output_type": "stream",
     "text": [
      "True\n"
     ]
    },
    {
     "name": "stderr",
     "output_type": "stream",
     "text": [
      "Loading…:  89%|█████████████████████▎  | 649/732 [1:10:07<14:56, 10.80s/it]"
     ]
    },
    {
     "name": "stdout",
     "output_type": "stream",
     "text": [
      "True\n"
     ]
    },
    {
     "name": "stderr",
     "output_type": "stream",
     "text": [
      "Loading…:  89%|█████████████████████▎  | 650/732 [1:10:19<15:07, 11.06s/it]"
     ]
    },
    {
     "name": "stdout",
     "output_type": "stream",
     "text": [
      "True\n"
     ]
    },
    {
     "name": "stderr",
     "output_type": "stream",
     "text": [
      "Loading…:  89%|█████████████████████▎  | 651/732 [1:10:31<15:15, 11.30s/it]"
     ]
    },
    {
     "name": "stdout",
     "output_type": "stream",
     "text": [
      "True\n"
     ]
    },
    {
     "name": "stderr",
     "output_type": "stream",
     "text": [
      "Loading…:  89%|█████████████████████▍  | 652/732 [1:10:42<15:00, 11.25s/it]"
     ]
    },
    {
     "name": "stdout",
     "output_type": "stream",
     "text": [
      "True\n"
     ]
    },
    {
     "name": "stderr",
     "output_type": "stream",
     "text": [
      "Loading…:  89%|█████████████████████▍  | 653/732 [1:10:52<14:14, 10.82s/it]"
     ]
    },
    {
     "name": "stdout",
     "output_type": "stream",
     "text": [
      "True\n"
     ]
    },
    {
     "name": "stderr",
     "output_type": "stream",
     "text": [
      "Loading…:  89%|█████████████████████▍  | 654/732 [1:11:00<13:20, 10.26s/it]"
     ]
    },
    {
     "name": "stdout",
     "output_type": "stream",
     "text": [
      "True\n"
     ]
    },
    {
     "name": "stderr",
     "output_type": "stream",
     "text": [
      "Loading…:  89%|█████████████████████▍  | 655/732 [1:11:09<12:28,  9.72s/it]"
     ]
    },
    {
     "name": "stdout",
     "output_type": "stream",
     "text": [
      "True\n"
     ]
    },
    {
     "name": "stderr",
     "output_type": "stream",
     "text": [
      "Loading…:  90%|█████████████████████▌  | 656/732 [1:11:17<11:51,  9.36s/it]"
     ]
    },
    {
     "name": "stdout",
     "output_type": "stream",
     "text": [
      "True\n"
     ]
    },
    {
     "name": "stderr",
     "output_type": "stream",
     "text": [
      "Loading…:  90%|█████████████████████▌  | 657/732 [1:11:29<12:30, 10.01s/it]"
     ]
    },
    {
     "name": "stdout",
     "output_type": "stream",
     "text": [
      "True\n"
     ]
    },
    {
     "name": "stderr",
     "output_type": "stream",
     "text": [
      "Loading…:  90%|█████████████████████▌  | 658/732 [1:11:39<12:23, 10.04s/it]"
     ]
    },
    {
     "name": "stdout",
     "output_type": "stream",
     "text": [
      "True\n"
     ]
    },
    {
     "name": "stderr",
     "output_type": "stream",
     "text": [
      "Loading…:  90%|█████████████████████▌  | 659/732 [1:11:50<12:27, 10.23s/it]"
     ]
    },
    {
     "name": "stdout",
     "output_type": "stream",
     "text": [
      "True\n"
     ]
    },
    {
     "name": "stderr",
     "output_type": "stream",
     "text": [
      "Loading…:  90%|█████████████████████▋  | 660/732 [1:12:01<12:38, 10.53s/it]"
     ]
    },
    {
     "name": "stdout",
     "output_type": "stream",
     "text": [
      "True\n"
     ]
    },
    {
     "name": "stderr",
     "output_type": "stream",
     "text": [
      "Loading…:  90%|█████████████████████▋  | 661/732 [1:12:11<12:06, 10.24s/it]"
     ]
    },
    {
     "name": "stdout",
     "output_type": "stream",
     "text": [
      "True\n"
     ]
    },
    {
     "name": "stderr",
     "output_type": "stream",
     "text": [
      "Loading…:  90%|█████████████████████▋  | 662/732 [1:12:21<12:03, 10.34s/it]"
     ]
    },
    {
     "name": "stdout",
     "output_type": "stream",
     "text": [
      "True\n"
     ]
    },
    {
     "name": "stderr",
     "output_type": "stream",
     "text": [
      "Loading…:  91%|█████████████████████▋  | 663/732 [1:12:31<11:44, 10.21s/it]"
     ]
    },
    {
     "name": "stdout",
     "output_type": "stream",
     "text": [
      "True\n"
     ]
    },
    {
     "name": "stderr",
     "output_type": "stream",
     "text": [
      "Loading…:  91%|█████████████████████▊  | 664/732 [1:12:40<11:18,  9.98s/it]"
     ]
    },
    {
     "name": "stdout",
     "output_type": "stream",
     "text": [
      "True\n"
     ]
    },
    {
     "name": "stderr",
     "output_type": "stream",
     "text": [
      "Loading…:  91%|█████████████████████▊  | 665/732 [1:12:50<10:53,  9.75s/it]"
     ]
    },
    {
     "name": "stdout",
     "output_type": "stream",
     "text": [
      "True\n"
     ]
    },
    {
     "name": "stderr",
     "output_type": "stream",
     "text": [
      "Loading…:  91%|█████████████████████▊  | 666/732 [1:12:59<10:32,  9.59s/it]"
     ]
    },
    {
     "name": "stdout",
     "output_type": "stream",
     "text": [
      "True\n"
     ]
    },
    {
     "name": "stderr",
     "output_type": "stream",
     "text": [
      "Loading…:  91%|█████████████████████▊  | 667/732 [1:13:08<10:10,  9.39s/it]"
     ]
    },
    {
     "name": "stdout",
     "output_type": "stream",
     "text": [
      "True\n"
     ]
    },
    {
     "name": "stderr",
     "output_type": "stream",
     "text": [
      "Loading…:  91%|█████████████████████▉  | 668/732 [1:13:16<09:44,  9.14s/it]"
     ]
    },
    {
     "name": "stdout",
     "output_type": "stream",
     "text": [
      "True\n"
     ]
    },
    {
     "name": "stderr",
     "output_type": "stream",
     "text": [
      "Loading…:  91%|█████████████████████▉  | 669/732 [1:13:25<09:28,  9.03s/it]"
     ]
    },
    {
     "name": "stdout",
     "output_type": "stream",
     "text": [
      "True\n"
     ]
    },
    {
     "name": "stderr",
     "output_type": "stream",
     "text": [
      "Loading…:  92%|█████████████████████▉  | 670/732 [1:13:34<09:09,  8.86s/it]"
     ]
    },
    {
     "name": "stdout",
     "output_type": "stream",
     "text": [
      "True\n"
     ]
    },
    {
     "name": "stderr",
     "output_type": "stream",
     "text": [
      "Loading…:  92%|██████████████████████  | 671/732 [1:13:44<09:22,  9.22s/it]"
     ]
    },
    {
     "name": "stdout",
     "output_type": "stream",
     "text": [
      "True\n"
     ]
    },
    {
     "name": "stderr",
     "output_type": "stream",
     "text": [
      "Loading…:  92%|██████████████████████  | 672/732 [1:13:55<09:56,  9.95s/it]"
     ]
    },
    {
     "name": "stdout",
     "output_type": "stream",
     "text": [
      "True\n"
     ]
    },
    {
     "name": "stderr",
     "output_type": "stream",
     "text": [
      "Loading…:  92%|██████████████████████  | 673/732 [1:14:05<09:38,  9.80s/it]"
     ]
    },
    {
     "name": "stdout",
     "output_type": "stream",
     "text": [
      "True\n"
     ]
    },
    {
     "name": "stderr",
     "output_type": "stream",
     "text": [
      "Loading…:  92%|██████████████████████  | 674/732 [1:14:16<09:53, 10.24s/it]"
     ]
    },
    {
     "name": "stdout",
     "output_type": "stream",
     "text": [
      "True\n"
     ]
    },
    {
     "name": "stderr",
     "output_type": "stream",
     "text": [
      "Loading…:  92%|██████████████████████▏ | 675/732 [1:14:27<09:52, 10.40s/it]"
     ]
    },
    {
     "name": "stdout",
     "output_type": "stream",
     "text": [
      "True\n"
     ]
    },
    {
     "name": "stderr",
     "output_type": "stream",
     "text": [
      "Loading…:  92%|██████████████████████▏ | 676/732 [1:14:37<09:41, 10.38s/it]"
     ]
    },
    {
     "name": "stdout",
     "output_type": "stream",
     "text": [
      "True\n"
     ]
    },
    {
     "name": "stderr",
     "output_type": "stream",
     "text": [
      "Loading…:  92%|██████████████████████▏ | 677/732 [1:14:48<09:35, 10.46s/it]"
     ]
    },
    {
     "name": "stdout",
     "output_type": "stream",
     "text": [
      "True\n"
     ]
    },
    {
     "name": "stderr",
     "output_type": "stream",
     "text": [
      "Loading…:  93%|██████████████████████▏ | 678/732 [1:14:59<09:31, 10.58s/it]"
     ]
    },
    {
     "name": "stdout",
     "output_type": "stream",
     "text": [
      "True\n"
     ]
    },
    {
     "name": "stderr",
     "output_type": "stream",
     "text": [
      "Loading…:  93%|██████████████████████▎ | 679/732 [1:15:10<09:34, 10.84s/it]"
     ]
    },
    {
     "name": "stdout",
     "output_type": "stream",
     "text": [
      "True\n"
     ]
    },
    {
     "name": "stderr",
     "output_type": "stream",
     "text": [
      "Loading…:  93%|██████████████████████▎ | 680/732 [1:15:20<09:03, 10.46s/it]"
     ]
    },
    {
     "name": "stdout",
     "output_type": "stream",
     "text": [
      "True\n"
     ]
    },
    {
     "name": "stderr",
     "output_type": "stream",
     "text": [
      "Loading…:  93%|██████████████████████▎ | 681/732 [1:15:29<08:35, 10.12s/it]"
     ]
    },
    {
     "name": "stdout",
     "output_type": "stream",
     "text": [
      "True\n"
     ]
    },
    {
     "name": "stderr",
     "output_type": "stream",
     "text": [
      "Loading…:  93%|██████████████████████▎ | 682/732 [1:15:38<08:09,  9.79s/it]"
     ]
    },
    {
     "name": "stdout",
     "output_type": "stream",
     "text": [
      "True\n"
     ]
    },
    {
     "name": "stderr",
     "output_type": "stream",
     "text": [
      "Loading…:  93%|██████████████████████▍ | 683/732 [1:15:47<07:42,  9.43s/it]"
     ]
    },
    {
     "name": "stdout",
     "output_type": "stream",
     "text": [
      "True\n"
     ]
    },
    {
     "name": "stderr",
     "output_type": "stream",
     "text": [
      "Loading…:  93%|██████████████████████▍ | 684/732 [1:15:56<07:25,  9.28s/it]"
     ]
    },
    {
     "name": "stdout",
     "output_type": "stream",
     "text": [
      "True\n"
     ]
    },
    {
     "name": "stderr",
     "output_type": "stream",
     "text": [
      "Loading…:  94%|██████████████████████▍ | 685/732 [1:16:04<07:10,  9.15s/it]"
     ]
    },
    {
     "name": "stdout",
     "output_type": "stream",
     "text": [
      "True\n"
     ]
    },
    {
     "name": "stderr",
     "output_type": "stream",
     "text": [
      "Loading…:  94%|██████████████████████▍ | 686/732 [1:16:13<06:56,  9.06s/it]"
     ]
    },
    {
     "name": "stdout",
     "output_type": "stream",
     "text": [
      "True\n"
     ]
    },
    {
     "name": "stderr",
     "output_type": "stream",
     "text": [
      "Loading…:  94%|██████████████████████▌ | 687/732 [1:16:22<06:41,  8.92s/it]"
     ]
    },
    {
     "name": "stdout",
     "output_type": "stream",
     "text": [
      "True\n"
     ]
    },
    {
     "name": "stderr",
     "output_type": "stream",
     "text": [
      "Loading…:  94%|██████████████████████▌ | 688/732 [1:16:31<06:29,  8.86s/it]"
     ]
    },
    {
     "name": "stdout",
     "output_type": "stream",
     "text": [
      "True\n"
     ]
    },
    {
     "name": "stderr",
     "output_type": "stream",
     "text": [
      "Loading…:  94%|██████████████████████▌ | 689/732 [1:16:42<06:52,  9.59s/it]"
     ]
    },
    {
     "name": "stdout",
     "output_type": "stream",
     "text": [
      "True\n"
     ]
    },
    {
     "name": "stderr",
     "output_type": "stream",
     "text": [
      "Loading…:  94%|██████████████████████▌ | 690/732 [1:16:53<07:01, 10.04s/it]"
     ]
    },
    {
     "name": "stdout",
     "output_type": "stream",
     "text": [
      "True\n"
     ]
    },
    {
     "name": "stderr",
     "output_type": "stream",
     "text": [
      "Loading…:  94%|██████████████████████▋ | 691/732 [1:17:05<07:14, 10.61s/it]"
     ]
    },
    {
     "name": "stdout",
     "output_type": "stream",
     "text": [
      "True\n"
     ]
    },
    {
     "name": "stderr",
     "output_type": "stream",
     "text": [
      "Loading…:  95%|██████████████████████▋ | 692/732 [1:17:17<07:17, 10.94s/it]"
     ]
    },
    {
     "name": "stdout",
     "output_type": "stream",
     "text": [
      "True\n"
     ]
    },
    {
     "name": "stderr",
     "output_type": "stream",
     "text": [
      "Loading…:  95%|██████████████████████▋ | 693/732 [1:17:25<06:41, 10.28s/it]"
     ]
    },
    {
     "name": "stdout",
     "output_type": "stream",
     "text": [
      "True\n"
     ]
    },
    {
     "name": "stderr",
     "output_type": "stream",
     "text": [
      "Loading…:  95%|██████████████████████▊ | 694/732 [1:17:34<06:14,  9.84s/it]"
     ]
    },
    {
     "name": "stdout",
     "output_type": "stream",
     "text": [
      "True\n"
     ]
    },
    {
     "name": "stderr",
     "output_type": "stream",
     "text": [
      "Loading…:  95%|██████████████████████▊ | 695/732 [1:17:44<06:06,  9.89s/it]"
     ]
    },
    {
     "name": "stdout",
     "output_type": "stream",
     "text": [
      "True\n"
     ]
    },
    {
     "name": "stderr",
     "output_type": "stream",
     "text": [
      "Loading…:  95%|██████████████████████▊ | 696/732 [1:17:51<05:22,  8.95s/it]"
     ]
    },
    {
     "name": "stdout",
     "output_type": "stream",
     "text": [
      "True\n"
     ]
    },
    {
     "name": "stderr",
     "output_type": "stream",
     "text": [
      "Loading…:  95%|██████████████████████▊ | 697/732 [1:18:03<05:41,  9.76s/it]"
     ]
    },
    {
     "name": "stdout",
     "output_type": "stream",
     "text": [
      "True\n"
     ]
    },
    {
     "name": "stderr",
     "output_type": "stream",
     "text": [
      "Loading…:  95%|██████████████████████▉ | 698/732 [1:18:14<05:49, 10.27s/it]"
     ]
    },
    {
     "name": "stdout",
     "output_type": "stream",
     "text": [
      "True\n"
     ]
    },
    {
     "name": "stderr",
     "output_type": "stream",
     "text": [
      "Loading…:  95%|██████████████████████▉ | 699/732 [1:18:26<05:55, 10.76s/it]"
     ]
    },
    {
     "name": "stdout",
     "output_type": "stream",
     "text": [
      "True\n"
     ]
    },
    {
     "name": "stderr",
     "output_type": "stream",
     "text": [
      "Loading…:  96%|██████████████████████▉ | 700/732 [1:18:39<06:02, 11.33s/it]"
     ]
    },
    {
     "name": "stdout",
     "output_type": "stream",
     "text": [
      "True\n"
     ]
    },
    {
     "name": "stderr",
     "output_type": "stream",
     "text": [
      "Loading…:  96%|██████████████████████▉ | 701/732 [1:18:52<06:11, 11.99s/it]"
     ]
    },
    {
     "name": "stdout",
     "output_type": "stream",
     "text": [
      "True\n"
     ]
    },
    {
     "name": "stderr",
     "output_type": "stream",
     "text": [
      "Loading…:  96%|███████████████████████ | 702/732 [1:19:04<06:00, 12.00s/it]"
     ]
    },
    {
     "name": "stdout",
     "output_type": "stream",
     "text": [
      "True\n"
     ]
    },
    {
     "name": "stderr",
     "output_type": "stream",
     "text": [
      "Loading…:  96%|███████████████████████ | 703/732 [1:19:16<05:44, 11.88s/it]"
     ]
    },
    {
     "name": "stdout",
     "output_type": "stream",
     "text": [
      "True\n"
     ]
    },
    {
     "name": "stderr",
     "output_type": "stream",
     "text": [
      "Loading…:  96%|███████████████████████ | 704/732 [1:19:27<05:28, 11.73s/it]"
     ]
    },
    {
     "name": "stdout",
     "output_type": "stream",
     "text": [
      "True\n"
     ]
    },
    {
     "name": "stderr",
     "output_type": "stream",
     "text": [
      "Loading…:  96%|███████████████████████ | 705/732 [1:19:39<05:14, 11.65s/it]"
     ]
    },
    {
     "name": "stdout",
     "output_type": "stream",
     "text": [
      "True\n"
     ]
    },
    {
     "name": "stderr",
     "output_type": "stream",
     "text": [
      "Loading…:  96%|███████████████████████▏| 706/732 [1:19:49<04:53, 11.30s/it]"
     ]
    },
    {
     "name": "stdout",
     "output_type": "stream",
     "text": [
      "True\n"
     ]
    },
    {
     "name": "stderr",
     "output_type": "stream",
     "text": [
      "Loading…:  97%|███████████████████████▏| 707/732 [1:19:53<03:48,  9.14s/it]"
     ]
    },
    {
     "name": "stdout",
     "output_type": "stream",
     "text": [
      "True\n"
     ]
    },
    {
     "name": "stderr",
     "output_type": "stream",
     "text": [
      "Loading…:  97%|███████████████████████▏| 708/732 [1:19:58<03:08,  7.86s/it]"
     ]
    },
    {
     "name": "stdout",
     "output_type": "stream",
     "text": [
      "True\n"
     ]
    },
    {
     "name": "stderr",
     "output_type": "stream",
     "text": [
      "Loading…:  97%|███████████████████████▏| 709/732 [1:20:03<02:42,  7.05s/it]"
     ]
    },
    {
     "name": "stdout",
     "output_type": "stream",
     "text": [
      "True\n"
     ]
    },
    {
     "name": "stderr",
     "output_type": "stream",
     "text": [
      "Loading…:  97%|███████████████████████▎| 710/732 [1:20:08<02:20,  6.38s/it]"
     ]
    },
    {
     "name": "stdout",
     "output_type": "stream",
     "text": [
      "True\n"
     ]
    },
    {
     "name": "stderr",
     "output_type": "stream",
     "text": [
      "Loading…:  97%|███████████████████████▎| 711/732 [1:20:13<02:03,  5.88s/it]"
     ]
    },
    {
     "name": "stdout",
     "output_type": "stream",
     "text": [
      "True\n"
     ]
    },
    {
     "name": "stderr",
     "output_type": "stream",
     "text": [
      "Loading…:  97%|███████████████████████▎| 712/732 [1:20:18<01:53,  5.66s/it]"
     ]
    },
    {
     "name": "stdout",
     "output_type": "stream",
     "text": [
      "True\n"
     ]
    },
    {
     "name": "stderr",
     "output_type": "stream",
     "text": [
      "Loading…:  97%|███████████████████████▍| 713/732 [1:20:24<01:51,  5.88s/it]"
     ]
    },
    {
     "name": "stdout",
     "output_type": "stream",
     "text": [
      "True\n"
     ]
    },
    {
     "name": "stderr",
     "output_type": "stream",
     "text": [
      "Loading…:  98%|███████████████████████▍| 714/732 [1:20:31<01:48,  6.00s/it]"
     ]
    },
    {
     "name": "stdout",
     "output_type": "stream",
     "text": [
      "True\n"
     ]
    },
    {
     "name": "stderr",
     "output_type": "stream",
     "text": [
      "Loading…:  98%|███████████████████████▍| 715/732 [1:20:36<01:40,  5.93s/it]"
     ]
    },
    {
     "name": "stdout",
     "output_type": "stream",
     "text": [
      "True\n"
     ]
    },
    {
     "name": "stderr",
     "output_type": "stream",
     "text": [
      "Loading…:  98%|███████████████████████▍| 716/732 [1:20:42<01:35,  5.97s/it]"
     ]
    },
    {
     "name": "stdout",
     "output_type": "stream",
     "text": [
      "True\n"
     ]
    },
    {
     "name": "stderr",
     "output_type": "stream",
     "text": [
      "Loading…:  98%|███████████████████████▌| 717/732 [1:20:48<01:29,  5.99s/it]"
     ]
    },
    {
     "name": "stdout",
     "output_type": "stream",
     "text": [
      "True\n"
     ]
    },
    {
     "name": "stderr",
     "output_type": "stream",
     "text": [
      "Loading…:  98%|███████████████████████▌| 718/732 [1:20:54<01:21,  5.84s/it]"
     ]
    },
    {
     "name": "stdout",
     "output_type": "stream",
     "text": [
      "True\n"
     ]
    },
    {
     "name": "stderr",
     "output_type": "stream",
     "text": [
      "Loading…:  98%|███████████████████████▌| 719/732 [1:21:01<01:19,  6.11s/it]"
     ]
    },
    {
     "name": "stdout",
     "output_type": "stream",
     "text": [
      "True\n"
     ]
    },
    {
     "name": "stderr",
     "output_type": "stream",
     "text": [
      "Loading…:  98%|███████████████████████▌| 720/732 [1:21:07<01:13,  6.10s/it]"
     ]
    },
    {
     "name": "stdout",
     "output_type": "stream",
     "text": [
      "True\n"
     ]
    },
    {
     "name": "stderr",
     "output_type": "stream",
     "text": [
      "Loading…:  98%|███████████████████████▋| 721/732 [1:21:13<01:07,  6.14s/it]"
     ]
    },
    {
     "name": "stdout",
     "output_type": "stream",
     "text": [
      "True\n"
     ]
    },
    {
     "name": "stderr",
     "output_type": "stream",
     "text": [
      "Loading…:  99%|███████████████████████▋| 722/732 [1:21:19<01:00,  6.05s/it]"
     ]
    },
    {
     "name": "stdout",
     "output_type": "stream",
     "text": [
      "True\n"
     ]
    },
    {
     "name": "stderr",
     "output_type": "stream",
     "text": [
      "Loading…:  99%|███████████████████████▋| 723/732 [1:21:24<00:51,  5.76s/it]"
     ]
    },
    {
     "name": "stdout",
     "output_type": "stream",
     "text": [
      "True\n"
     ]
    },
    {
     "name": "stderr",
     "output_type": "stream",
     "text": [
      "Loading…:  99%|███████████████████████▋| 724/732 [1:21:29<00:44,  5.53s/it]"
     ]
    },
    {
     "name": "stdout",
     "output_type": "stream",
     "text": [
      "True\n"
     ]
    },
    {
     "name": "stderr",
     "output_type": "stream",
     "text": [
      "Loading…:  99%|███████████████████████▊| 725/732 [1:21:34<00:37,  5.31s/it]"
     ]
    },
    {
     "name": "stdout",
     "output_type": "stream",
     "text": [
      "True\n"
     ]
    },
    {
     "name": "stderr",
     "output_type": "stream",
     "text": [
      "Loading…:  99%|███████████████████████▊| 726/732 [1:21:39<00:31,  5.21s/it]"
     ]
    },
    {
     "name": "stdout",
     "output_type": "stream",
     "text": [
      "True\n"
     ]
    },
    {
     "name": "stderr",
     "output_type": "stream",
     "text": [
      "Loading…:  99%|███████████████████████▊| 727/732 [1:21:44<00:25,  5.12s/it]"
     ]
    },
    {
     "name": "stdout",
     "output_type": "stream",
     "text": [
      "True\n"
     ]
    },
    {
     "name": "stderr",
     "output_type": "stream",
     "text": [
      "Loading…:  99%|███████████████████████▊| 728/732 [1:21:49<00:20,  5.18s/it]"
     ]
    },
    {
     "name": "stdout",
     "output_type": "stream",
     "text": [
      "True\n"
     ]
    },
    {
     "name": "stderr",
     "output_type": "stream",
     "text": [
      "Loading…: 100%|███████████████████████▉| 729/732 [1:21:54<00:15,  5.12s/it]"
     ]
    },
    {
     "name": "stdout",
     "output_type": "stream",
     "text": [
      "True\n"
     ]
    },
    {
     "name": "stderr",
     "output_type": "stream",
     "text": [
      "Loading…: 100%|███████████████████████▉| 730/732 [1:22:00<00:11,  5.51s/it]"
     ]
    },
    {
     "name": "stdout",
     "output_type": "stream",
     "text": [
      "True\n"
     ]
    },
    {
     "name": "stderr",
     "output_type": "stream",
     "text": [
      "Loading…: 100%|███████████████████████▉| 731/732 [1:22:07<00:05,  5.75s/it]"
     ]
    },
    {
     "name": "stdout",
     "output_type": "stream",
     "text": [
      "True\n"
     ]
    },
    {
     "name": "stderr",
     "output_type": "stream",
     "text": [
      "Loading…: 100%|████████████████████████| 732/732 [1:22:17<00:00,  6.75s/it]"
     ]
    },
    {
     "name": "stdout",
     "output_type": "stream",
     "text": [
      "True\n",
      "Complete\n"
     ]
    },
    {
     "name": "stderr",
     "output_type": "stream",
     "text": [
      "\n"
     ]
    }
   ],
   "source": [
    "list_of_file = read_folder()\n",
    "\n",
    "for i in range(len(list_of_file)) :\n",
    "    list_of_file[i] = \"/Users/danielchoy1314/Downloads/as-733/\" + list_of_file[i]  \n",
    "    \n",
    "# print(len(list_of_file))\n",
    "\n",
    "G = envolving_graph(list_of_file[0])\n",
    "# print(len(list(G.edges())))\n",
    "node_list = list(G.nodes())\n",
    "count = 0\n",
    "K = 1 # recomputing frequency \n",
    "changes = []\n",
    "L1_metric = []\n",
    "Linfinity_metric = []\n",
    "\n",
    "for i in tqdm(range(1,len(list_of_file)),desc=\"Loading…\", ascii=False, ncols=75) :\n",
    "    g = current_graph(list_of_file[i])\n",
    "    true_pi = PowerIteration(g) \n",
    "#______________________________________________________________________#\n",
    "    for j in range(K) :\n",
    "        node, count= RoundRobin_probing(node_list, g, count)\n",
    "        G = update_graph(G, node)        \n",
    "    changes.append(K)\n",
    "    K+=1\n",
    "    estimated_pi = PowerIteration(G)\n",
    "    \n",
    "    L1_error, Linfinity_error = L_error(true_pi, estimated_pi)\n",
    "    L1_metric.append(L1_error)\n",
    "    Linfinity_metric.append(Linfinity_error)\n",
    "\n",
    "    \n",
    "print(\"Complete\")\n"
   ]
  },
  {
   "cell_type": "code",
   "execution_count": 3,
   "metadata": {},
   "outputs": [
    {
     "name": "stdout",
     "output_type": "stream",
     "text": [
      "[0.01224804343448486, 0.02271758851806576, 0.029963217998506764, 0.03551926434317652, 0.0752499142742782, 0.048509807222204666, 0.05808076540233002, 0.05459381707298186, 0.059018259096521405, 0.06386275492599722, 0.07130662173787963, 0.07777347391803656, 0.08334384731484616, 0.08857024209408161, 0.09465044622213022, 0.09544022747402407, 0.10504778465571785, 0.10940670948956689, 0.11571321269164485, 0.11864525066542615, 0.12254247028304638, 0.12682043100893145, 0.12811817646368143, 0.13012438420530595, 0.1367986276147876, 0.14448647044752674, 0.16198933291014864, 0.16907156020336794, 0.16991061501547539, 0.17474691977744994, 0.18116604051407748, 0.18854124624552104, 0.19066310683003293, 0.19728100277193283, 0.20097699249603226, 0.20636825832197778, 0.21050394215632043, 0.21686617521657992, 0.21966858444930368, 0.22720185033470894, 0.23426048116533985, 0.23868875003768764, 0.2472401907438905, 0.2492681677642145, 0.2571098800836358, 0.2624919658275801, 0.26938488363242297, 0.2730476771242542, 0.278812905424472, 0.28411616085198654, 0.29163013927775994, 0.29375755596940917, 0.3001010461119109, 0.31175227816295403, 0.3119032451155616, 0.3175771698043321, 0.3256753418065771, 0.3366988700885594, 0.33916904805646214, 0.34223403494080656, 0.3530582972775206, 0.35985323577621786, 0.36592700783002685, 0.37169865697291127, 0.37909597913971466, 0.3838864406452627, 0.3918994019231047, 0.4012026609194077, 0.41119084084893587, 0.41681081706341355, 0.4210959029346453, 0.4296311860173855, 0.43771519450696617, 0.4473165445809797, 0.4534688783116399, 0.46063440530143224, 0.4634033405102868, 0.46925677363176477, 0.47322052500463785, 0.47624735082731495, 0.4807164465724307, 0.4870637036384816, 0.4932102803959812, 0.4976493366696024, 0.5043580966851686, 0.5119954672530486, 0.518408796203639, 0.5246698301905072, 0.5300462340993369, 0.5331338010468838, 0.5412649299513157, 0.5497978240351602, 0.5562145522415343, 0.5660244174611718, 0.5694734891477179, 0.5782130266877854, 0.583969952024072, 0.5884946646856303, 0.599538753296657, 0.602639049819119, 0.6089888041404009, 0.6201047602138129, 0.6286084070610355, 0.6342988331800425, 0.64003441582996, 0.6468727557083056, 0.656402281751266, 0.6601311768460786, 0.6627700963189054, 0.6665138754235707, 0.6705996573029949, 0.6741558130497313, 0.678388326540944, 0.6838033825977063, 0.6943875850774252, 0.6994940499896086, 0.7071837996750986, 0.7089746854336436, 0.722974852756571, 0.7309624092394423, 0.7311687957420729, 0.7364157559506671, 0.7434575166877128, 0.7503970725004652, 0.7572839505140521, 0.7617156991709727, 0.764262346116992, 0.7701515096493254, 0.7750310885107659, 0.7824638588952819, 0.7904851629723482, 0.7956532481102169, 0.7980153257076452, 0.7958420692591512, 0.7969939754605342, 0.7992618716888236, 0.8062645722662036, 0.8137714560173398, 0.8183401218254388, 0.8170765012788781, 0.8245545123973388, 0.8272587245592451, 0.830124503610956, 0.835937002602841, 0.8401788739050724, 0.8446797230719781, 0.8511759318838934, 0.8658740662367519, 0.8660765148047828, 0.8740061140273602, 0.8801396272138109, 0.8818017709418904, 0.880685597228278, 0.8807990225453394, 0.8788700417851502, 0.8830845511206433, 0.8867594844361633, 0.889420924675891, 0.8924335289151498, 0.8966452689539642, 0.8988510671101928, 0.907310914989559, 0.9110902952663872, 0.9162055129514189, 0.9193231412053882, 0.9241753680905633, 0.930152294962446, 0.940314352176257, 0.9455200592194685, 0.9471731238108894, 0.9452333264106889, 0.947952774737507, 0.9459188914180736, 0.9487171841299048, 0.9509083386849606, 0.9531896261811273, 0.9553154791655468, 0.9555148303120908, 0.9597097541313059, 0.9608835232589533, 0.9644995659541981, 0.9709823901588834, 0.977965848796187, 0.9860971916550091, 0.9909395894986938, 0.9895795229163944, 0.9848909022023882, 0.9837875462173166, 0.9863795971479183, 1.0013488497260024, 0.9874414682027475, 0.9863927396129532, 0.9915010170458836, 0.9931233737569598, 0.9974797540116841, 1.0040989504423556, 1.0132786321227136, 1.0166467080607482, 1.0210381670296729, 1.0178216199944643, 1.0150818260838308, 1.015361354027809, 1.0199519196118416, 1.0183726773580224, 1.0190743220394196, 1.0185869152537335, 1.0229970913929611, 1.0250928486090105, 1.0298897222636436, 1.0355799914200035, 1.0426736877939808, 1.0470703032581257, 1.0453518350759345, 1.037951671867209, 1.0365600114172822, 1.0355059570250615, 1.036490615698533, 1.0368602511154597, 1.0370050087611378, 1.0404497803117414, 1.0427108365756284, 1.043950368084923, 1.0545460330435574, 1.0586636913823688, 1.0663344930199343, 1.0641561034872726, 1.061643792192498, 1.0590797568253385, 1.0618621568240258, 1.061751458675313, 1.0614983397781728, 1.0636163094839988, 1.066733381485377, 1.067872163283239, 1.075391720186968, 1.08112934617106, 1.0818290499638195, 1.0776630142196928, 1.0745854979063392, 1.0752979011229375, 1.0755390572570909, 1.0731268050930352, 1.0715782405769312, 1.0708579675428447, 1.0736926492599905, 1.0785319039869479, 1.0848336782411436, 1.0890808607546634, 1.085926279341967, 1.0815348619592267, 1.0799984054283946, 1.079642390733243, 1.079712846933941, 1.080016101467584, 1.0812597497513607, 1.0838175492070017, 1.0923351343345367, 1.0974879287570296, 1.1024068353556928, 1.1011798311074685, 1.0895066516922978, 1.0887447172556073, 1.0891164531290172, 1.0864530805691652, 1.0900278942911668, 1.0942014126972535, 1.0985476481722203, 1.1080483496492277, 1.1152074512833594, 1.11258758068923, 1.1125338355191354, 1.1090796418470898, 1.1113272923098705, 1.1119280291047162, 1.117928177285158, 1.1210141665512066, 1.1242747573799818, 1.1303789534662885, 1.1340801230906508, 1.1280773527258585, 1.1223031826303953, 1.120956572090649, 1.1198867633725336, 1.119917732044815, 1.120497323206162, 1.1197704413377578, 1.1280624160716974, 1.1345509448136295, 1.138976333950739, 1.1342006506273075, 1.1313909275821772, 1.132687174075307, 1.1285841743129263, 1.1282179456786903, 1.1279681899763436, 1.129794017669741, 1.1401067074368227, 1.146449553740345, 1.1388679283724747, 1.1406011352201686, 1.136098182618975, 1.1376190069272047, 1.138136076684504, 1.1423950531219338, 1.14270678001458, 1.1493955140619165, 1.1517287263085434, 1.146299446730876, 1.1412293799021456, 1.1448507032112774, 1.142382364710626, 1.1420896137701415, 1.1427390812248355, 1.1455931149503036, 1.1556903839939938, 1.1510032425955237, 1.1443522846397103, 1.1480805042062534, 1.1447490302362187, 1.146699696722346, 1.1441567145846328, 1.1462712892883482, 1.1588371063016698, 1.1574404844174613, 1.1496324251399868, 1.1480078455421976, 1.1471805315060777, 1.1451981446844586, 1.1465968598179006, 1.1458081997574772, 1.1568747225263165, 1.1582352862136134, 1.1521436071196223, 1.1449234870139786, 1.146779383125955, 1.1449395030699052, 1.14900637964168, 1.1478465093774957, 1.1544429782651404, 1.155154450342871, 1.1498597606928185, 1.1471080326053948, 1.1472318266618233, 1.1479410928723814, 1.152002088198972, 1.1545372237018885, 1.1627668481488338, 1.1593985577545838, 1.1543636287924461, 1.1549674934760936, 1.155573196203047, 1.155344473959961, 1.1574443532565124, 1.162043269874558, 1.1651815678040869, 1.1612250764403487, 1.1585494354347692, 1.1562833139180642, 1.1589416454567762, 1.1602239740491451, 1.1614770355519015, 1.1696715085734832, 1.16521108227067, 1.159522651508896, 1.1621494806695056, 1.1625164952703753, 1.161876610723017, 1.1648335576663738, 1.1740825030780153, 1.1736375682738573, 1.166469507770377, 1.1686006126029098, 1.1683824603500443, 1.1671572682267308, 1.1681872009127359, 1.1746956340082149, 1.174355369311033, 1.1706682226595133, 1.1720465660918828, 1.1718197174565685, 1.1749250263233837, 1.1782787078474153, 1.1851359351331758, 1.1817186742892494, 1.1749883838772264, 1.175665004611122, 1.1752691566706917, 1.1764119344122532, 1.1803807078373563, 1.186311661028955, 1.1819214996258094, 1.178586907946816, 1.1784034745535412, 1.1793189501243362, 1.1818098517720792, 1.1880143811761008, 1.1934062276619621, 1.1842722422708676, 1.184451114901167, 1.1804196796881066, 1.180841144681321, 1.1827601549653202, 1.1885546177754622, 1.1885645582383475, 1.6652411656709025, 1.6107970094184956, 1.5721889312328188, 1.5295587257090182, 1.4915510351263679, 1.4635091568151382, 1.4281741888518977, 1.3968259473040878, 1.3725224431535457, 1.351185650231684, 1.3277139433210705, 1.3104378621548503, 1.2906354941939262, 1.2732189513470522, 1.0636748864649932, 1.0798497112525658, 1.0941575645423727, 1.1105970442790118, 1.1183249760507394, 1.1246590471005244, 1.1228127710916287, 1.1274571783941687, 1.1303923118776253, 1.1352463128675514, 1.1440883510011197, 1.148520328290842, 1.1456792218140441, 1.1524082639898527, 1.1567778330413232, 1.1581802106479724, 1.165544715538085, 1.1682634515816601, 1.161895666786821, 1.1680338897301032, 1.1706509908407672, 1.1773314351029782, 1.184223277351821, 1.187493719647862, 1.1813082636315522, 1.1838396877442605, 1.1828661046709668, 1.1847667558897204, 1.19316947926147, 1.1950582478586464, 1.1878750532547204, 1.1886097149284904, 1.1904907471668196, 1.1932523962259558, 1.2006773995982303, 1.196095221392221, 1.1954554520260097, 1.2012972921636706, 1.1994672249267717, 1.2031904291987812, 1.2091277516036956, 1.1994089610240881, 1.202887285583743, 1.2035998393528606, 1.2059355401492522, 1.208609366336577, 1.20857538128696, 1.1998543728758941, 1.201362333158148, 1.2057019396871365, 1.2098840505735404, 1.2175210027107102, 1.2110176506866184, 1.210980508183409, 1.2093785324207924, 1.2108349720637437, 1.219295346435901, 1.2189975093544083, 1.2133093915191238, 1.2109541128292869, 1.2124722094563147, 1.2134185725440456, 1.221793334462292, 1.2157084899313182, 1.2192484666503844, 1.2197654358998575, 1.2200894288412938, 1.227946825422845, 1.216894572953333, 1.2181643753843463, 1.2162867792063419, 1.2177295564941468, 1.2235135193665962, 1.222242872535985, 1.2155873409910227, 1.2188789144571979, 1.220626168733342, 1.2230611885531832, 1.2274501790246726, 1.2242630366360792, 1.2261584011943591, 1.2263630791377036, 1.2260555476392463, 1.2292514250853228, 1.219544945197401, 1.2187792490427183, 1.2234646276620345, 1.2239974238199824, 1.2288702295781415, 1.2237675404663522, 1.2216728687200311, 1.221485193956309, 1.228454662533678, 1.234869803424356, 1.2263613469270858, 1.2268138126142765, 1.234466273583844, 1.2300284190778696, 1.2348619117423354, 1.2277862525336858, 1.233075712645818, 1.2321893840774942, 1.2357123980921116, 1.237192791472451, 1.2290852388579816, 1.2293145199651654, 1.2292676619798812, 1.233207825157636, 1.2356246191173301, 1.2305928279093117, 1.2323711018872952, 1.2395903791423606, 1.2399190609996367, 1.2418335068138822, 1.2358359796380267, 1.2363477279632955, 1.2361886930564054, 1.2427735837637848, 1.2360183546070735, 1.2344134932031139, 1.2379677662176327, 1.2402369639551236, 1.2475440686966341, 1.238812532986432, 1.2378812753984358, 1.2405642106772288, 1.244203157260439, 1.2459384655518777, 1.240757991032332, 1.2250730956785054, 1.2403666639461903, 1.2459815761323463, 1.2407466687285997, 1.2372068416847528, 1.2383623537298065, 1.2413068380206387, 1.2455249103311123, 1.2374142518868483, 1.2374180741833745, 1.2380881071773102, 1.2415903231461198, 1.2426168618209736, 1.239196608582929, 1.2392876376376367, 1.2454912631127437, 1.2485663153248572, 1.2377795337432906, 1.2390716392686225, 1.2407748947592692, 1.2403289323177988, 1.2441739066083561, 1.24531847896495, 1.2476501343118447, 1.2496061589827532, 1.2570689288698824, 1.2443285364261716, 1.248551590444619, 1.250463009821416, 1.2566971401903009, 1.2549613295298208, 1.2480720048163516, 1.247249325610938, 1.2506992266443353, 1.24991229449774, 1.2488884699062497, 1.2503800001471777, 1.252804135681433, 1.2547950920331998, 1.2452644343439054, 1.2445211998499548, 1.247323139121542, 1.2467007957113014, 1.241447023738807, 1.2389364475926543, 1.2467704502204549, 1.2538669453335838, 1.2530316601030291, 1.2532464069516147, 1.2487937072798598, 1.2489189686870217, 1.2500344675490034, 1.249003848582622, 1.2513084487808577, 1.2541317661957645, 1.2544860809970164, 1.2451881806360132, 1.2499429457125077, 1.248590696362826, 1.2561364223014064, 1.248802825592895, 1.2543240662044668, 1.2542242654954259, 1.259546100396447, 1.2469199256542063, 1.2524987672645858, 1.2543535065034936, 1.2589374580104942, 1.253113843519896, 1.2561523868367674, 1.255999223813673, 1.2620095139110377, 1.2580025859947233, 1.2543228792861922, 1.2511000903416687, 1.2511580424946809, 1.2430221632223803, 1.2554935886028362, 1.2534472957551699, 1.257280116032024, 1.2452109773525453, 1.2542296529919807, 1.2562176421946372, 1.2639946353000957, 1.250802467569811, 1.2505144987205672, 1.2537766110617186, 1.2605688756903133, 1.2471988316522025, 1.2517111967481982, 1.6915623096059176, 1.1982967309564911, 1.2311431542463356, 1.2236806323254263, 1.2188018055319316, 1.223895620667902, 1.2359618304528488, 1.2430643505493117, 1.234716187547525, 1.2380845528808717, 1.2454882901336877, 1.2531406739039588, 1.2411478869763655, 1.250351363828716, 1.2567504168596615, 1.2560553054169064, 1.252875235843996, 1.2564984472029803, 1.2637246257679255, 1.2579274448181068, 1.2619458918125148, 1.2599007352387595, 1.2653424268754938, 1.2622169644292047, 1.2592178658328972, 1.2632738101017655, 1.26841868541435, 1.2571663320669344, 1.2634512964049707, 1.2659798665954758, 1.2673254613175255, 1.2587259189929552, 1.2656367451083643, 1.2653947841169937, 1.264323844953882, 1.263836448496374, 1.264645467791779, 1.2689748870576185, 1.2639770902902892, 1.2643620635665602, 1.2693725976411394, 1.2740743987748429, 1.2637610259462788, 1.266844460597007, 1.2698338212424, 1.2701363181026113, 1.266128866771626, 1.2648016051960922, 1.276762824247282, 1.2704298198873443, 1.2739554083809248, 1.2713402750143386, 1.280233487845646, 1.2751096844474725, 1.279758082700674, 1.2666962542003952, 1.2505633799282612, 1.2679193263125317, 1.3128213951526277, 1.249791906528285, 1.2543639191879332, 1.277203645072297, 1.2704683264181513, 1.272725408667347, 1.2741334363652488, 1.280303019869804, 1.276433588780477, 1.2753309424458579, 1.2861655609652365, 1.5703207594525919, 1.3985213141499109, 1.3413001417852652, 1.296866607859772, 1.258406967327176, 1.2117137870573365, 1.1887084034197917, 1.1732424927099603, 1.156757522606496, 1.1428233319601016, 1.1333810547154202, 1.124512455819106, 1.1226288226028553, 1.113057853639941, 1.1090491614944513, 1.1073073106678082, 1.1070400341725055, 1.1024622617273996, 1.1004184337370746, 1.0955509271904469, 1.093633128621028, 1.0962536564886884, 1.0896564861427664, 1.0924801519658929, 1.0986705154102612, 1.1480209471025076]\n",
      "[0.0003222875444239062, 0.0004787010108813167, 0.0005232481562188335, 0.0005042494579789193, 0.011591372944834689, 0.00044320929563526623, 0.0020788551576204823, 0.0009161789713171761, 0.0010597410106141791, 0.0008886866879170702, 0.0013471530115646696, 0.001253509812410264, 0.0010457658672846648, 0.0015782882593926087, 0.0020478503574000786, 0.0019937745023727443, 0.001969564818249246, 0.0020643636935283177, 0.001945259984924265, 0.0018964056150113234, 0.0017588875343860014, 0.0018123093726374953, 0.0020533485632060963, 0.0032809641387455957, 0.0029408926913249006, 0.003202767793795483, 0.004643266484631399, 0.004646594437382056, 0.004796229842625132, 0.004826598621157514, 0.004931456384465847, 0.004926160244942801, 0.004707182776527546, 0.004878997423048488, 0.004972888094083497, 0.00504612348061273, 0.006047149450134612, 0.006053293052541757, 0.00642964361059617, 0.006926252703832875, 0.007706591538308834, 0.008420410282103039, 0.009008960965438934, 0.009353748376635801, 0.009969600258297615, 0.010439303132007846, 0.01103915525214215, 0.01144395580289196, 0.011840236815514042, 0.012265696917909762, 0.012268869549003615, 0.01307930333046639, 0.013231875186056126, 0.014117875307039278, 0.014110546696780073, 0.014365049567085793, 0.01479569802640502, 0.01528548419465467, 0.015179944386227509, 0.015829695697711053, 0.016308369661425105, 0.016698909249842804, 0.017926147213556072, 0.018382159210791213, 0.018502864813854245, 0.01871717258523198, 0.018915116059515354, 0.019424521171633173, 0.019768721972828043, 0.020241103219581398, 0.02008920676464477, 0.020517072206998502, 0.02068101237341877, 0.021228668387206422, 0.021897555555719393, 0.022071293496506078, 0.022775577631990365, 0.023257918054942237, 0.02342979353280404, 0.023749688327081932, 0.023921995169607902, 0.024124837627371998, 0.025111483358970052, 0.025504772790623822, 0.026230571989765788, 0.027119433348206747, 0.027042154463803234, 0.027730749490439334, 0.027632170787604368, 0.0281375172922241, 0.028104414256969322, 0.02850578269171972, 0.028932683729546355, 0.029655306700086936, 0.029897559665794174, 0.030553271824070766, 0.031198353819222056, 0.03114551230648847, 0.03080016437689576, 0.031706101124531344, 0.031763263070845316, 0.03193669214090206, 0.032259638245642645, 0.03258507157262576, 0.03292410430980795, 0.0326210959061745, 0.033040880234137954, 0.03317544416980604, 0.03348971231624995, 0.033844133768450434, 0.03415267020361758, 0.03469330193583128, 0.03557750308676585, 0.03584213724476939, 0.03690815420139195, 0.03723326490212424, 0.03812364214315546, 0.0384883653255535, 0.03853344512549102, 0.0397349719579305, 0.03941626938210301, 0.03933561343840961, 0.039883949741889156, 0.03982357081958353, 0.04023904412881862, 0.04054991638699537, 0.041057287650875726, 0.041346009664291444, 0.04100989642181399, 0.0410326322273522, 0.04071040279045005, 0.04133814655826395, 0.04178769967778193, 0.042028770686475314, 0.04217793276231975, 0.04225902488017437, 0.042466418123007506, 0.04346567964779177, 0.0433726655831402, 0.04359442466624686, 0.04379667740521036, 0.04404052610349708, 0.044295169710692195, 0.04448347024764953, 0.04462401460698007, 0.04473820226897277, 0.044671250361135076, 0.0476551610594182, 0.04450500449812504, 0.04413816574333234, 0.044044436781201624, 0.044600517526735994, 0.04486585360625389, 0.045155136891335, 0.045185024238110445, 0.04520161581806771, 0.04563720852564966, 0.045923898853275344, 0.045946604767377094, 0.04610471476332003, 0.046195258748246246, 0.04592594830636873, 0.04620167197486512, 0.04640965336465373, 0.04630483230170106, 0.04652408333469942, 0.0463019520554576, 0.04683797870132293, 0.04666193392521946, 0.04663249166815934, 0.046428461174586856, 0.0466068478870798, 0.04702056275584644, 0.04694976388365606, 0.04656671115661244, 0.047124691165531266, 0.047182272188129044, 0.04743316264262698, 0.047238939806311026, 0.0474236813159003, 0.04739851181368149, 0.04782247792640784, 0.048039648551235895, 0.04822124952553647, 0.04854419120401375, 0.04860324314375251, 0.04850225137529023, 0.04850132768386323, 0.04871721115157425, 0.038338542576432356, 0.04902888910122037, 0.048918704529192364, 0.04899032048746547, 0.04906173051818067, 0.049004334614724386, 0.049381517401167946, 0.04989634687133728, 0.050074303826058965, 0.05012951885064371, 0.05018686855962433, 0.05006568838753961, 0.05029056961118893, 0.050620792899505794, 0.050625175841591576, 0.05050208437548704, 0.05069931424425143, 0.050762893197844584, 0.05067772268065169, 0.05103162574852959, 0.050522757095572954, 0.05060521432346249, 0.05126138609780487, 0.05098901144100139, 0.05077620013718959, 0.05073862386642159, 0.050843292999719604, 0.05080153864144042, 0.050830068569526515, 0.05104169759466596, 0.05093009775607565, 0.051071898996605664, 0.050774781499954055, 0.050875475456855, 0.05122565876343551, 0.05057678878450099, 0.05059362447994267, 0.05060253137200632, 0.05033715189897018, 0.05058467106391805, 0.05061513318756832, 0.050513235748631924, 0.05047936691648782, 0.05065598937649387, 0.050729292674538295, 0.05093037204614988, 0.05068709224686256, 0.05076013576731926, 0.050900570341329575, 0.05091620775613046, 0.05115015619114042, 0.050690120072762565, 0.05065239562966779, 0.05088165406810328, 0.05132359493042167, 0.05055498044225689, 0.050516513761536146, 0.05004136391976653, 0.05027798759928931, 0.05020327660975154, 0.05038977853227865, 0.05056768196549593, 0.0505216954549263, 0.050451113145925104, 0.050295450016036324, 0.05044203568385428, 0.049707840577152766, 0.051022976962487705, 0.050991956901349375, 0.050717544554700136, 0.05100993740758916, 0.051246410003848594, 0.05167650414025194, 0.051883751406241005, 0.05155175041827084, 0.05099419543809407, 0.05152026086364538, 0.05198111141208547, 0.05197241480346651, 0.05228018756424138, 0.05204221501404392, 0.05177324132354433, 0.0517100758676489, 0.05082416902946917, 0.05103998392066282, 0.04969530782060327, 0.04996922589656069, 0.049923358805623534, 0.04988631970778806, 0.04984721325994703, 0.04972516283414843, 0.04978123188294252, 0.049617936442949116, 0.0497386770458947, 0.049768677018889866, 0.049653026079698806, 0.04971522712700135, 0.04943530070926462, 0.04915870019601353, 0.048924984894190574, 0.04916759311275563, 0.048930428119180164, 0.04872655672913369, 0.04900990873327315, 0.04884065120096263, 0.049308045733069426, 0.047970790313133733, 0.048155609746760544, 0.04893440267874844, 0.048715098190839044, 0.04878485710784714, 0.04848435100331058, 0.04801761226181287, 0.04813163673886904, 0.04824963547811698, 0.048370577652259786, 0.04827353646397645, 0.0483114922627462, 0.0481696422637199, 0.048118094003279835, 0.047856538365509356, 0.04783078577540556, 0.04795579923886914, 0.04815141857274703, 0.048201645959191346, 0.04800350086871194, 0.048213850903380234, 0.048286539137594446, 0.04845487034381806, 0.04859107029197138, 0.04853975371806443, 0.04836444249239601, 0.0478447611993599, 0.04840227888144904, 0.048464028723410796, 0.04896386006571582, 0.04906467740582882, 0.04900752189988742, 0.04915328480675693, 0.049380939562722076, 0.04945581277758499, 0.049366115211445245, 0.050208973551183186, 0.0504147853361288, 0.05042091981965806, 0.050200419345039965, 0.05030134629995612, 0.050359564216472884, 0.05038343623859394, 0.05034891451411456, 0.05041079490657971, 0.05024922479436906, 0.05018207410566414, 0.050523662866168106, 0.05046269777706443, 0.05074613968083695, 0.05092863080004282, 0.05098061801077403, 0.05097651145461754, 0.050982516766683514, 0.05091443860536167, 0.050930894960085016, 0.05092119417996318, 0.0508100637505601, 0.05083671504923661, 0.05076107294314129, 0.05068266662345765, 0.05069070585472076, 0.05082094624852556, 0.050734678198596256, 0.05084335779867334, 0.050820715039399604, 0.05052181109943881, 0.05056902309450736, 0.05079354986516087, 0.05045469675406628, 0.050888809008629146, 0.0508114755192171, 0.050969574590801627, 0.0509689933285902, 0.05101150832791504, 0.05070895050072145, 0.05090048022019004, 0.05085763709879724, 0.05159649124728313, 0.051563980342485896, 0.051506653971974785, 0.05104474703244016, 0.05133141508672771, 0.05140212100476394, 0.05136692626748361, 0.05154155411287183, 0.051678372708230565, 0.05175134333039606, 0.05157506856850898, 0.051430453430160436, 0.05127764863741447, 0.05156278973966194, 0.051500441704477574, 0.05157905447993434, 0.051481918968054506, 0.051518821843341195, 0.0517079814119119, 0.051526947174364415, 0.05146752663095346, 0.05154593098826084, 0.05177095641264223, 0.05170020369919986, 0.05142149260191546, 0.051529086794520125, 0.051032440434926475, 0.05163950754545572, 0.05201053773828895, 0.0517670071749657, 0.05164103771925862, 0.03645636192684101, 0.03729205117253605, 0.03831745837397682, 0.03767131872170092, 0.03748008646841484, 0.03786203842863721, 0.03760515916305274, 0.03694548379736381, 0.0371449234986189, 0.03664672619423039, 0.03732692854230836, 0.03784025522928492, 0.03778342697353038, 0.03786238429628224, 0.051307855276065316, 0.05149058260034992, 0.05131252799652719, 0.05121807196518663, 0.05138507867272302, 0.051638146494098, 0.050586255484469274, 0.05106958615751977, 0.051056158581553844, 0.051181559910380515, 0.05126624369233091, 0.05107694576459191, 0.0509708943086362, 0.05106412905292244, 0.05117857066455853, 0.051101920529523344, 0.05120805645948996, 0.05104325932029771, 0.05115704552628043, 0.051360918536201804, 0.051434054210879994, 0.05132381805266772, 0.05121399623197975, 0.051457713961330774, 0.05129912887642953, 0.05104523835638529, 0.05135825042737385, 0.05097553615451831, 0.051474336442392146, 0.05125749272142566, 0.05127600525277069, 0.05115949812406716, 0.050980063285757764, 0.051433930255963524, 0.051069202779515765, 0.05139785743956359, 0.051410687374920966, 0.051921574396222345, 0.05173084104895525, 0.051521808018969294, 0.05109371345534984, 0.05108939018510062, 0.050964482430988486, 0.05087239338817099, 0.05105203332483345, 0.051024259993230604, 0.050769125318005974, 0.05060601464690076, 0.050951213509786195, 0.05079851092478064, 0.05096792235693114, 0.051207582517634805, 0.05104428785993549, 0.050962136332148016, 0.051071008942662095, 0.05120017441533404, 0.05099944299193227, 0.051169600874950115, 0.0511459081689492, 0.05101727990541322, 0.051034567415396075, 0.0509823098446684, 0.05097872914213419, 0.05116855011067336, 0.051126693085548756, 0.05117072740564482, 0.051228460865396085, 0.050968675964593355, 0.05105805888675271, 0.050950718790138134, 0.050990555591324815, 0.0508401044101492, 0.05083799779408535, 0.05076189461880233, 0.0510695883691852, 0.05088090716557359, 0.051006163183436, 0.05070607030785351, 0.05077279631309666, 0.050668068734839526, 0.050605035211884405, 0.05071784957647708, 0.050811140250626614, 0.05031993332951744, 0.050987036824227075, 0.05088961164943983, 0.05108441985483293, 0.050638616051035805, 0.05074584478087782, 0.05055586994454126, 0.050855275472631675, 0.05084016477923807, 0.05076492873925381, 0.05053242943620028, 0.05036010775649117, 0.05046007220252204, 0.0496220195413163, 0.050678020847034405, 0.05068330606773016, 0.0503763475029071, 0.05041065565968296, 0.05051986824822054, 0.05054571108913817, 0.05026188437254714, 0.05046550040436339, 0.050457928256647584, 0.05062671083654289, 0.050543667300001247, 0.050397813775504625, 0.05022451496847501, 0.05047203374036115, 0.05042406141667498, 0.05055310797403966, 0.050636455330189345, 0.0519887717343649, 0.05047745927128597, 0.05031101695009895, 0.05012646523043543, 0.05060664444628375, 0.05057879791433965, 0.05060537310178279, 0.05065241471094751, 0.05055812903763817, 0.0499996188978961, 0.04996270365323408, 0.04992105535650279, 0.04989231724040336, 0.05004672933146412, 0.0500098222439402, 0.05242125258280374, 0.0499340940607101, 0.04993394409962797, 0.04986650281620656, 0.04996380399912126, 0.049833219938086516, 0.049881413474628086, 0.04999420446800319, 0.050043591534826896, 0.049864127199355956, 0.04999566244496159, 0.049974466153556385, 0.04976716085867165, 0.04929997740146095, 0.04928340443641265, 0.04958127636698127, 0.04963655080950704, 0.04955144482843997, 0.04956839632479987, 0.04955435913361374, 0.049673762087544315, 0.04981352880343003, 0.04979599953775565, 0.04990320595634852, 0.04976892852512088, 0.0497512628589526, 0.0495549769515249, 0.04949087256038096, 0.049654314826024476, 0.04966008183154113, 0.04958233937862269, 0.04968153237418644, 0.04949172202494777, 0.049445137064752676, 0.04937642700126237, 0.049237263739202786, 0.04920898196757103, 0.049141261071466644, 0.04920367899773719, 0.04901306247660425, 0.0491536715865686, 0.04185291174663114, 0.048940275990560396, 0.0489691677741745, 0.04901309763069954, 0.048990587392573774, 0.049169382256363574, 0.04919390162722103, 0.049309443155265885, 0.049364006781354504, 0.049154068106521676, 0.04918975932856594, 0.049312651711939486, 0.0491412798714315, 0.048901954871024764, 0.04939123688835983, 0.04953075476301623, 0.04946398483582723, 0.049122542164014356, 0.04929809759185152, 0.04964501635712973, 0.049452508073207224, 0.04970278474227562, 0.049649015096995826, 0.04948525824357969, 0.04914241530097866, 0.0492499883025619, 0.049458538790722886, 0.04932914200982687, 0.04932317081081164, 0.049441935069398986, 0.04938168385810708, 0.04941139457109511, 0.04320702798544651, 0.04908217821547265, 0.049050515431014956, 0.04894940917805434, 0.04907994244930793, 0.049186716563181375, 0.049192897270417014, 0.0491256133729694, 0.049080168329727905, 0.04939663121749582, 0.04956785794438847, 0.04934661605533899, 0.049256144337684445, 0.0492752568120521, 0.04943630277643447, 0.04937699067890834, 0.04928519821783075, 0.10129737739494923, 0.04922228017268782, 0.04132042018626627, 0.04923139328912232, 0.04931385643365667, 0.04900472395833643, 0.048965874008883054, 0.04918270010517957, 0.049159914228537584, 0.048999839772343824, 0.04926521670188661, 0.04937017904765354, 0.0493429294328462, 0.04947288731477896, 0.04946037633501216, 0.04923228123064891, 0.04937243494174944, 0.04923471076169644, 0.04965178527755797, 0.04944932634750425, 0.04935600229389557, 0.04939965555146955, 0.049280629375113134, 0.049484097499729075, 0.04928938383426865, 0.04909135916231026, 0.049356926334141446, 0.04972923114745366, 0.04955798712789178, 0.04950845647337053, 0.04967765460705489, 0.04957790153916222, 0.04973457976067438, 0.04983432863940082, 0.049868813263979316, 0.0497522756798036, 0.0497801531139244, 0.04955518077590451, 0.04951010078924593, 0.049414004830049575, 0.04970245756015736, 0.049576522774499435, 0.04956977793440658, 0.04959103893932709, 0.049555184732634434, 0.050135688501896244, 0.05006429202666782, 0.05016421630426177, 0.050161080651088354, 0.04977426254462938, 0.0498092663908023, 0.049824689160145035, 0.049361299438972356, 0.049066795737821564, 0.04928546035117199, 0.0465722803579554, 0.04621744341685547, 0.04909216757173276, 0.05171925533114017, 0.04917547776800735, 0.04899246085997846, 0.04896776970004705, 0.04875851428946401, 0.04875303445895777, 0.048948221898891246, 0.048767896195164834, 0.04921557522196148, 0.049604043021948305, 0.049420990713548225, 0.08718268068138342, 0.06032522994481015, 0.06058656005068506, 0.06172528709591822, 0.06152991024782491, 0.05577677698475983, 0.05572666011646474, 0.0561710280438502, 0.05663011215596359, 0.056732286085086535, 0.05687366386186509, 0.0565374619410465, 0.05676351147712677, 0.05729102982565691, 0.0568522783435208, 0.057467523110029096, 0.057021784088901184, 0.057030614036021575, 0.05708328340302921, 0.05737561532198879, 0.057510144537597604, 0.05723893745383514, 0.057733636298822305, 0.05780033750872394, 0.04625351781197811, 0.04948435123582459]\n"
     ]
    }
   ],
   "source": [
    "#checking\n",
    "# print(L1_error)\n",
    "print(L1_metric) \n",
    "print(Linfinity_metric)\n"
   ]
  },
  {
   "cell_type": "markdown",
   "metadata": {},
   "source": [
    "# Plot error graph"
   ]
  },
  {
   "cell_type": "code",
   "execution_count": 5,
   "metadata": {},
   "outputs": [],
   "source": [
    "def L1_error_graph(L1_metric) :\n",
    "        \n",
    "    ch = [1]\n",
    "    for i in range(2,733):\n",
    "        ch.append(ch[i-2]+i)\n",
    "         \n",
    "    # print(ch)\n",
    "    plt.plot(ch ,L1_metric)\n",
    "    plt.ylabel('averageL1_error')\n",
    "    plt.xlabel('# changes')\n",
    "    plt.show()\n",
    "    \n",
    "\n",
    "def Linfinity_error_graph(Linfinity_metric) :\n",
    "    \n",
    "    ch = [1]\n",
    "    for i in range(2,733):\n",
    "        ch.append(ch[i-2]+i)\n",
    "        \n",
    "    plt.plot(ch,Linfinity_metric)\n",
    "    plt.ylabel('averageLinfinity_error')\n",
    "    plt.xlabel('# changes')\n",
    "    plt.title\n",
    "    plt.show()"
   ]
  },
  {
   "cell_type": "code",
   "execution_count": 6,
   "metadata": {},
   "outputs": [
    {
     "data": {
      "image/png": "[encoded data removed]",
      "text/plain": [
       "<Figure size 432x288 with 1 Axes>"
      ]
     },
     "metadata": {
      "needs_background": "light"
     },
     "output_type": "display_data"
    },
    {
     "data": {
      "image/png": "[encoded data removed]",
      "text/plain": [
       "<Figure size 432x288 with 1 Axes>"
      ]
     },
     "metadata": {
      "needs_background": "light"
     },
     "output_type": "display_data"
    }
   ],
   "source": [
    "L1_error_graph(L1_metric)\n",
    "Linfinity_error_graph(Linfinity_metric)"
   ]
  },
  {
   "cell_type": "markdown",
   "metadata": {},
   "source": [
    "# AS733"
   ]
  },
  {
   "cell_type": "code",
   "execution_count": 3,
   "metadata": {},
   "outputs": [
    {
     "name": "stdout",
     "output_type": "stream",
     "text": [
      "['as19971108.txt', 'as19971109.txt', 'as19971110.txt', 'as19971111.txt', 'as19971112.txt', 'as19971113.txt', 'as19971114.txt', 'as19971115.txt', 'as19971116.txt', 'as19971117.txt', 'as19971118.txt', 'as19971119.txt', 'as19971120.txt', 'as19971121.txt', 'as19971122.txt', 'as19971123.txt', 'as19971124.txt', 'as19971125.txt', 'as19971126.txt', 'as19971127.txt', 'as19971128.txt', 'as19971129.txt', 'as19971130.txt', 'as19971201.txt', 'as19971202.txt', 'as19971203.txt', 'as19971204.txt', 'as19971205.txt', 'as19971206.txt', 'as19971207.txt', 'as19971208.txt', 'as19971209.txt', 'as19971210.txt', 'as19971211.txt', 'as19971212.txt', 'as19971213.txt', 'as19971214.txt', 'as19971215.txt', 'as19971216.txt', 'as19971217.txt', 'as19971218.txt', 'as19971219.txt', 'as19971220.txt', 'as19971221.txt', 'as19971222.txt', 'as19971223.txt', 'as19971224.txt', 'as19971225.txt', 'as19971226.txt', 'as19971227.txt', 'as19971228.txt', 'as19971229.txt', 'as19971230.txt', 'as19971231.txt', 'as19980101.txt', 'as19980102.txt', 'as19980103.txt', 'as19980104.txt', 'as19980105.txt', 'as19980106.txt', 'as19980107.txt', 'as19980108.txt', 'as19980109.txt', 'as19980110.txt', 'as19980111.txt', 'as19980112.txt', 'as19980113.txt', 'as19980114.txt', 'as19980115.txt', 'as19980116.txt', 'as19980117.txt', 'as19980118.txt', 'as19980119.txt', 'as19980120.txt', 'as19980121.txt', 'as19980122.txt', 'as19980123.txt', 'as19980124.txt', 'as19980125.txt', 'as19980126.txt', 'as19980127.txt', 'as19980128.txt', 'as19980129.txt', 'as19980130.txt', 'as19980131.txt', 'as19980201.txt', 'as19980202.txt', 'as19980203.txt', 'as19980204.txt', 'as19980205.txt', 'as19980206.txt', 'as19980208.txt', 'as19980209.txt', 'as19980210.txt', 'as19980211.txt', 'as19980212.txt', 'as19980213.txt', 'as19980214.txt', 'as19980215.txt', 'as19980216.txt', 'as19980217.txt', 'as19980218.txt', 'as19980219.txt', 'as19980220.txt', 'as19980221.txt', 'as19980222.txt', 'as19980223.txt', 'as19980224.txt', 'as19980225.txt', 'as19980226.txt', 'as19980227.txt', 'as19980228.txt', 'as19980301.txt', 'as19980302.txt', 'as19980303.txt', 'as19980304.txt', 'as19980305.txt', 'as19980306.txt', 'as19980307.txt', 'as19980308.txt', 'as19980309.txt', 'as19980310.txt', 'as19980311.txt', 'as19980312.txt', 'as19980313.txt', 'as19980314.txt', 'as19980315.txt', 'as19980316.txt', 'as19980317.txt', 'as19980318.txt', 'as19980319.txt', 'as19980320.txt', 'as19980321.txt', 'as19980322.txt', 'as19980323.txt', 'as19980324.txt', 'as19980325.txt', 'as19980326.txt', 'as19980327.txt', 'as19980328.txt', 'as19980329.txt', 'as19980330.txt', 'as19980331.txt', 'as19980401.txt', 'as19980402.txt', 'as19980403.txt', 'as19980404.txt', 'as19980406.txt', 'as19980407.txt', 'as19980408.txt', 'as19980409.txt', 'as19980410.txt', 'as19980411.txt', 'as19980413.txt', 'as19980414.txt', 'as19980415.txt', 'as19980416.txt', 'as19980417.txt', 'as19980418.txt', 'as19980419.txt', 'as19980420.txt', 'as19980421.txt', 'as19980422.txt', 'as19980423.txt', 'as19980424.txt', 'as19980425.txt', 'as19980426.txt', 'as19980427.txt', 'as19980428.txt', 'as19980429.txt', 'as19980430.txt', 'as19980501.txt', 'as19980502.txt', 'as19980503.txt', 'as19980504.txt', 'as19980505.txt', 'as19980506.txt', 'as19980507.txt', 'as19980508.txt', 'as19980509.txt', 'as19980510.txt', 'as19980511.txt', 'as19980512.txt', 'as19980513.txt', 'as19980514.txt', 'as19980515.txt', 'as19980516.txt', 'as19980517.txt', 'as19980518.txt', 'as19980519.txt', 'as19980520.txt', 'as19980521.txt', 'as19980523.txt', 'as19980525.txt', 'as19980526.txt', 'as19980527.txt', 'as19980528.txt', 'as19980529.txt', 'as19980530.txt', 'as19980531.txt', 'as19980601.txt', 'as19980602.txt', 'as19980603.txt', 'as19980604.txt', 'as19980605.txt', 'as19980606.txt', 'as19980607.txt', 'as19980608.txt', 'as19980609.txt', 'as19980610.txt', 'as19980611.txt', 'as19980612.txt', 'as19980613.txt', 'as19980614.txt', 'as19980615.txt', 'as19980616.txt', 'as19980617.txt', 'as19980618.txt', 'as19980619.txt', 'as19980620.txt', 'as19980621.txt', 'as19980622.txt', 'as19980623.txt', 'as19980624.txt', 'as19980625.txt', 'as19980626.txt', 'as19980627.txt', 'as19980630.txt', 'as19980701.txt', 'as19980702.txt', 'as19980703.txt', 'as19980705.txt', 'as19980706.txt', 'as19980708.txt', 'as19980709.txt', 'as19980710.txt', 'as19980711.txt', 'as19980712.txt', 'as19980713.txt', 'as19980714.txt', 'as19980715.txt', 'as19980717.txt', 'as19980718.txt', 'as19980719.txt', 'as19980720.txt', 'as19980721.txt', 'as19980722.txt', 'as19980723.txt', 'as19980724.txt', 'as19980725.txt', 'as19980726.txt', 'as19980727.txt', 'as19980728.txt', 'as19980729.txt', 'as19980730.txt', 'as19980731.txt', 'as19980801.txt', 'as19980802.txt', 'as19980803.txt', 'as19980804.txt', 'as19980805.txt', 'as19980806.txt', 'as19980807.txt', 'as19980808.txt', 'as19980809.txt', 'as19980810.txt', 'as19980811.txt', 'as19980812.txt', 'as19980813.txt', 'as19980814.txt', 'as19980815.txt', 'as19980816.txt', 'as19980817.txt', 'as19980818.txt', 'as19980819.txt', 'as19980820.txt', 'as19980821.txt', 'as19980822.txt', 'as19980823.txt', 'as19980824.txt', 'as19980825.txt', 'as19980826.txt', 'as19980827.txt', 'as19980828.txt', 'as19980829.txt', 'as19980830.txt', 'as19980831.txt', 'as19980901.txt', 'as19980902.txt', 'as19980903.txt', 'as19980904.txt', 'as19980905.txt', 'as19980906.txt', 'as19980907.txt', 'as19980908.txt', 'as19980909.txt', 'as19980910.txt', 'as19980911.txt', 'as19980912.txt', 'as19980914.txt', 'as19980915.txt', 'as19980916.txt', 'as19980917.txt', 'as19980918.txt', 'as19980919.txt', 'as19980920.txt', 'as19980921.txt', 'as19980922.txt', 'as19980923.txt', 'as19980924.txt', 'as19980925.txt', 'as19980926.txt', 'as19980927.txt', 'as19980928.txt', 'as19980929.txt', 'as19980930.txt', 'as19981001.txt', 'as19981002.txt', 'as19981003.txt', 'as19981004.txt', 'as19981005.txt', 'as19981006.txt', 'as19981007.txt', 'as19981008.txt', 'as19981009.txt', 'as19981010.txt', 'as19981011.txt', 'as19981012.txt', 'as19981013.txt', 'as19981014.txt', 'as19981015.txt', 'as19981016.txt', 'as19981017.txt', 'as19981018.txt', 'as19981019.txt', 'as19981020.txt', 'as19981021.txt', 'as19981022.txt', 'as19981023.txt', 'as19981024.txt', 'as19981025.txt', 'as19981026.txt', 'as19981027.txt', 'as19981028.txt', 'as19981029.txt', 'as19981030.txt', 'as19981031.txt', 'as19981101.txt', 'as19981102.txt', 'as19981103.txt', 'as19981104.txt', 'as19981105.txt', 'as19981106.txt', 'as19981107.txt', 'as19981108.txt', 'as19981109.txt', 'as19981110.txt', 'as19981111.txt', 'as19981112.txt', 'as19981113.txt', 'as19981114.txt', 'as19981115.txt', 'as19981116.txt', 'as19981117.txt', 'as19981118.txt', 'as19981119.txt', 'as19981120.txt', 'as19981121.txt', 'as19981122.txt', 'as19981123.txt', 'as19981124.txt', 'as19981125.txt', 'as19981126.txt', 'as19981127.txt', 'as19981128.txt', 'as19981129.txt', 'as19981130.txt', 'as19981201.txt', 'as19981202.txt', 'as19981203.txt', 'as19981204.txt', 'as19981205.txt', 'as19981206.txt', 'as19981207.txt', 'as19981208.txt', 'as19981209.txt', 'as19981210.txt', 'as19981211.txt', 'as19981212.txt', 'as19981213.txt', 'as19981214.txt', 'as19981215.txt', 'as19981216.txt', 'as19981217.txt', 'as19981218.txt', 'as19981219.txt', 'as19981220.txt', 'as19981221.txt', 'as19981222.txt', 'as19981223.txt', 'as19981224.txt', 'as19981225.txt', 'as19981226.txt', 'as19981227.txt', 'as19981228.txt', 'as19981229.txt', 'as19981230.txt', 'as19981231.txt', 'as19990101.txt', 'as19990102.txt', 'as19990103.txt', 'as19990104.txt', 'as19990105.txt', 'as19990106.txt', 'as19990107.txt', 'as19990108.txt', 'as19990109.txt', 'as19990110.txt', 'as19990111.txt', 'as19990112.txt', 'as19990114.txt', 'as19990115.txt', 'as19990116.txt', 'as19990117.txt', 'as19990118.txt', 'as19990119.txt', 'as19990120.txt', 'as19990122.txt', 'as19990123.txt', 'as19990124.txt', 'as19990125.txt', 'as19990127.txt', 'as19990128.txt', 'as19990129.txt', 'as19990130.txt', 'as19990131.txt', 'as19990201.txt', 'as19990202.txt', 'as19990203.txt', 'as19990204.txt', 'as19990205.txt', 'as19990206.txt', 'as19990207.txt', 'as19990208.txt', 'as19990209.txt', 'as19990210.txt', 'as19990211.txt', 'as19990212.txt', 'as19990213.txt', 'as19990214.txt', 'as19990215.txt', 'as19990216.txt', 'as19990217.txt', 'as19990218.txt', 'as19990219.txt', 'as19990220.txt', 'as19990221.txt', 'as19990222.txt', 'as19990223.txt', 'as19990224.txt', 'as19990225.txt', 'as19990226.txt', 'as19990227.txt', 'as19990228.txt', 'as19990301.txt', 'as19990302.txt', 'as19990303.txt', 'as19990304.txt', 'as19990305.txt', 'as19990306.txt', 'as19990307.txt', 'as19990308.txt', 'as19990309.txt', 'as19990310.txt', 'as19990311.txt', 'as19990312.txt', 'as19990313.txt', 'as19990314.txt', 'as19990315.txt', 'as19990316.txt', 'as19990317.txt', 'as19990318.txt', 'as19990319.txt', 'as19990320.txt', 'as19990321.txt', 'as19990322.txt', 'as19990323.txt', 'as19990324.txt', 'as19990325.txt', 'as19990326.txt', 'as19990327.txt', 'as19990328.txt', 'as19990329.txt', 'as19990330.txt', 'as19990331.txt', 'as19990401.txt', 'as19990402.txt', 'as19990403.txt', 'as19990405.txt', 'as19990406.txt', 'as19990407.txt', 'as19990408.txt', 'as19990409.txt', 'as19990411.txt', 'as19990412.txt', 'as19990413.txt', 'as19990414.txt', 'as19990415.txt', 'as19990416.txt', 'as19990417.txt', 'as19990418.txt', 'as19990419.txt', 'as19990420.txt', 'as19990421.txt', 'as19990422.txt', 'as19990423.txt', 'as19990424.txt', 'as19990425.txt', 'as19990426.txt', 'as19990427.txt', 'as19990428.txt', 'as19990429.txt', 'as19990430.txt', 'as19990501.txt', 'as19990502.txt', 'as19990503.txt', 'as19990504.txt', 'as19990505.txt', 'as19990506.txt', 'as19990507.txt', 'as19990508.txt', 'as19990509.txt', 'as19990510.txt', 'as19990511.txt', 'as19990512.txt', 'as19990513.txt', 'as19990514.txt', 'as19990515.txt', 'as19990516.txt', 'as19990517.txt', 'as19990518.txt', 'as19990519.txt', 'as19990521.txt', 'as19990522.txt', 'as19990523.txt', 'as19990524.txt', 'as19990525.txt', 'as19990526.txt', 'as19990527.txt', 'as19990528.txt', 'as19990529.txt', 'as19990530.txt', 'as19990531.txt', 'as19990601.txt', 'as19990602.txt', 'as19990603.txt', 'as19990604.txt', 'as19990605.txt', 'as19990606.txt', 'as19990607.txt', 'as19990608.txt', 'as19990609.txt', 'as19990610.txt', 'as19990611.txt', 'as19990612.txt', 'as19990613.txt', 'as19990614.txt', 'as19990615.txt', 'as19990616.txt', 'as19990617.txt', 'as19990618.txt', 'as19990619.txt', 'as19990620.txt', 'as19990621.txt', 'as19990622.txt', 'as19990624.txt', 'as19990625.txt', 'as19990626.txt', 'as19990627.txt', 'as19990628.txt', 'as19990629.txt', 'as19990630.txt', 'as19990701.txt', 'as19990702.txt', 'as19990703.txt', 'as19990704.txt', 'as19990705.txt', 'as19990706.txt', 'as19990707.txt', 'as19990708.txt', 'as19990709.txt', 'as19990710.txt', 'as19990711.txt', 'as19990713.txt', 'as19990714.txt', 'as19990715.txt', 'as19990716.txt', 'as19990717.txt', 'as19990718.txt', 'as19990719.txt', 'as19990720.txt', 'as19990721.txt', 'as19990722.txt', 'as19990723.txt', 'as19990724.txt', 'as19990726.txt', 'as19990727.txt', 'as19990728.txt', 'as19990729.txt', 'as19990730.txt', 'as19990731.txt', 'as19990801.txt', 'as19990802.txt', 'as19990804.txt', 'as19990805.txt', 'as19990806.txt', 'as19990807.txt', 'as19990808.txt', 'as19990809.txt', 'as19990810.txt', 'as19990811.txt', 'as19990812.txt', 'as19990813.txt', 'as19990814.txt', 'as19990815.txt', 'as19990816.txt', 'as19990817.txt', 'as19990818.txt', 'as19990819.txt', 'as19990820.txt', 'as19990821.txt', 'as19990822.txt', 'as19990823.txt', 'as19990824.txt', 'as19990825.txt', 'as19990826.txt', 'as19990827.txt', 'as19990828.txt', 'as19990829.txt', 'as19990830.txt', 'as19990831.txt', 'as19990901.txt', 'as19990902.txt', 'as19990903.txt', 'as19990904.txt', 'as19990905.txt', 'as19990906.txt', 'as19990907.txt', 'as19990908.txt', 'as19990909.txt', 'as19990910.txt', 'as19990911.txt', 'as19990912.txt', 'as19990913.txt', 'as19990914.txt', 'as19990915.txt', 'as19990916.txt', 'as19990917.txt', 'as19990918.txt', 'as19990919.txt', 'as19990920.txt', 'as19990921.txt', 'as19990922.txt', 'as19990923.txt', 'as19990924.txt', 'as19990925.txt', 'as19990926.txt', 'as19990927.txt', 'as19990928.txt', 'as19990929.txt', 'as19990930.txt', 'as19991001.txt', 'as19991002.txt', 'as19991003.txt', 'as19991004.txt', 'as19991005.txt', 'as19991006.txt', 'as19991007.txt', 'as19991008.txt', 'as19991009.txt', 'as19991010.txt', 'as19991011.txt', 'as19991013.txt', 'as19991016.txt', 'as19991017.txt', 'as19991018.txt', 'as19991019.txt', 'as19991026.txt', 'as19991027.txt', 'as19991028.txt', 'as19991031.txt', 'as19991105.txt', 'as19991108.txt', 'as19991109.txt', 'as19991110.txt', 'as19991111.txt', 'as19991112.txt', 'as19991113.txt', 'as19991114.txt', 'as19991115.txt', 'as19991116.txt', 'as19991118.txt', 'as19991121.txt', 'as19991122.txt', 'as19991204.txt', 'as19991205.txt', 'as19991206.txt', 'as19991208.txt', 'as19991209.txt', 'as19991210.txt', 'as19991211.txt', 'as19991212.txt', 'as19991213.txt', 'as19991214.txt', 'as19991215.txt', 'as19991216.txt', 'as19991217.txt', 'as19991218.txt', 'as19991219.txt', 'as19991220.txt', 'as19991221.txt', 'as19991222.txt', 'as19991223.txt', 'as19991224.txt', 'as19991225.txt', 'as19991226.txt', 'as19991227.txt', 'as19991228.txt', 'as19991229.txt', 'as19991230.txt', 'as19991231.txt', 'as20000101.txt', 'as20000102.txt']\n"
     ]
    },
    {
     "data": {
      "text/plain": [
       "['as19971108.txt',\n",
       " 'as19971109.txt',\n",
       " 'as19971110.txt',\n",
       " 'as19971111.txt',\n",
       " 'as19971112.txt',\n",
       " 'as19971113.txt',\n",
       " 'as19971114.txt',\n",
       " 'as19971115.txt',\n",
       " 'as19971116.txt',\n",
       " 'as19971117.txt',\n",
       " 'as19971118.txt',\n",
       " 'as19971119.txt',\n",
       " 'as19971120.txt',\n",
       " 'as19971121.txt',\n",
       " 'as19971122.txt',\n",
       " 'as19971123.txt',\n",
       " 'as19971124.txt',\n",
       " 'as19971125.txt',\n",
       " 'as19971126.txt',\n",
       " 'as19971127.txt',\n",
       " 'as19971128.txt',\n",
       " 'as19971129.txt',\n",
       " 'as19971130.txt',\n",
       " 'as19971201.txt',\n",
       " 'as19971202.txt',\n",
       " 'as19971203.txt',\n",
       " 'as19971204.txt',\n",
       " 'as19971205.txt',\n",
       " 'as19971206.txt',\n",
       " 'as19971207.txt',\n",
       " 'as19971208.txt',\n",
       " 'as19971209.txt',\n",
       " 'as19971210.txt',\n",
       " 'as19971211.txt',\n",
       " 'as19971212.txt',\n",
       " 'as19971213.txt',\n",
       " 'as19971214.txt',\n",
       " 'as19971215.txt',\n",
       " 'as19971216.txt',\n",
       " 'as19971217.txt',\n",
       " 'as19971218.txt',\n",
       " 'as19971219.txt',\n",
       " 'as19971220.txt',\n",
       " 'as19971221.txt',\n",
       " 'as19971222.txt',\n",
       " 'as19971223.txt',\n",
       " 'as19971224.txt',\n",
       " 'as19971225.txt',\n",
       " 'as19971226.txt',\n",
       " 'as19971227.txt',\n",
       " 'as19971228.txt',\n",
       " 'as19971229.txt',\n",
       " 'as19971230.txt',\n",
       " 'as19971231.txt',\n",
       " 'as19980101.txt',\n",
       " 'as19980102.txt',\n",
       " 'as19980103.txt',\n",
       " 'as19980104.txt',\n",
       " 'as19980105.txt',\n",
       " 'as19980106.txt',\n",
       " 'as19980107.txt',\n",
       " 'as19980108.txt',\n",
       " 'as19980109.txt',\n",
       " 'as19980110.txt',\n",
       " 'as19980111.txt',\n",
       " 'as19980112.txt',\n",
       " 'as19980113.txt',\n",
       " 'as19980114.txt',\n",
       " 'as19980115.txt',\n",
       " 'as19980116.txt',\n",
       " 'as19980117.txt',\n",
       " 'as19980118.txt',\n",
       " 'as19980119.txt',\n",
       " 'as19980120.txt',\n",
       " 'as19980121.txt',\n",
       " 'as19980122.txt',\n",
       " 'as19980123.txt',\n",
       " 'as19980124.txt',\n",
       " 'as19980125.txt',\n",
       " 'as19980126.txt',\n",
       " 'as19980127.txt',\n",
       " 'as19980128.txt',\n",
       " 'as19980129.txt',\n",
       " 'as19980130.txt',\n",
       " 'as19980131.txt',\n",
       " 'as19980201.txt',\n",
       " 'as19980202.txt',\n",
       " 'as19980203.txt',\n",
       " 'as19980204.txt',\n",
       " 'as19980205.txt',\n",
       " 'as19980206.txt',\n",
       " 'as19980208.txt',\n",
       " 'as19980209.txt',\n",
       " 'as19980210.txt',\n",
       " 'as19980211.txt',\n",
       " 'as19980212.txt',\n",
       " 'as19980213.txt',\n",
       " 'as19980214.txt',\n",
       " 'as19980215.txt',\n",
       " 'as19980216.txt',\n",
       " 'as19980217.txt',\n",
       " 'as19980218.txt',\n",
       " 'as19980219.txt',\n",
       " 'as19980220.txt',\n",
       " 'as19980221.txt',\n",
       " 'as19980222.txt',\n",
       " 'as19980223.txt',\n",
       " 'as19980224.txt',\n",
       " 'as19980225.txt',\n",
       " 'as19980226.txt',\n",
       " 'as19980227.txt',\n",
       " 'as19980228.txt',\n",
       " 'as19980301.txt',\n",
       " 'as19980302.txt',\n",
       " 'as19980303.txt',\n",
       " 'as19980304.txt',\n",
       " 'as19980305.txt',\n",
       " 'as19980306.txt',\n",
       " 'as19980307.txt',\n",
       " 'as19980308.txt',\n",
       " 'as19980309.txt',\n",
       " 'as19980310.txt',\n",
       " 'as19980311.txt',\n",
       " 'as19980312.txt',\n",
       " 'as19980313.txt',\n",
       " 'as19980314.txt',\n",
       " 'as19980315.txt',\n",
       " 'as19980316.txt',\n",
       " 'as19980317.txt',\n",
       " 'as19980318.txt',\n",
       " 'as19980319.txt',\n",
       " 'as19980320.txt',\n",
       " 'as19980321.txt',\n",
       " 'as19980322.txt',\n",
       " 'as19980323.txt',\n",
       " 'as19980324.txt',\n",
       " 'as19980325.txt',\n",
       " 'as19980326.txt',\n",
       " 'as19980327.txt',\n",
       " 'as19980328.txt',\n",
       " 'as19980329.txt',\n",
       " 'as19980330.txt',\n",
       " 'as19980331.txt',\n",
       " 'as19980401.txt',\n",
       " 'as19980402.txt',\n",
       " 'as19980403.txt',\n",
       " 'as19980404.txt',\n",
       " 'as19980406.txt',\n",
       " 'as19980407.txt',\n",
       " 'as19980408.txt',\n",
       " 'as19980409.txt',\n",
       " 'as19980410.txt',\n",
       " 'as19980411.txt',\n",
       " 'as19980413.txt',\n",
       " 'as19980414.txt',\n",
       " 'as19980415.txt',\n",
       " 'as19980416.txt',\n",
       " 'as19980417.txt',\n",
       " 'as19980418.txt',\n",
       " 'as19980419.txt',\n",
       " 'as19980420.txt',\n",
       " 'as19980421.txt',\n",
       " 'as19980422.txt',\n",
       " 'as19980423.txt',\n",
       " 'as19980424.txt',\n",
       " 'as19980425.txt',\n",
       " 'as19980426.txt',\n",
       " 'as19980427.txt',\n",
       " 'as19980428.txt',\n",
       " 'as19980429.txt',\n",
       " 'as19980430.txt',\n",
       " 'as19980501.txt',\n",
       " 'as19980502.txt',\n",
       " 'as19980503.txt',\n",
       " 'as19980504.txt',\n",
       " 'as19980505.txt',\n",
       " 'as19980506.txt',\n",
       " 'as19980507.txt',\n",
       " 'as19980508.txt',\n",
       " 'as19980509.txt',\n",
       " 'as19980510.txt',\n",
       " 'as19980511.txt',\n",
       " 'as19980512.txt',\n",
       " 'as19980513.txt',\n",
       " 'as19980514.txt',\n",
       " 'as19980515.txt',\n",
       " 'as19980516.txt',\n",
       " 'as19980517.txt',\n",
       " 'as19980518.txt',\n",
       " 'as19980519.txt',\n",
       " 'as19980520.txt',\n",
       " 'as19980521.txt',\n",
       " 'as19980523.txt',\n",
       " 'as19980525.txt',\n",
       " 'as19980526.txt',\n",
       " 'as19980527.txt',\n",
       " 'as19980528.txt',\n",
       " 'as19980529.txt',\n",
       " 'as19980530.txt',\n",
       " 'as19980531.txt',\n",
       " 'as19980601.txt',\n",
       " 'as19980602.txt',\n",
       " 'as19980603.txt',\n",
       " 'as19980604.txt',\n",
       " 'as19980605.txt',\n",
       " 'as19980606.txt',\n",
       " 'as19980607.txt',\n",
       " 'as19980608.txt',\n",
       " 'as19980609.txt',\n",
       " 'as19980610.txt',\n",
       " 'as19980611.txt',\n",
       " 'as19980612.txt',\n",
       " 'as19980613.txt',\n",
       " 'as19980614.txt',\n",
       " 'as19980615.txt',\n",
       " 'as19980616.txt',\n",
       " 'as19980617.txt',\n",
       " 'as19980618.txt',\n",
       " 'as19980619.txt',\n",
       " 'as19980620.txt',\n",
       " 'as19980621.txt',\n",
       " 'as19980622.txt',\n",
       " 'as19980623.txt',\n",
       " 'as19980624.txt',\n",
       " 'as19980625.txt',\n",
       " 'as19980626.txt',\n",
       " 'as19980627.txt',\n",
       " 'as19980630.txt',\n",
       " 'as19980701.txt',\n",
       " 'as19980702.txt',\n",
       " 'as19980703.txt',\n",
       " 'as19980705.txt',\n",
       " 'as19980706.txt',\n",
       " 'as19980708.txt',\n",
       " 'as19980709.txt',\n",
       " 'as19980710.txt',\n",
       " 'as19980711.txt',\n",
       " 'as19980712.txt',\n",
       " 'as19980713.txt',\n",
       " 'as19980714.txt',\n",
       " 'as19980715.txt',\n",
       " 'as19980717.txt',\n",
       " 'as19980718.txt',\n",
       " 'as19980719.txt',\n",
       " 'as19980720.txt',\n",
       " 'as19980721.txt',\n",
       " 'as19980722.txt',\n",
       " 'as19980723.txt',\n",
       " 'as19980724.txt',\n",
       " 'as19980725.txt',\n",
       " 'as19980726.txt',\n",
       " 'as19980727.txt',\n",
       " 'as19980728.txt',\n",
       " 'as19980729.txt',\n",
       " 'as19980730.txt',\n",
       " 'as19980731.txt',\n",
       " 'as19980801.txt',\n",
       " 'as19980802.txt',\n",
       " 'as19980803.txt',\n",
       " 'as19980804.txt',\n",
       " 'as19980805.txt',\n",
       " 'as19980806.txt',\n",
       " 'as19980807.txt',\n",
       " 'as19980808.txt',\n",
       " 'as19980809.txt',\n",
       " 'as19980810.txt',\n",
       " 'as19980811.txt',\n",
       " 'as19980812.txt',\n",
       " 'as19980813.txt',\n",
       " 'as19980814.txt',\n",
       " 'as19980815.txt',\n",
       " 'as19980816.txt',\n",
       " 'as19980817.txt',\n",
       " 'as19980818.txt',\n",
       " 'as19980819.txt',\n",
       " 'as19980820.txt',\n",
       " 'as19980821.txt',\n",
       " 'as19980822.txt',\n",
       " 'as19980823.txt',\n",
       " 'as19980824.txt',\n",
       " 'as19980825.txt',\n",
       " 'as19980826.txt',\n",
       " 'as19980827.txt',\n",
       " 'as19980828.txt',\n",
       " 'as19980829.txt',\n",
       " 'as19980830.txt',\n",
       " 'as19980831.txt',\n",
       " 'as19980901.txt',\n",
       " 'as19980902.txt',\n",
       " 'as19980903.txt',\n",
       " 'as19980904.txt',\n",
       " 'as19980905.txt',\n",
       " 'as19980906.txt',\n",
       " 'as19980907.txt',\n",
       " 'as19980908.txt',\n",
       " 'as19980909.txt',\n",
       " 'as19980910.txt',\n",
       " 'as19980911.txt',\n",
       " 'as19980912.txt',\n",
       " 'as19980914.txt',\n",
       " 'as19980915.txt',\n",
       " 'as19980916.txt',\n",
       " 'as19980917.txt',\n",
       " 'as19980918.txt',\n",
       " 'as19980919.txt',\n",
       " 'as19980920.txt',\n",
       " 'as19980921.txt',\n",
       " 'as19980922.txt',\n",
       " 'as19980923.txt',\n",
       " 'as19980924.txt',\n",
       " 'as19980925.txt',\n",
       " 'as19980926.txt',\n",
       " 'as19980927.txt',\n",
       " 'as19980928.txt',\n",
       " 'as19980929.txt',\n",
       " 'as19980930.txt',\n",
       " 'as19981001.txt',\n",
       " 'as19981002.txt',\n",
       " 'as19981003.txt',\n",
       " 'as19981004.txt',\n",
       " 'as19981005.txt',\n",
       " 'as19981006.txt',\n",
       " 'as19981007.txt',\n",
       " 'as19981008.txt',\n",
       " 'as19981009.txt',\n",
       " 'as19981010.txt',\n",
       " 'as19981011.txt',\n",
       " 'as19981012.txt',\n",
       " 'as19981013.txt',\n",
       " 'as19981014.txt',\n",
       " 'as19981015.txt',\n",
       " 'as19981016.txt',\n",
       " 'as19981017.txt',\n",
       " 'as19981018.txt',\n",
       " 'as19981019.txt',\n",
       " 'as19981020.txt',\n",
       " 'as19981021.txt',\n",
       " 'as19981022.txt',\n",
       " 'as19981023.txt',\n",
       " 'as19981024.txt',\n",
       " 'as19981025.txt',\n",
       " 'as19981026.txt',\n",
       " 'as19981027.txt',\n",
       " 'as19981028.txt',\n",
       " 'as19981029.txt',\n",
       " 'as19981030.txt',\n",
       " 'as19981031.txt',\n",
       " 'as19981101.txt',\n",
       " 'as19981102.txt',\n",
       " 'as19981103.txt',\n",
       " 'as19981104.txt',\n",
       " 'as19981105.txt',\n",
       " 'as19981106.txt',\n",
       " 'as19981107.txt',\n",
       " 'as19981108.txt',\n",
       " 'as19981109.txt',\n",
       " 'as19981110.txt',\n",
       " 'as19981111.txt',\n",
       " 'as19981112.txt',\n",
       " 'as19981113.txt',\n",
       " 'as19981114.txt',\n",
       " 'as19981115.txt',\n",
       " 'as19981116.txt',\n",
       " 'as19981117.txt',\n",
       " 'as19981118.txt',\n",
       " 'as19981119.txt',\n",
       " 'as19981120.txt',\n",
       " 'as19981121.txt',\n",
       " 'as19981122.txt',\n",
       " 'as19981123.txt',\n",
       " 'as19981124.txt',\n",
       " 'as19981125.txt',\n",
       " 'as19981126.txt',\n",
       " 'as19981127.txt',\n",
       " 'as19981128.txt',\n",
       " 'as19981129.txt',\n",
       " 'as19981130.txt',\n",
       " 'as19981201.txt',\n",
       " 'as19981202.txt',\n",
       " 'as19981203.txt',\n",
       " 'as19981204.txt',\n",
       " 'as19981205.txt',\n",
       " 'as19981206.txt',\n",
       " 'as19981207.txt',\n",
       " 'as19981208.txt',\n",
       " 'as19981209.txt',\n",
       " 'as19981210.txt',\n",
       " 'as19981211.txt',\n",
       " 'as19981212.txt',\n",
       " 'as19981213.txt',\n",
       " 'as19981214.txt',\n",
       " 'as19981215.txt',\n",
       " 'as19981216.txt',\n",
       " 'as19981217.txt',\n",
       " 'as19981218.txt',\n",
       " 'as19981219.txt',\n",
       " 'as19981220.txt',\n",
       " 'as19981221.txt',\n",
       " 'as19981222.txt',\n",
       " 'as19981223.txt',\n",
       " 'as19981224.txt',\n",
       " 'as19981225.txt',\n",
       " 'as19981226.txt',\n",
       " 'as19981227.txt',\n",
       " 'as19981228.txt',\n",
       " 'as19981229.txt',\n",
       " 'as19981230.txt',\n",
       " 'as19981231.txt',\n",
       " 'as19990101.txt',\n",
       " 'as19990102.txt',\n",
       " 'as19990103.txt',\n",
       " 'as19990104.txt',\n",
       " 'as19990105.txt',\n",
       " 'as19990106.txt',\n",
       " 'as19990107.txt',\n",
       " 'as19990108.txt',\n",
       " 'as19990109.txt',\n",
       " 'as19990110.txt',\n",
       " 'as19990111.txt',\n",
       " 'as19990112.txt',\n",
       " 'as19990114.txt',\n",
       " 'as19990115.txt',\n",
       " 'as19990116.txt',\n",
       " 'as19990117.txt',\n",
       " 'as19990118.txt',\n",
       " 'as19990119.txt',\n",
       " 'as19990120.txt',\n",
       " 'as19990122.txt',\n",
       " 'as19990123.txt',\n",
       " 'as19990124.txt',\n",
       " 'as19990125.txt',\n",
       " 'as19990127.txt',\n",
       " 'as19990128.txt',\n",
       " 'as19990129.txt',\n",
       " 'as19990130.txt',\n",
       " 'as19990131.txt',\n",
       " 'as19990201.txt',\n",
       " 'as19990202.txt',\n",
       " 'as19990203.txt',\n",
       " 'as19990204.txt',\n",
       " 'as19990205.txt',\n",
       " 'as19990206.txt',\n",
       " 'as19990207.txt',\n",
       " 'as19990208.txt',\n",
       " 'as19990209.txt',\n",
       " 'as19990210.txt',\n",
       " 'as19990211.txt',\n",
       " 'as19990212.txt',\n",
       " 'as19990213.txt',\n",
       " 'as19990214.txt',\n",
       " 'as19990215.txt',\n",
       " 'as19990216.txt',\n",
       " 'as19990217.txt',\n",
       " 'as19990218.txt',\n",
       " 'as19990219.txt',\n",
       " 'as19990220.txt',\n",
       " 'as19990221.txt',\n",
       " 'as19990222.txt',\n",
       " 'as19990223.txt',\n",
       " 'as19990224.txt',\n",
       " 'as19990225.txt',\n",
       " 'as19990226.txt',\n",
       " 'as19990227.txt',\n",
       " 'as19990228.txt',\n",
       " 'as19990301.txt',\n",
       " 'as19990302.txt',\n",
       " 'as19990303.txt',\n",
       " 'as19990304.txt',\n",
       " 'as19990305.txt',\n",
       " 'as19990306.txt',\n",
       " 'as19990307.txt',\n",
       " 'as19990308.txt',\n",
       " 'as19990309.txt',\n",
       " 'as19990310.txt',\n",
       " 'as19990311.txt',\n",
       " 'as19990312.txt',\n",
       " 'as19990313.txt',\n",
       " 'as19990314.txt',\n",
       " 'as19990315.txt',\n",
       " 'as19990316.txt',\n",
       " 'as19990317.txt',\n",
       " 'as19990318.txt',\n",
       " 'as19990319.txt',\n",
       " 'as19990320.txt',\n",
       " 'as19990321.txt',\n",
       " 'as19990322.txt',\n",
       " 'as19990323.txt',\n",
       " 'as19990324.txt',\n",
       " 'as19990325.txt',\n",
       " 'as19990326.txt',\n",
       " 'as19990327.txt',\n",
       " 'as19990328.txt',\n",
       " 'as19990329.txt',\n",
       " 'as19990330.txt',\n",
       " 'as19990331.txt',\n",
       " 'as19990401.txt',\n",
       " 'as19990402.txt',\n",
       " 'as19990403.txt',\n",
       " 'as19990405.txt',\n",
       " 'as19990406.txt',\n",
       " 'as19990407.txt',\n",
       " 'as19990408.txt',\n",
       " 'as19990409.txt',\n",
       " 'as19990411.txt',\n",
       " 'as19990412.txt',\n",
       " 'as19990413.txt',\n",
       " 'as19990414.txt',\n",
       " 'as19990415.txt',\n",
       " 'as19990416.txt',\n",
       " 'as19990417.txt',\n",
       " 'as19990418.txt',\n",
       " 'as19990419.txt',\n",
       " 'as19990420.txt',\n",
       " 'as19990421.txt',\n",
       " 'as19990422.txt',\n",
       " 'as19990423.txt',\n",
       " 'as19990424.txt',\n",
       " 'as19990425.txt',\n",
       " 'as19990426.txt',\n",
       " 'as19990427.txt',\n",
       " 'as19990428.txt',\n",
       " 'as19990429.txt',\n",
       " 'as19990430.txt',\n",
       " 'as19990501.txt',\n",
       " 'as19990502.txt',\n",
       " 'as19990503.txt',\n",
       " 'as19990504.txt',\n",
       " 'as19990505.txt',\n",
       " 'as19990506.txt',\n",
       " 'as19990507.txt',\n",
       " 'as19990508.txt',\n",
       " 'as19990509.txt',\n",
       " 'as19990510.txt',\n",
       " 'as19990511.txt',\n",
       " 'as19990512.txt',\n",
       " 'as19990513.txt',\n",
       " 'as19990514.txt',\n",
       " 'as19990515.txt',\n",
       " 'as19990516.txt',\n",
       " 'as19990517.txt',\n",
       " 'as19990518.txt',\n",
       " 'as19990519.txt',\n",
       " 'as19990521.txt',\n",
       " 'as19990522.txt',\n",
       " 'as19990523.txt',\n",
       " 'as19990524.txt',\n",
       " 'as19990525.txt',\n",
       " 'as19990526.txt',\n",
       " 'as19990527.txt',\n",
       " 'as19990528.txt',\n",
       " 'as19990529.txt',\n",
       " 'as19990530.txt',\n",
       " 'as19990531.txt',\n",
       " 'as19990601.txt',\n",
       " 'as19990602.txt',\n",
       " 'as19990603.txt',\n",
       " 'as19990604.txt',\n",
       " 'as19990605.txt',\n",
       " 'as19990606.txt',\n",
       " 'as19990607.txt',\n",
       " 'as19990608.txt',\n",
       " 'as19990609.txt',\n",
       " 'as19990610.txt',\n",
       " 'as19990611.txt',\n",
       " 'as19990612.txt',\n",
       " 'as19990613.txt',\n",
       " 'as19990614.txt',\n",
       " 'as19990615.txt',\n",
       " 'as19990616.txt',\n",
       " 'as19990617.txt',\n",
       " 'as19990618.txt',\n",
       " 'as19990619.txt',\n",
       " 'as19990620.txt',\n",
       " 'as19990621.txt',\n",
       " 'as19990622.txt',\n",
       " 'as19990624.txt',\n",
       " 'as19990625.txt',\n",
       " 'as19990626.txt',\n",
       " 'as19990627.txt',\n",
       " 'as19990628.txt',\n",
       " 'as19990629.txt',\n",
       " 'as19990630.txt',\n",
       " 'as19990701.txt',\n",
       " 'as19990702.txt',\n",
       " 'as19990703.txt',\n",
       " 'as19990704.txt',\n",
       " 'as19990705.txt',\n",
       " 'as19990706.txt',\n",
       " 'as19990707.txt',\n",
       " 'as19990708.txt',\n",
       " 'as19990709.txt',\n",
       " 'as19990710.txt',\n",
       " 'as19990711.txt',\n",
       " 'as19990713.txt',\n",
       " 'as19990714.txt',\n",
       " 'as19990715.txt',\n",
       " 'as19990716.txt',\n",
       " 'as19990717.txt',\n",
       " 'as19990718.txt',\n",
       " 'as19990719.txt',\n",
       " 'as19990720.txt',\n",
       " 'as19990721.txt',\n",
       " 'as19990722.txt',\n",
       " 'as19990723.txt',\n",
       " 'as19990724.txt',\n",
       " 'as19990726.txt',\n",
       " 'as19990727.txt',\n",
       " 'as19990728.txt',\n",
       " 'as19990729.txt',\n",
       " 'as19990730.txt',\n",
       " 'as19990731.txt',\n",
       " 'as19990801.txt',\n",
       " 'as19990802.txt',\n",
       " 'as19990804.txt',\n",
       " 'as19990805.txt',\n",
       " 'as19990806.txt',\n",
       " 'as19990807.txt',\n",
       " 'as19990808.txt',\n",
       " 'as19990809.txt',\n",
       " 'as19990810.txt',\n",
       " 'as19990811.txt',\n",
       " 'as19990812.txt',\n",
       " 'as19990813.txt',\n",
       " 'as19990814.txt',\n",
       " 'as19990815.txt',\n",
       " 'as19990816.txt',\n",
       " 'as19990817.txt',\n",
       " 'as19990818.txt',\n",
       " 'as19990819.txt',\n",
       " 'as19990820.txt',\n",
       " 'as19990821.txt',\n",
       " 'as19990822.txt',\n",
       " 'as19990823.txt',\n",
       " 'as19990824.txt',\n",
       " 'as19990825.txt',\n",
       " 'as19990826.txt',\n",
       " 'as19990827.txt',\n",
       " 'as19990828.txt',\n",
       " 'as19990829.txt',\n",
       " 'as19990830.txt',\n",
       " 'as19990831.txt',\n",
       " 'as19990901.txt',\n",
       " 'as19990902.txt',\n",
       " 'as19990903.txt',\n",
       " 'as19990904.txt',\n",
       " 'as19990905.txt',\n",
       " 'as19990906.txt',\n",
       " 'as19990907.txt',\n",
       " 'as19990908.txt',\n",
       " 'as19990909.txt',\n",
       " 'as19990910.txt',\n",
       " 'as19990911.txt',\n",
       " 'as19990912.txt',\n",
       " 'as19990913.txt',\n",
       " 'as19990914.txt',\n",
       " 'as19990915.txt',\n",
       " 'as19990916.txt',\n",
       " 'as19990917.txt',\n",
       " 'as19990918.txt',\n",
       " 'as19990919.txt',\n",
       " 'as19990920.txt',\n",
       " 'as19990921.txt',\n",
       " 'as19990922.txt',\n",
       " 'as19990923.txt',\n",
       " 'as19990924.txt',\n",
       " 'as19990925.txt',\n",
       " 'as19990926.txt',\n",
       " 'as19990927.txt',\n",
       " 'as19990928.txt',\n",
       " 'as19990929.txt',\n",
       " 'as19990930.txt',\n",
       " 'as19991001.txt',\n",
       " 'as19991002.txt',\n",
       " 'as19991003.txt',\n",
       " 'as19991004.txt',\n",
       " 'as19991005.txt',\n",
       " 'as19991006.txt',\n",
       " 'as19991007.txt',\n",
       " 'as19991008.txt',\n",
       " 'as19991009.txt',\n",
       " 'as19991010.txt',\n",
       " 'as19991011.txt',\n",
       " 'as19991013.txt',\n",
       " 'as19991016.txt',\n",
       " 'as19991017.txt',\n",
       " 'as19991018.txt',\n",
       " 'as19991019.txt',\n",
       " 'as19991026.txt',\n",
       " 'as19991027.txt',\n",
       " 'as19991028.txt',\n",
       " 'as19991031.txt',\n",
       " 'as19991105.txt',\n",
       " 'as19991108.txt',\n",
       " 'as19991109.txt',\n",
       " 'as19991110.txt',\n",
       " 'as19991111.txt',\n",
       " 'as19991112.txt',\n",
       " 'as19991113.txt',\n",
       " 'as19991114.txt',\n",
       " 'as19991115.txt',\n",
       " 'as19991116.txt',\n",
       " 'as19991118.txt',\n",
       " 'as19991121.txt',\n",
       " 'as19991122.txt',\n",
       " 'as19991204.txt',\n",
       " 'as19991205.txt',\n",
       " 'as19991206.txt',\n",
       " 'as19991208.txt',\n",
       " 'as19991209.txt',\n",
       " 'as19991210.txt',\n",
       " 'as19991211.txt',\n",
       " 'as19991212.txt',\n",
       " 'as19991213.txt',\n",
       " 'as19991214.txt',\n",
       " 'as19991215.txt',\n",
       " 'as19991216.txt',\n",
       " 'as19991217.txt',\n",
       " 'as19991218.txt',\n",
       " 'as19991219.txt',\n",
       " 'as19991220.txt',\n",
       " 'as19991221.txt',\n",
       " 'as19991222.txt',\n",
       " 'as19991223.txt',\n",
       " 'as19991224.txt',\n",
       " 'as19991225.txt',\n",
       " 'as19991226.txt',\n",
       " 'as19991227.txt',\n",
       " 'as19991228.txt',\n",
       " 'as19991229.txt',\n",
       " 'as19991230.txt',\n",
       " 'as19991231.txt',\n",
       " 'as20000101.txt',\n",
       " 'as20000102.txt']"
      ]
     },
     "execution_count": 3,
     "metadata": {},
     "output_type": "execute_result"
    }
   ],
   "source": []
  },
  {
   "cell_type": "code",
   "execution_count": null,
   "metadata": {},
   "outputs": [],
   "source": []
  }
 ],
 "metadata": {
  "kernelspec": {
   "display_name": "Python 3",
   "language": "python",
   "name": "python3"
  },
  "language_info": {
   "codemirror_mode": {
    "name": "ipython",
    "version": 3
   },
   "file_extension": ".py",
   "mimetype": "text/x-python",
   "name": "python",
   "nbconvert_exporter": "python",
   "pygments_lexer": "ipython3",
   "version": "3.8.5"
  }
 },
 "nbformat": 4,
 "nbformat_minor": 4
}
