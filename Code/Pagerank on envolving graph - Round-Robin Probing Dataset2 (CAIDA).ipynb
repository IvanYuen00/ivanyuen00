{
 "cells": [
  {
   "cell_type": "code",
   "execution_count": 2,
   "metadata": {},
   "outputs": [],
   "source": [
    "import networkx as nx\n",
    "import numpy as np\n",
    "import random\n",
    "import os\n",
    "import matplotlib.pyplot as plt\n",
    "import time\n",
    "from collections import Counter\n",
    "%matplotlib inline \n",
    "from tqdm import tqdm\n",
    "\n",
    "# parameters\n",
    "\n",
    "alpha = 0.15\n",
    "a = [1, 2, 4]\n",
    "\n",
    "def read_folder() : # ok\n",
    "    all_files = sorted(os.listdir(path = \"C:/Users/Chun Lok/Downloads/as-caida\"))\n",
    "    # print(all_files)\n",
    "    return all_files\n",
    "\n",
    "def envolving_graph(file):    \n",
    "    f = open(file)\n",
    "    G = nx.Graph()\n",
    "\n",
    "    n_lines = len(f.readlines())\n",
    "    # print(n_lines)\n",
    "    f = open(file)\n",
    "    line = f.readline()\n",
    "    # print(line)\n",
    "    line = f.readline()\n",
    "    # print(line)\n",
    "    line = f.readline()\n",
    "    # print(line)\n",
    "    line = f.readline()\n",
    "    # print(line)\n",
    "    line = f.readline()\n",
    "    # print(line)\n",
    "    line = f.readline()\n",
    "    # print(line)\n",
    "    line = f.readline()\n",
    "    # print(line)\n",
    "    line = f.readline()\n",
    "\n",
    "    for i in range(8, n_lines) :\n",
    "        line = f.readline()      \n",
    "        line = line[:-1]\n",
    "        line = line.split(\"\\t\")\n",
    "        a = int(line[0])\n",
    "        b = int(line[1])\n",
    "        G.add_edge(a,b)\n",
    "\n",
    "    f.close()\n",
    "    return G\n",
    "\n",
    "def current_graph(file) :\n",
    "    f = open(file)\n",
    "    r = nx.Graph()\n",
    "\n",
    "    n_lines = len(f.readlines())\n",
    "    # print(n_lines)\n",
    "    f = open(file)\n",
    "    line = f.readline()\n",
    "    # print(line)\n",
    "    line = f.readline()\n",
    "    # print(line)\n",
    "    line = f.readline()\n",
    "    # print(line)\n",
    "    line = f.readline()\n",
    "    # print(line)\n",
    "    line = f.readline()\n",
    "    # print(line)\n",
    "    line = f.readline()\n",
    "    # print(line)\n",
    "    line = f.readline()\n",
    "    # print(line)\n",
    "    line = f.readline()\n",
    "\n",
    "    for i in range(8, n_lines):\n",
    "        line = f.readline()\n",
    "        line = line[:-1]\n",
    "        line = line.split(\"\\t\")\n",
    "        a = int(line[0])\n",
    "        b = int(line[1])\n",
    "        r.add_edge(a, b)\n",
    "        \n",
    "    f.close()\n",
    "    return r\n",
    "\n",
    "def update_graph(graph, newnode) :\n",
    "    G = graph\n",
    "    E = list(G.edges())\n",
    "\n",
    "    edge = random.choice(E)\n",
    "    u = edge[0]\n",
    "    v = edge[1]\n",
    "\n",
    "    # change of head\n",
    "    G.remove_edge(u,v)\n",
    "    u = newnode\n",
    "    G.add_edge(u, v)\n",
    "\n",
    "    return G # new graph\n",
    "\n",
    "def RoundRobin_probing(node_list, current_graph, count) :\n",
    "    loopnode = -1\n",
    "    while True :\n",
    "        loopnode = node_list[count]\n",
    "        count += 1\n",
    "        if loopnode == node_list[-1] :\n",
    "            count = 0\n",
    "        if current_graph.has_node(loopnode):\n",
    "            break\n",
    "\n",
    "    return loopnode, count\n",
    "\n",
    "def PowerIteration(graph) :\n",
    "    V = list(graph.nodes())\n",
    "    n = len(V)\n",
    "    for i in range(len(V)):\n",
    "        v = V[i]\n",
    "        graph.nodes[v][\"old_pi\"] = 1/n\n",
    "        graph.nodes[v][\"new_pi\"] = 1/n\n",
    "\n",
    "    # power iterations\n",
    "    iterations_count = 0\n",
    "    while True:\n",
    "        iterations_count += 1  # (pi(1)->pi(t))\n",
    "        # iterate\n",
    "        for i in range(len(V)):\n",
    "            v = V[i]\n",
    "            graph.nodes[v][\"old_pi\"] = graph.nodes[v][\"new_pi\"]\n",
    "            graph.nodes[v][\"new_pi\"] = 0\n",
    "\n",
    "        for i in range(len(V)):\n",
    "            v = V[i]\n",
    "            temp = 0\n",
    "            for u in graph.neighbors(v):\n",
    "                temp += graph.nodes[u][\"old_pi\"] / len(list(graph.neighbors(u)))\n",
    "            graph.nodes[v][\"new_pi\"] = (1 - alpha) * temp + alpha / n\n",
    "\n",
    "        # check convergence\n",
    "        tol = 0\n",
    "        for i in range(len(V)):\n",
    "            v = V[i]\n",
    "            tol += np.abs(graph.nodes[v][\"old_pi\"] - graph.nodes[v][\"new_pi\"])\n",
    "\n",
    "        if tol < 1e-9:\n",
    "            # print(\"convergence\")\n",
    "            break\n",
    "\n",
    "    # set an attribute true pagerank pi to all nodes\n",
    "\n",
    "    pagerank = {}\n",
    "    for i in range(len(V)):\n",
    "        v = V[i]\n",
    "        pagerank[v] = graph.nodes[v][\"new_pi\"]\n",
    "        graph.nodes[v][\"real.pi\"] = graph.nodes[v][\"new_pi\"]\n",
    "\n",
    "    return pagerank\n",
    "\n",
    "def L_error(true_pi, estimated_pi) :\n",
    "    # L1 = sum of (estimated_pi - true_pi) at any time step t\n",
    "    # Linfinity = max error of pagerank\n",
    "    \n",
    "    list = []\n",
    "    for key in true_pi:\n",
    "        if key not in list:\n",
    "            list.append(key)\n",
    "\n",
    "    for key in estimated_pi:\n",
    "        if key not in list:\n",
    "            list.append(key)\n",
    "     \n",
    "    check= len(set(list)) == len(list)\n",
    "    \n",
    "    if(check) : # whether all distinct node\n",
    "        print(\"True\")\n",
    "    else :\n",
    "        print(\"false\")\n",
    "        \n",
    "    # print(true_pi[list[1]])\n",
    "    # print(estimated_pi[list[1]])\n",
    "    # print(list[1])\n",
    "    # print(len(list))    \n",
    "    result = np.zeros(len(list))\n",
    "\n",
    "    # print(estimated_pi(list[1]))\n",
    "    # print(len(list))\n",
    "    \n",
    "    count = 0\n",
    "    for i in range(len(list)) :\n",
    "        if((list[i] in estimated_pi) and (list[i] in true_pi )) :\n",
    "            result[i] = abs((estimated_pi[list[i]])-(true_pi[list[i]]))          \n",
    "        elif ((list[i] in estimated_pi) and (list[i] not in true_pi)) :\n",
    "            result[i] = estimated_pi[list[i]]            \n",
    "        else :\n",
    "            result[i] = true_pi[list[i]] \n",
    "        count+=result[i]\n",
    "        \n",
    "    # print(count)\n",
    "    # print(max(result))\n",
    "    return count , max(result)\n"
   ]
  },
  {
   "cell_type": "code",
   "execution_count": 3,
   "metadata": {},
   "outputs": [
    {
     "name": "stderr",
     "output_type": "stream",
     "text": [
      "Loading…:   1%|▏                         | 1/121 [00:51<1:42:03, 51.03s/it]"
     ]
    },
    {
     "name": "stdout",
     "output_type": "stream",
     "text": [
      "True\n"
     ]
    },
    {
     "name": "stderr",
     "output_type": "stream",
     "text": [
      "Loading…:   2%|▍                         | 2/121 [01:41<1:40:06, 50.48s/it]"
     ]
    },
    {
     "name": "stdout",
     "output_type": "stream",
     "text": [
      "True\n"
     ]
    },
    {
     "name": "stderr",
     "output_type": "stream",
     "text": [
      "Loading…:   2%|▋                         | 3/121 [02:32<1:39:38, 50.67s/it]"
     ]
    },
    {
     "name": "stdout",
     "output_type": "stream",
     "text": [
      "True\n"
     ]
    },
    {
     "name": "stderr",
     "output_type": "stream",
     "text": [
      "Loading…:   3%|▊                         | 4/121 [03:21<1:38:10, 50.35s/it]"
     ]
    },
    {
     "name": "stdout",
     "output_type": "stream",
     "text": [
      "True\n"
     ]
    },
    {
     "name": "stderr",
     "output_type": "stream",
     "text": [
      "Loading…:   4%|█                         | 5/121 [04:13<1:38:30, 50.95s/it]"
     ]
    },
    {
     "name": "stdout",
     "output_type": "stream",
     "text": [
      "True\n"
     ]
    },
    {
     "name": "stderr",
     "output_type": "stream",
     "text": [
      "Loading…:   5%|█▎                        | 6/121 [05:06<1:38:48, 51.55s/it]"
     ]
    },
    {
     "name": "stdout",
     "output_type": "stream",
     "text": [
      "True\n"
     ]
    },
    {
     "name": "stderr",
     "output_type": "stream",
     "text": [
      "Loading…:   6%|█▌                        | 7/121 [05:59<1:38:36, 51.90s/it]"
     ]
    },
    {
     "name": "stdout",
     "output_type": "stream",
     "text": [
      "True\n"
     ]
    },
    {
     "name": "stderr",
     "output_type": "stream",
     "text": [
      "Loading…:   7%|█▋                        | 8/121 [06:55<1:40:06, 53.16s/it]"
     ]
    },
    {
     "name": "stdout",
     "output_type": "stream",
     "text": [
      "True\n"
     ]
    },
    {
     "name": "stderr",
     "output_type": "stream",
     "text": [
      "Loading…:   7%|█▉                        | 9/121 [07:50<1:40:17, 53.73s/it]"
     ]
    },
    {
     "name": "stdout",
     "output_type": "stream",
     "text": [
      "True\n"
     ]
    },
    {
     "name": "stderr",
     "output_type": "stream",
     "text": [
      "Loading…:   8%|██                       | 10/121 [08:45<1:40:14, 54.18s/it]"
     ]
    },
    {
     "name": "stdout",
     "output_type": "stream",
     "text": [
      "True\n"
     ]
    },
    {
     "name": "stderr",
     "output_type": "stream",
     "text": [
      "Loading…:   9%|██▎                      | 11/121 [09:43<1:41:35, 55.42s/it]"
     ]
    },
    {
     "name": "stdout",
     "output_type": "stream",
     "text": [
      "True\n"
     ]
    },
    {
     "name": "stderr",
     "output_type": "stream",
     "text": [
      "Loading…:  10%|██▍                      | 12/121 [10:41<1:41:52, 56.08s/it]"
     ]
    },
    {
     "name": "stdout",
     "output_type": "stream",
     "text": [
      "True\n"
     ]
    },
    {
     "name": "stderr",
     "output_type": "stream",
     "text": [
      "Loading…:  11%|██▋                      | 13/121 [11:38<1:41:54, 56.62s/it]"
     ]
    },
    {
     "name": "stdout",
     "output_type": "stream",
     "text": [
      "True\n"
     ]
    },
    {
     "name": "stderr",
     "output_type": "stream",
     "text": [
      "Loading…:  12%|██▉                      | 14/121 [12:39<1:43:05, 57.80s/it]"
     ]
    },
    {
     "name": "stdout",
     "output_type": "stream",
     "text": [
      "True\n"
     ]
    },
    {
     "name": "stderr",
     "output_type": "stream",
     "text": [
      "Loading…:  12%|███                      | 15/121 [13:38<1:42:37, 58.09s/it]"
     ]
    },
    {
     "name": "stdout",
     "output_type": "stream",
     "text": [
      "True\n"
     ]
    },
    {
     "name": "stderr",
     "output_type": "stream",
     "text": [
      "Loading…:  13%|███▎                     | 16/121 [14:38<1:42:53, 58.79s/it]"
     ]
    },
    {
     "name": "stdout",
     "output_type": "stream",
     "text": [
      "True\n"
     ]
    },
    {
     "name": "stderr",
     "output_type": "stream",
     "text": [
      "Loading…:  14%|███▌                     | 17/121 [15:37<1:42:02, 58.87s/it]"
     ]
    },
    {
     "name": "stdout",
     "output_type": "stream",
     "text": [
      "True\n"
     ]
    },
    {
     "name": "stderr",
     "output_type": "stream",
     "text": [
      "Loading…:  15%|███▋                     | 18/121 [16:40<1:42:58, 59.99s/it]"
     ]
    },
    {
     "name": "stdout",
     "output_type": "stream",
     "text": [
      "True\n"
     ]
    },
    {
     "name": "stderr",
     "output_type": "stream",
     "text": [
      "Loading…:  16%|███▉                     | 19/121 [17:41<1:42:42, 60.42s/it]"
     ]
    },
    {
     "name": "stdout",
     "output_type": "stream",
     "text": [
      "True\n"
     ]
    },
    {
     "name": "stderr",
     "output_type": "stream",
     "text": [
      "Loading…:  17%|████▏                    | 20/121 [18:41<1:41:31, 60.31s/it]"
     ]
    },
    {
     "name": "stdout",
     "output_type": "stream",
     "text": [
      "True\n"
     ]
    },
    {
     "name": "stderr",
     "output_type": "stream",
     "text": [
      "Loading…:  17%|████▎                    | 21/121 [19:41<1:40:02, 60.02s/it]"
     ]
    },
    {
     "name": "stdout",
     "output_type": "stream",
     "text": [
      "True\n"
     ]
    },
    {
     "name": "stderr",
     "output_type": "stream",
     "text": [
      "Loading…:  18%|████▌                    | 22/121 [20:42<1:39:33, 60.34s/it]"
     ]
    },
    {
     "name": "stdout",
     "output_type": "stream",
     "text": [
      "True\n"
     ]
    },
    {
     "name": "stderr",
     "output_type": "stream",
     "text": [
      "Loading…:  19%|████▊                    | 23/121 [21:44<1:39:38, 61.01s/it]"
     ]
    },
    {
     "name": "stdout",
     "output_type": "stream",
     "text": [
      "True\n"
     ]
    },
    {
     "name": "stderr",
     "output_type": "stream",
     "text": [
      "Loading…:  20%|████▉                    | 24/121 [22:48<1:40:10, 61.97s/it]"
     ]
    },
    {
     "name": "stdout",
     "output_type": "stream",
     "text": [
      "True\n"
     ]
    },
    {
     "name": "stderr",
     "output_type": "stream",
     "text": [
      "Loading…:  21%|█████▏                   | 25/121 [23:51<1:39:29, 62.18s/it]"
     ]
    },
    {
     "name": "stdout",
     "output_type": "stream",
     "text": [
      "True\n"
     ]
    },
    {
     "name": "stderr",
     "output_type": "stream",
     "text": [
      "Loading…:  21%|█████▎                   | 26/121 [24:54<1:38:35, 62.27s/it]"
     ]
    },
    {
     "name": "stdout",
     "output_type": "stream",
     "text": [
      "True\n"
     ]
    },
    {
     "name": "stderr",
     "output_type": "stream",
     "text": [
      "Loading…:  22%|█████▌                   | 27/121 [25:55<1:37:18, 62.12s/it]"
     ]
    },
    {
     "name": "stdout",
     "output_type": "stream",
     "text": [
      "True\n"
     ]
    },
    {
     "name": "stderr",
     "output_type": "stream",
     "text": [
      "Loading…:  23%|█████▊                   | 28/121 [26:58<1:36:34, 62.30s/it]"
     ]
    },
    {
     "name": "stdout",
     "output_type": "stream",
     "text": [
      "True\n"
     ]
    },
    {
     "name": "stderr",
     "output_type": "stream",
     "text": [
      "Loading…:  24%|█████▉                   | 29/121 [28:01<1:35:54, 62.55s/it]"
     ]
    },
    {
     "name": "stdout",
     "output_type": "stream",
     "text": [
      "True\n"
     ]
    },
    {
     "name": "stderr",
     "output_type": "stream",
     "text": [
      "Loading…:  25%|██████▏                  | 30/121 [29:04<1:35:01, 62.65s/it]"
     ]
    },
    {
     "name": "stdout",
     "output_type": "stream",
     "text": [
      "True\n"
     ]
    },
    {
     "name": "stderr",
     "output_type": "stream",
     "text": [
      "Loading…:  26%|██████▍                  | 31/121 [30:09<1:34:46, 63.18s/it]"
     ]
    },
    {
     "name": "stdout",
     "output_type": "stream",
     "text": [
      "True\n"
     ]
    },
    {
     "name": "stderr",
     "output_type": "stream",
     "text": [
      "Loading…:  26%|██████▌                  | 32/121 [31:13<1:34:25, 63.66s/it]"
     ]
    },
    {
     "name": "stdout",
     "output_type": "stream",
     "text": [
      "True\n"
     ]
    },
    {
     "name": "stderr",
     "output_type": "stream",
     "text": [
      "Loading…:  27%|██████▊                  | 33/121 [32:18<1:33:58, 64.08s/it]"
     ]
    },
    {
     "name": "stdout",
     "output_type": "stream",
     "text": [
      "True\n"
     ]
    },
    {
     "name": "stderr",
     "output_type": "stream",
     "text": [
      "Loading…:  28%|███████                  | 34/121 [33:23<1:33:05, 64.20s/it]"
     ]
    },
    {
     "name": "stdout",
     "output_type": "stream",
     "text": [
      "True\n"
     ]
    },
    {
     "name": "stderr",
     "output_type": "stream",
     "text": [
      "Loading…:  29%|███████▏                 | 35/121 [34:27<1:31:59, 64.18s/it]"
     ]
    },
    {
     "name": "stdout",
     "output_type": "stream",
     "text": [
      "True\n"
     ]
    },
    {
     "name": "stderr",
     "output_type": "stream",
     "text": [
      "Loading…:  30%|███████▍                 | 36/121 [35:31<1:30:47, 64.09s/it]"
     ]
    },
    {
     "name": "stdout",
     "output_type": "stream",
     "text": [
      "True\n"
     ]
    },
    {
     "name": "stderr",
     "output_type": "stream",
     "text": [
      "Loading…:  31%|███████▋                 | 37/121 [36:36<1:30:19, 64.52s/it]"
     ]
    },
    {
     "name": "stdout",
     "output_type": "stream",
     "text": [
      "True\n"
     ]
    },
    {
     "name": "stderr",
     "output_type": "stream",
     "text": [
      "Loading…:  31%|███████▊                 | 38/121 [37:41<1:29:14, 64.52s/it]"
     ]
    },
    {
     "name": "stdout",
     "output_type": "stream",
     "text": [
      "True\n"
     ]
    },
    {
     "name": "stderr",
     "output_type": "stream",
     "text": [
      "Loading…:  32%|████████                 | 39/121 [38:47<1:28:55, 65.07s/it]"
     ]
    },
    {
     "name": "stdout",
     "output_type": "stream",
     "text": [
      "True\n"
     ]
    },
    {
     "name": "stderr",
     "output_type": "stream",
     "text": [
      "Loading…:  33%|████████▎                | 40/121 [39:56<1:29:15, 66.12s/it]"
     ]
    },
    {
     "name": "stdout",
     "output_type": "stream",
     "text": [
      "True\n"
     ]
    },
    {
     "name": "stderr",
     "output_type": "stream",
     "text": [
      "Loading…:  34%|████████▍                | 41/121 [41:09<1:30:59, 68.24s/it]"
     ]
    },
    {
     "name": "stdout",
     "output_type": "stream",
     "text": [
      "True\n"
     ]
    },
    {
     "name": "stderr",
     "output_type": "stream",
     "text": [
      "Loading…:  35%|████████▋                | 42/121 [42:15<1:29:08, 67.71s/it]"
     ]
    },
    {
     "name": "stdout",
     "output_type": "stream",
     "text": [
      "True\n"
     ]
    },
    {
     "name": "stderr",
     "output_type": "stream",
     "text": [
      "Loading…:  36%|████████▉                | 43/121 [43:21<1:27:18, 67.16s/it]"
     ]
    },
    {
     "name": "stdout",
     "output_type": "stream",
     "text": [
      "True\n"
     ]
    },
    {
     "name": "stderr",
     "output_type": "stream",
     "text": [
      "Loading…:  36%|█████████                | 44/121 [44:26<1:25:10, 66.37s/it]"
     ]
    },
    {
     "name": "stdout",
     "output_type": "stream",
     "text": [
      "True\n"
     ]
    },
    {
     "name": "stderr",
     "output_type": "stream",
     "text": [
      "Loading…:  37%|█████████▎               | 45/121 [45:43<1:28:09, 69.60s/it]"
     ]
    },
    {
     "name": "stdout",
     "output_type": "stream",
     "text": [
      "True\n"
     ]
    },
    {
     "name": "stderr",
     "output_type": "stream",
     "text": [
      "Loading…:  38%|█████████▌               | 46/121 [46:49<1:25:42, 68.57s/it]"
     ]
    },
    {
     "name": "stdout",
     "output_type": "stream",
     "text": [
      "True\n"
     ]
    },
    {
     "name": "stderr",
     "output_type": "stream",
     "text": [
      "Loading…:  39%|█████████▋               | 47/121 [47:55<1:23:43, 67.89s/it]"
     ]
    },
    {
     "name": "stdout",
     "output_type": "stream",
     "text": [
      "True\n"
     ]
    },
    {
     "name": "stderr",
     "output_type": "stream",
     "text": [
      "Loading…:  40%|█████████▉               | 48/121 [49:09<1:24:28, 69.43s/it]"
     ]
    },
    {
     "name": "stdout",
     "output_type": "stream",
     "text": [
      "True\n"
     ]
    },
    {
     "name": "stderr",
     "output_type": "stream",
     "text": [
      "Loading…:  40%|██████████               | 49/121 [50:19<1:23:47, 69.82s/it]"
     ]
    },
    {
     "name": "stdout",
     "output_type": "stream",
     "text": [
      "True\n"
     ]
    },
    {
     "name": "stderr",
     "output_type": "stream",
     "text": [
      "Loading…:  41%|██████████▎              | 50/121 [51:26<1:21:28, 68.85s/it]"
     ]
    },
    {
     "name": "stdout",
     "output_type": "stream",
     "text": [
      "True\n"
     ]
    },
    {
     "name": "stderr",
     "output_type": "stream",
     "text": [
      "Loading…:  42%|██████████▌              | 51/121 [52:32<1:19:23, 68.05s/it]"
     ]
    },
    {
     "name": "stdout",
     "output_type": "stream",
     "text": [
      "True\n"
     ]
    },
    {
     "name": "stderr",
     "output_type": "stream",
     "text": [
      "Loading…:  43%|██████████▋              | 52/121 [53:37<1:17:18, 67.23s/it]"
     ]
    },
    {
     "name": "stdout",
     "output_type": "stream",
     "text": [
      "True\n"
     ]
    },
    {
     "name": "stderr",
     "output_type": "stream",
     "text": [
      "Loading…:  44%|██████████▉              | 53/121 [54:53<1:18:55, 69.65s/it]"
     ]
    },
    {
     "name": "stdout",
     "output_type": "stream",
     "text": [
      "True\n"
     ]
    },
    {
     "name": "stderr",
     "output_type": "stream",
     "text": [
      "Loading…:  45%|███████████▏             | 54/121 [56:33<1:28:05, 78.89s/it]"
     ]
    },
    {
     "name": "stdout",
     "output_type": "stream",
     "text": [
      "True\n"
     ]
    },
    {
     "name": "stderr",
     "output_type": "stream",
     "text": [
      "Loading…:  45%|███████████▎             | 55/121 [58:19<1:35:50, 87.13s/it]"
     ]
    },
    {
     "name": "stdout",
     "output_type": "stream",
     "text": [
      "True\n"
     ]
    },
    {
     "name": "stderr",
     "output_type": "stream",
     "text": [
      "Loading…:  46%|██████████▋            | 56/121 [1:00:04<1:40:03, 92.36s/it]"
     ]
    },
    {
     "name": "stdout",
     "output_type": "stream",
     "text": [
      "True\n"
     ]
    },
    {
     "name": "stderr",
     "output_type": "stream",
     "text": [
      "Loading…:  47%|██████████▊            | 57/121 [1:01:55<1:44:28, 97.95s/it]"
     ]
    },
    {
     "name": "stdout",
     "output_type": "stream",
     "text": [
      "True\n"
     ]
    },
    {
     "name": "stderr",
     "output_type": "stream",
     "text": [
      "Loading…:  48%|███████████            | 58/121 [1:03:39<1:44:44, 99.76s/it]"
     ]
    },
    {
     "name": "stdout",
     "output_type": "stream",
     "text": [
      "True\n"
     ]
    },
    {
     "name": "stderr",
     "output_type": "stream",
     "text": [
      "Loading…:  49%|███████████▏           | 59/121 [1:05:01<1:37:30, 94.36s/it]"
     ]
    },
    {
     "name": "stdout",
     "output_type": "stream",
     "text": [
      "True\n"
     ]
    },
    {
     "name": "stderr",
     "output_type": "stream",
     "text": [
      "Loading…:  50%|███████████▍           | 60/121 [1:06:18<1:30:39, 89.18s/it]"
     ]
    },
    {
     "name": "stdout",
     "output_type": "stream",
     "text": [
      "True\n"
     ]
    },
    {
     "name": "stderr",
     "output_type": "stream",
     "text": [
      "Loading…:  50%|███████████▌           | 61/121 [1:07:35<1:25:38, 85.64s/it]"
     ]
    },
    {
     "name": "stdout",
     "output_type": "stream",
     "text": [
      "True\n"
     ]
    },
    {
     "name": "stderr",
     "output_type": "stream",
     "text": [
      "Loading…:  51%|███████████▊           | 62/121 [1:08:53<1:22:02, 83.43s/it]"
     ]
    },
    {
     "name": "stdout",
     "output_type": "stream",
     "text": [
      "True\n"
     ]
    },
    {
     "name": "stderr",
     "output_type": "stream",
     "text": [
      "Loading…:  52%|███████████▉           | 63/121 [1:10:10<1:18:35, 81.30s/it]"
     ]
    },
    {
     "name": "stdout",
     "output_type": "stream",
     "text": [
      "True\n"
     ]
    },
    {
     "name": "stderr",
     "output_type": "stream",
     "text": [
      "Loading…:  53%|████████████▏          | 64/121 [1:11:28<1:16:17, 80.30s/it]"
     ]
    },
    {
     "name": "stdout",
     "output_type": "stream",
     "text": [
      "True\n"
     ]
    },
    {
     "name": "stderr",
     "output_type": "stream",
     "text": [
      "Loading…:  54%|████████████▎          | 65/121 [1:12:50<1:15:35, 80.98s/it]"
     ]
    },
    {
     "name": "stdout",
     "output_type": "stream",
     "text": [
      "True\n"
     ]
    },
    {
     "name": "stderr",
     "output_type": "stream",
     "text": [
      "Loading…:  55%|████████████▌          | 66/121 [1:14:06<1:12:49, 79.45s/it]"
     ]
    },
    {
     "name": "stdout",
     "output_type": "stream",
     "text": [
      "True\n"
     ]
    },
    {
     "name": "stderr",
     "output_type": "stream",
     "text": [
      "Loading…:  55%|████████████▋          | 67/121 [1:15:24<1:10:56, 78.82s/it]"
     ]
    },
    {
     "name": "stdout",
     "output_type": "stream",
     "text": [
      "True\n"
     ]
    },
    {
     "name": "stderr",
     "output_type": "stream",
     "text": [
      "Loading…:  56%|████████████▉          | 68/121 [1:16:41<1:09:08, 78.28s/it]"
     ]
    },
    {
     "name": "stdout",
     "output_type": "stream",
     "text": [
      "True\n"
     ]
    },
    {
     "name": "stderr",
     "output_type": "stream",
     "text": [
      "Loading…:  57%|█████████████          | 69/121 [1:18:14<1:11:49, 82.88s/it]"
     ]
    },
    {
     "name": "stdout",
     "output_type": "stream",
     "text": [
      "True\n"
     ]
    },
    {
     "name": "stderr",
     "output_type": "stream",
     "text": [
      "Loading…:  58%|█████████████▎         | 70/121 [1:20:04<1:17:12, 90.83s/it]"
     ]
    },
    {
     "name": "stdout",
     "output_type": "stream",
     "text": [
      "True\n"
     ]
    },
    {
     "name": "stderr",
     "output_type": "stream",
     "text": [
      "Loading…:  59%|█████████████▍         | 71/121 [1:21:43<1:17:51, 93.43s/it]"
     ]
    },
    {
     "name": "stdout",
     "output_type": "stream",
     "text": [
      "True\n"
     ]
    },
    {
     "name": "stderr",
     "output_type": "stream",
     "text": [
      "Loading…:  60%|█████████████▋         | 72/121 [1:23:37<1:21:13, 99.46s/it]"
     ]
    },
    {
     "name": "stdout",
     "output_type": "stream",
     "text": [
      "True\n"
     ]
    },
    {
     "name": "stderr",
     "output_type": "stream",
     "text": [
      "Loading…:  60%|█████████████▎        | 73/121 [1:25:24<1:21:29, 101.86s/it]"
     ]
    },
    {
     "name": "stdout",
     "output_type": "stream",
     "text": [
      "True\n"
     ]
    },
    {
     "name": "stderr",
     "output_type": "stream",
     "text": [
      "Loading…:  61%|██████████████         | 74/121 [1:26:46<1:15:01, 95.77s/it]"
     ]
    },
    {
     "name": "stdout",
     "output_type": "stream",
     "text": [
      "True\n"
     ]
    },
    {
     "name": "stderr",
     "output_type": "stream",
     "text": [
      "Loading…:  62%|██████████████▎        | 75/121 [1:28:05<1:09:40, 90.89s/it]"
     ]
    },
    {
     "name": "stdout",
     "output_type": "stream",
     "text": [
      "True\n"
     ]
    },
    {
     "name": "stderr",
     "output_type": "stream",
     "text": [
      "Loading…:  63%|██████████████▍        | 76/121 [1:29:25<1:05:46, 87.70s/it]"
     ]
    },
    {
     "name": "stdout",
     "output_type": "stream",
     "text": [
      "True\n"
     ]
    },
    {
     "name": "stderr",
     "output_type": "stream",
     "text": [
      "Loading…:  64%|██████████████▋        | 77/121 [1:30:46<1:02:49, 85.66s/it]"
     ]
    },
    {
     "name": "stdout",
     "output_type": "stream",
     "text": [
      "True\n"
     ]
    },
    {
     "name": "stderr",
     "output_type": "stream",
     "text": [
      "Loading…:  64%|██████████████▊        | 78/121 [1:32:10<1:00:52, 84.94s/it]"
     ]
    },
    {
     "name": "stdout",
     "output_type": "stream",
     "text": [
      "True\n"
     ]
    },
    {
     "name": "stderr",
     "output_type": "stream",
     "text": [
      "Loading…:  65%|████████████████▎        | 79/121 [1:33:32<59:01, 84.33s/it]"
     ]
    },
    {
     "name": "stdout",
     "output_type": "stream",
     "text": [
      "True\n"
     ]
    },
    {
     "name": "stderr",
     "output_type": "stream",
     "text": [
      "Loading…:  66%|████████████████▌        | 80/121 [1:34:52<56:40, 82.93s/it]"
     ]
    },
    {
     "name": "stdout",
     "output_type": "stream",
     "text": [
      "True\n"
     ]
    },
    {
     "name": "stderr",
     "output_type": "stream",
     "text": [
      "Loading…:  67%|████████████████▋        | 81/121 [1:36:12<54:45, 82.13s/it]"
     ]
    },
    {
     "name": "stdout",
     "output_type": "stream",
     "text": [
      "True\n"
     ]
    },
    {
     "name": "stderr",
     "output_type": "stream",
     "text": [
      "Loading…:  68%|████████████████▉        | 82/121 [1:37:33<53:05, 81.67s/it]"
     ]
    },
    {
     "name": "stdout",
     "output_type": "stream",
     "text": [
      "True\n"
     ]
    },
    {
     "name": "stderr",
     "output_type": "stream",
     "text": [
      "Loading…:  69%|█████████████████▏       | 83/121 [1:38:53<51:29, 81.30s/it]"
     ]
    },
    {
     "name": "stdout",
     "output_type": "stream",
     "text": [
      "True\n"
     ]
    },
    {
     "name": "stderr",
     "output_type": "stream",
     "text": [
      "Loading…:  69%|█████████████████▎       | 84/121 [1:40:13<49:53, 80.90s/it]"
     ]
    },
    {
     "name": "stdout",
     "output_type": "stream",
     "text": [
      "True\n"
     ]
    },
    {
     "name": "stderr",
     "output_type": "stream",
     "text": [
      "Loading…:  70%|█████████████████▌       | 85/121 [1:41:36<48:49, 81.39s/it]"
     ]
    },
    {
     "name": "stdout",
     "output_type": "stream",
     "text": [
      "True\n"
     ]
    },
    {
     "name": "stderr",
     "output_type": "stream",
     "text": [
      "Loading…:  71%|█████████████████▊       | 86/121 [1:42:59<47:42, 81.79s/it]"
     ]
    },
    {
     "name": "stdout",
     "output_type": "stream",
     "text": [
      "True\n"
     ]
    },
    {
     "name": "stderr",
     "output_type": "stream",
     "text": [
      "Loading…:  72%|█████████████████▉       | 87/121 [1:44:26<47:13, 83.32s/it]"
     ]
    },
    {
     "name": "stdout",
     "output_type": "stream",
     "text": [
      "True\n"
     ]
    },
    {
     "name": "stderr",
     "output_type": "stream",
     "text": [
      "Loading…:  73%|██████████████████▏      | 88/121 [1:45:42<44:37, 81.14s/it]"
     ]
    },
    {
     "name": "stdout",
     "output_type": "stream",
     "text": [
      "True\n"
     ]
    },
    {
     "name": "stderr",
     "output_type": "stream",
     "text": [
      "Loading…:  74%|██████████████████▍      | 89/121 [1:46:53<41:47, 78.36s/it]"
     ]
    },
    {
     "name": "stdout",
     "output_type": "stream",
     "text": [
      "True\n"
     ]
    },
    {
     "name": "stderr",
     "output_type": "stream",
     "text": [
      "Loading…:  74%|██████████████████▌      | 90/121 [1:48:09<40:01, 77.47s/it]"
     ]
    },
    {
     "name": "stdout",
     "output_type": "stream",
     "text": [
      "True\n"
     ]
    },
    {
     "name": "stderr",
     "output_type": "stream",
     "text": [
      "Loading…:  75%|██████████████████▊      | 91/121 [1:49:35<39:57, 79.93s/it]"
     ]
    },
    {
     "name": "stdout",
     "output_type": "stream",
     "text": [
      "True\n"
     ]
    },
    {
     "name": "stderr",
     "output_type": "stream",
     "text": [
      "Loading…:  76%|███████████████████      | 92/121 [1:50:50<37:59, 78.60s/it]"
     ]
    },
    {
     "name": "stdout",
     "output_type": "stream",
     "text": [
      "True\n"
     ]
    },
    {
     "name": "stderr",
     "output_type": "stream",
     "text": [
      "Loading…:  77%|███████████████████▏     | 93/121 [1:52:05<36:14, 77.66s/it]"
     ]
    },
    {
     "name": "stdout",
     "output_type": "stream",
     "text": [
      "True\n"
     ]
    },
    {
     "name": "stderr",
     "output_type": "stream",
     "text": [
      "Loading…:  78%|███████████████████▍     | 94/121 [1:53:20<34:32, 76.74s/it]"
     ]
    },
    {
     "name": "stdout",
     "output_type": "stream",
     "text": [
      "True\n"
     ]
    },
    {
     "name": "stderr",
     "output_type": "stream",
     "text": [
      "Loading…:  79%|███████████████████▋     | 95/121 [1:54:36<33:09, 76.52s/it]"
     ]
    },
    {
     "name": "stdout",
     "output_type": "stream",
     "text": [
      "True\n"
     ]
    },
    {
     "name": "stderr",
     "output_type": "stream",
     "text": [
      "Loading…:  79%|███████████████████▊     | 96/121 [1:55:51<31:37, 75.91s/it]"
     ]
    },
    {
     "name": "stdout",
     "output_type": "stream",
     "text": [
      "True\n"
     ]
    },
    {
     "name": "stderr",
     "output_type": "stream",
     "text": [
      "Loading…:  80%|████████████████████     | 97/121 [1:57:08<30:30, 76.26s/it]"
     ]
    },
    {
     "name": "stdout",
     "output_type": "stream",
     "text": [
      "True\n"
     ]
    },
    {
     "name": "stderr",
     "output_type": "stream",
     "text": [
      "Loading…:  81%|████████████████████▏    | 98/121 [1:58:24<29:17, 76.41s/it]"
     ]
    },
    {
     "name": "stdout",
     "output_type": "stream",
     "text": [
      "True\n"
     ]
    },
    {
     "name": "stderr",
     "output_type": "stream",
     "text": [
      "Loading…:  82%|████████████████████▍    | 99/121 [1:59:41<28:02, 76.46s/it]"
     ]
    },
    {
     "name": "stdout",
     "output_type": "stream",
     "text": [
      "True\n"
     ]
    },
    {
     "name": "stderr",
     "output_type": "stream",
     "text": [
      "Loading…:  83%|███████████████████▊    | 100/121 [2:00:59<26:58, 77.07s/it]"
     ]
    },
    {
     "name": "stdout",
     "output_type": "stream",
     "text": [
      "True\n"
     ]
    },
    {
     "name": "stderr",
     "output_type": "stream",
     "text": [
      "Loading…:  83%|████████████████████    | 101/121 [2:02:19<25:57, 77.87s/it]"
     ]
    },
    {
     "name": "stdout",
     "output_type": "stream",
     "text": [
      "True\n"
     ]
    },
    {
     "name": "stderr",
     "output_type": "stream",
     "text": [
      "Loading…:  84%|████████████████████▏   | 102/121 [2:03:39<24:51, 78.52s/it]"
     ]
    },
    {
     "name": "stdout",
     "output_type": "stream",
     "text": [
      "True\n"
     ]
    },
    {
     "name": "stderr",
     "output_type": "stream",
     "text": [
      "Loading…:  85%|████████████████████▍   | 103/121 [2:04:58<23:35, 78.66s/it]"
     ]
    },
    {
     "name": "stdout",
     "output_type": "stream",
     "text": [
      "True\n"
     ]
    },
    {
     "name": "stderr",
     "output_type": "stream",
     "text": [
      "Loading…:  86%|████████████████████▋   | 104/121 [2:06:18<22:21, 78.93s/it]"
     ]
    },
    {
     "name": "stdout",
     "output_type": "stream",
     "text": [
      "True\n"
     ]
    },
    {
     "name": "stderr",
     "output_type": "stream",
     "text": [
      "Loading…:  87%|████████████████████▊   | 105/121 [2:07:35<20:55, 78.47s/it]"
     ]
    },
    {
     "name": "stdout",
     "output_type": "stream",
     "text": [
      "True\n"
     ]
    },
    {
     "name": "stderr",
     "output_type": "stream",
     "text": [
      "Loading…:  88%|█████████████████████   | 106/121 [2:08:56<19:46, 79.09s/it]"
     ]
    },
    {
     "name": "stdout",
     "output_type": "stream",
     "text": [
      "True\n"
     ]
    },
    {
     "name": "stderr",
     "output_type": "stream",
     "text": [
      "Loading…:  88%|█████████████████████▏  | 107/121 [2:10:26<19:13, 82.41s/it]"
     ]
    },
    {
     "name": "stdout",
     "output_type": "stream",
     "text": [
      "True\n"
     ]
    },
    {
     "name": "stderr",
     "output_type": "stream",
     "text": [
      "Loading…:  89%|█████████████████████▍  | 108/121 [2:11:43<17:32, 80.94s/it]"
     ]
    },
    {
     "name": "stdout",
     "output_type": "stream",
     "text": [
      "True\n"
     ]
    },
    {
     "name": "stderr",
     "output_type": "stream",
     "text": [
      "Loading…:  90%|█████████████████████▌  | 109/121 [2:13:05<16:13, 81.14s/it]"
     ]
    },
    {
     "name": "stdout",
     "output_type": "stream",
     "text": [
      "True\n"
     ]
    },
    {
     "name": "stderr",
     "output_type": "stream",
     "text": [
      "Loading…:  91%|█████████████████████▊  | 110/121 [2:14:22<14:37, 79.81s/it]"
     ]
    },
    {
     "name": "stdout",
     "output_type": "stream",
     "text": [
      "True\n"
     ]
    },
    {
     "name": "stderr",
     "output_type": "stream",
     "text": [
      "Loading…:  92%|██████████████████████  | 111/121 [2:15:38<13:08, 78.83s/it]"
     ]
    },
    {
     "name": "stdout",
     "output_type": "stream",
     "text": [
      "True\n"
     ]
    },
    {
     "name": "stderr",
     "output_type": "stream",
     "text": [
      "Loading…:  93%|██████████████████████▏ | 112/121 [2:16:58<11:50, 78.97s/it]"
     ]
    },
    {
     "name": "stdout",
     "output_type": "stream",
     "text": [
      "True\n"
     ]
    },
    {
     "name": "stderr",
     "output_type": "stream",
     "text": [
      "Loading…:  93%|██████████████████████▍ | 113/121 [2:17:34<08:49, 66.20s/it]"
     ]
    },
    {
     "name": "stdout",
     "output_type": "stream",
     "text": [
      "True\n"
     ]
    },
    {
     "name": "stderr",
     "output_type": "stream",
     "text": [
      "Loading…:  94%|██████████████████████▌ | 114/121 [2:18:51<08:05, 69.43s/it]"
     ]
    },
    {
     "name": "stdout",
     "output_type": "stream",
     "text": [
      "True\n"
     ]
    },
    {
     "name": "stderr",
     "output_type": "stream",
     "text": [
      "Loading…:  95%|██████████████████████▊ | 115/121 [2:20:04<07:02, 70.50s/it]"
     ]
    },
    {
     "name": "stdout",
     "output_type": "stream",
     "text": [
      "True\n"
     ]
    },
    {
     "name": "stderr",
     "output_type": "stream",
     "text": [
      "Loading…:  96%|███████████████████████ | 116/121 [2:21:22<06:04, 72.89s/it]"
     ]
    },
    {
     "name": "stdout",
     "output_type": "stream",
     "text": [
      "True\n"
     ]
    },
    {
     "name": "stderr",
     "output_type": "stream",
     "text": [
      "Loading…:  97%|███████████████████████▏| 117/121 [2:22:40<04:57, 74.41s/it]"
     ]
    },
    {
     "name": "stdout",
     "output_type": "stream",
     "text": [
      "True\n"
     ]
    },
    {
     "name": "stderr",
     "output_type": "stream",
     "text": [
      "Loading…:  98%|███████████████████████▍| 118/121 [2:23:58<03:45, 75.24s/it]"
     ]
    },
    {
     "name": "stdout",
     "output_type": "stream",
     "text": [
      "True\n"
     ]
    },
    {
     "name": "stderr",
     "output_type": "stream",
     "text": [
      "Loading…:  98%|███████████████████████▌| 119/121 [2:25:19<02:34, 77.09s/it]"
     ]
    },
    {
     "name": "stdout",
     "output_type": "stream",
     "text": [
      "True\n"
     ]
    },
    {
     "name": "stderr",
     "output_type": "stream",
     "text": [
      "Loading…:  99%|███████████████████████▊| 120/121 [2:26:38<01:17, 77.60s/it]"
     ]
    },
    {
     "name": "stdout",
     "output_type": "stream",
     "text": [
      "True\n"
     ]
    },
    {
     "name": "stderr",
     "output_type": "stream",
     "text": [
      "Loading…: 100%|████████████████████████| 121/121 [2:27:57<00:00, 73.37s/it]"
     ]
    },
    {
     "name": "stdout",
     "output_type": "stream",
     "text": [
      "True\n",
      "Complete\n"
     ]
    },
    {
     "name": "stderr",
     "output_type": "stream",
     "text": [
      "\n"
     ]
    }
   ],
   "source": [
    "list_of_file = read_folder()\n",
    "\n",
    "for i in range(len(list_of_file)) :\n",
    "    list_of_file[i] = \"C:/Users/Chun Lok/Downloads/as-caida/\" + list_of_file[i]  \n",
    "    \n",
    "# print(len(list_of_file))\n",
    "\n",
    "G = envolving_graph(list_of_file[0])\n",
    "# print(len(list(G.edges())))\n",
    "node_list = list(G.nodes())\n",
    "count = 0\n",
    "K = 1 # recomputing frequency \n",
    "changes = []\n",
    "L1_metric = []\n",
    "Linfinity_metric = []\n",
    "\n",
    "for i in tqdm(range(1,len(list_of_file)),desc=\"Loading…\", ascii=False, ncols=75) :\n",
    "    g = current_graph(list_of_file[i])\n",
    "    true_pi = PowerIteration(g) \n",
    "#______________________________________________________________________#\n",
    "    for j in range(K) :\n",
    "        node, count= RoundRobin_probing(node_list, g, count)\n",
    "        G = update_graph(G, node)        \n",
    "    changes.append(K)\n",
    "    K+=1\n",
    "    estimated_pi = PowerIteration(G)\n",
    "    \n",
    "    L1_error, Linfinity_error = L_error(true_pi, estimated_pi)\n",
    "    L1_metric.append(L1_error)\n",
    "    Linfinity_metric.append(Linfinity_error)\n",
    "\n",
    "    \n",
    "print(\"Complete\")\n"
   ]
  },
  {
   "cell_type": "code",
   "execution_count": 7,
   "metadata": {},
   "outputs": [
    {
     "name": "stdout",
     "output_type": "stream",
     "text": [
      "[0.08167521017719334, 0.11752508799164929, 0.16752273696375566, 0.19854657840208303, 0.22269890716019713, 0.24995428004705622, 0.26928477885543334, 0.2957435669739359, 0.3112262732639831, 0.32436408831207103, 0.3542500727268582, 0.36505459505554655, 0.3866597935388007, 0.40461742383404337, 0.41727137776325957, 0.4340412783906262, 0.4503404094466227, 0.4639698852226353, 0.47640055106076584, 0.4991801530416299, 0.5077249528526648, 0.522833825857864, 0.5373691388574091, 0.5473615639992543, 0.551566804501689, 0.5524756871899291, 0.5533602228108435, 0.5572732252428162, 0.5605613334290531, 0.5639601403239258, 0.5690989219035225, 0.5701689582438633, 0.5772352732920506, 0.5809093071348711, 0.582070481806182, 0.584875133982365, 0.5908529964659888, 0.5981889323625119, 0.5954544410071269, 0.5973342781441766, 0.5984272448709305, 0.6019418886865334, 0.6065105212566537, 0.6030115149635626, 0.6093111918399872, 0.6106142594388544, 0.615647437224887, 0.6194339652105884, 0.6224964552249862, 0.6271694040940194, 0.6295337238529756, 0.6349265837718088, 0.6352617679942115, 0.6374477596737828, 0.6399284756823158, 0.6426777574644904, 0.6425788727051562, 0.6511648634557069, 0.6512604756668935, 0.6554470273355026, 0.6564434922591957, 0.661435329654079, 0.6601297930820038, 0.6656486313221118, 0.6639802970294477, 0.6694819277732122, 0.6736009794730947, 0.6788507497195, 0.6851775692550935, 0.687968109753208, 0.686089034624458, 0.687043235058346, 0.6932986662944047, 0.6941728947463193, 0.7001103506263757, 0.7025929850365812, 0.7057174603099067, 0.7049598427056031, 0.708290188864234, 0.7449407550119072, 0.711418248093756, 0.716435527997844, 0.7166053476927853, 0.7229756644784099, 0.7263611169269291, 0.7298990630361977, 0.7310008406116202, 0.7354959155760046, 0.7376410664082172, 0.7414877320570887, 0.742991454026902, 0.7431412627809791, 0.7496554969599578, 0.7502844628552512, 0.7539862326276248, 0.7562825063377114, 0.7601993656065098, 0.7629637776584096, 0.7651000018291059, 0.7682116407468151, 0.7696039658121187, 0.7739337675623995, 0.7764109446029306, 0.7779607236715355, 0.7827366156440774, 0.7860822336010174, 0.7900388001890957, 0.7899460254945435, 0.7920503835122589, 0.7949845487785548, 0.8008198769451613, 0.8049522788914182, 1.0692730420491359, 0.8059053296263211, 0.808485407862688, 0.813859394324157, 0.8139220520520949, 0.8159996778727123, 0.8193275255540166, 0.82229366372739, 0.8212775160412417]\n",
      "[0.0009879614135771767, 0.0021655790013911697, 0.00565454092952709, 0.005623083834385305, 0.006604764268218646, 0.006726454899528486, 0.007000252135331127, 0.006952157783997909, 0.00733607865475438, 0.007294847988893014, 0.0071803232547492735, 0.007540748772459832, 0.008047967063775894, 0.009089840452847468, 0.009851086304405057, 0.010345236358134051, 0.010398740424678343, 0.010953728834750757, 0.01091301738798447, 0.011082869762706034, 0.01119797471805021, 0.011230556053269636, 0.010354124413678535, 0.01132170427056025, 0.011370827601830951, 0.011336686613893436, 0.0114797802579424, 0.011308325805166808, 0.011216730690481975, 0.011329407073076107, 0.01149733746019272, 0.011716881831656971, 0.011563021005634118, 0.011862422640692948, 0.011749883798808449, 0.012343962687030509, 0.012404964848307422, 0.012499061130140071, 0.01224088105232404, 0.012125691704389792, 0.012430335462154777, 0.01227122140932922, 0.012483042550958896, 0.011980226225156036, 0.012138644928496421, 0.012247035405579497, 0.012556532301302065, 0.012573128215566717, 0.012397730516091698, 0.012816000222715437, 0.012780932585077627, 0.012617518559598603, 0.012544585082793313, 0.012511832321407472, 0.012584350164638526, 0.012593487329520186, 0.012667061667013792, 0.012477798828561853, 0.01268706276181547, 0.0127122642616874, 0.012879656798577256, 0.01275790448695041, 0.012926313154969456, 0.012938664734890618, 0.013056242714938377, 0.013035669344576787, 0.013347175774144762, 0.013711985421002987, 0.012552201609860467, 0.013070530814866605, 0.012916729788280594, 0.012942461735080457, 0.013060116288100311, 0.013008337997336195, 0.013066035557181494, 0.012939557546206947, 0.013086831046961664, 0.012923863380155378, 0.013315770599256614, 0.013087011460939225, 0.01314997861983716, 0.013180766443421931, 0.013217544093579899, 0.01323734268503053, 0.013137148760328957, 0.013132723861538364, 0.012971010285314302, 0.013066468978062146, 0.013257162345260505, 0.013008391835559963, 0.013307451657995897, 0.012995704327979163, 0.01308119681991657, 0.013160813714392419, 0.013126022836285096, 0.013251880390044386, 0.013243068878971536, 0.013282470500693677, 0.013401894470648709, 0.013423522581669818, 0.013364048275127417, 0.01307503347259499, 0.01306133686990544, 0.01349890215933188, 0.01280484973390288, 0.013240051557191582, 0.01325579681347129, 0.013076975920902414, 0.013309658456402036, 0.013294384730973594, 0.013403660087156736, 0.013427888724413632, 0.021581365823098428, 0.013175594487438899, 0.013383906414430994, 0.013474394897471728, 0.013578712312145955, 0.013353782990387248, 0.013468746019850047, 0.013228184870636128, 0.013125305378096369]\n"
     ]
    }
   ],
   "source": [
    "#checking\n",
    "# print(L1_error)\n",
    "print(L1_metric) \n",
    "print(Linfinity_metric)\n"
   ]
  },
  {
   "cell_type": "markdown",
   "metadata": {},
   "source": [
    "# Plot error graph"
   ]
  },
  {
   "cell_type": "code",
   "execution_count": 8,
   "metadata": {},
   "outputs": [],
   "source": [
    "def L1_error_graph(L1_metric) :\n",
    "        \n",
    "    ch = [1]\n",
    "    for i in range(2,122):\n",
    "        ch.append(ch[i-2]+i)\n",
    "         \n",
    "    # print(ch)\n",
    "    plt.plot(ch ,L1_metric)\n",
    "    plt.ylabel('averageL1_error')\n",
    "    plt.xlabel('# changes')\n",
    "    plt.show()\n",
    "    \n",
    "\n",
    "def Linfinity_error_graph(Linfinity_metric) :\n",
    "    \n",
    "    ch = [1]\n",
    "    for i in range(2,122):\n",
    "        ch.append(ch[i-2]+i)\n",
    "        \n",
    "    plt.plot(ch,Linfinity_metric)\n",
    "    plt.ylabel('averageLinfinity_error')\n",
    "    plt.xlabel('# changes')\n",
    "    plt.title\n",
    "    plt.show()"
   ]
  },
  {
   "cell_type": "code",
   "execution_count": 10,
   "metadata": {},
   "outputs": [
    {
     "data": {
      "image/png": "[encoded data removed]",
      "text/plain": [
       "<Figure size 640x480 with 1 Axes>"
      ]
     },
     "metadata": {},
     "output_type": "display_data"
    },
    {
     "data": {
      "image/png": "[encoded data removed]",
      "text/plain": [
       "<Figure size 640x480 with 1 Axes>"
      ]
     },
     "metadata": {},
     "output_type": "display_data"
    }
   ],
   "source": [
    "L1_error_graph(L1_metric)\n",
    "Linfinity_error_graph(Linfinity_metric)"
   ]
  },
  {
   "cell_type": "code",
   "execution_count": null,
   "metadata": {},
   "outputs": [],
   "source": []
  }
 ],
 "metadata": {
  "kernelspec": {
   "display_name": "Python 3 (ipykernel)",
   "language": "python",
   "name": "python3"
  },
  "language_info": {
   "codemirror_mode": {
    "name": "ipython",
    "version": 3
   },
   "file_extension": ".py",
   "mimetype": "text/x-python",
   "name": "python",
   "nbconvert_exporter": "python",
   "pygments_lexer": "ipython3",
   "version": "3.9.13"
  }
 },
 "nbformat": 4,
 "nbformat_minor": 4
}
